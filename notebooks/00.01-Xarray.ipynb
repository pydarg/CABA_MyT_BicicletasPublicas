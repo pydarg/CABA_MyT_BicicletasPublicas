{
 "cells": [
  {
   "cell_type": "code",
   "execution_count": 2,
   "metadata": {},
   "outputs": [],
   "source": [
    "from localpacks.data import get_data\n",
    "import xarray as xr"
   ]
  },
  {
   "cell_type": "markdown",
   "metadata": {},
   "source": [
    "#### 1.1  Importamos nuestros datasets"
   ]
  },
  {
   "cell_type": "code",
   "execution_count": 3,
   "metadata": {},
   "outputs": [
    {
     "name": "stderr",
     "output_type": "stream",
     "text": [
      "C:\\Users\\USUARIO\\OneDrive\\Documentos\\3_gitHubProjects\\CABA_MyT_BicicletasPublicas\\notebooks\\localpacks\\data.py:126: SettingWithCopyWarning: \n",
      "A value is trying to be set on a copy of a slice from a DataFrame.\n",
      "Try using .loc[row_indexer,col_indexer] = value instead\n",
      "\n",
      "See the caveats in the documentation: http://pandas.pydata.org/pandas-docs/stable/indexing.html#indexing-view-versus-copy\n",
      "  df['TIEMPOUSO'] = df['TIEMPOUSO'].astype('int64', errors='ignore') * 60 #convertimos minutos(m) a segundos(s)\n"
     ]
    }
   ],
   "source": [
    "#Rango de 2010 al 2018\n",
    "df_2010 = get_data(year=2010, apply_format=True)\n",
    "df_2011 = get_data(year=2011, apply_format=True)\n",
    "df_2012 = get_data(year=2012, apply_format=True)\n",
    "df_2013 = get_data(year=2013, apply_format=True)\n",
    "df_2014 = get_data(year=2014, apply_format=True)\n",
    "df_2015 = get_data(year=2015, apply_format=True)\n",
    "df_2016 = get_data(year=2016, apply_format=True)\n",
    "df_2017 = get_data(year=2017, apply_format=True)\n",
    "df_2018 = get_data(year=2018, apply_format=True)"
   ]
  },
  {
   "cell_type": "code",
   "execution_count": 13,
   "metadata": {},
   "outputs": [
    {
     "data": {
      "text/html": [
       "<div>\n",
       "<style scoped>\n",
       "    .dataframe tbody tr th:only-of-type {\n",
       "        vertical-align: middle;\n",
       "    }\n",
       "\n",
       "    .dataframe tbody tr th {\n",
       "        vertical-align: top;\n",
       "    }\n",
       "\n",
       "    .dataframe thead th {\n",
       "        text-align: right;\n",
       "    }\n",
       "</style>\n",
       "<table border=\"1\" class=\"dataframe\">\n",
       "  <thead>\n",
       "    <tr style=\"text-align: right;\">\n",
       "      <th></th>\n",
       "      <th>usuario_id</th>\n",
       "      <th>origen_nombre</th>\n",
       "      <th>origen_id</th>\n",
       "      <th>destino_nombre</th>\n",
       "      <th>destino_id</th>\n",
       "      <th>usuario_genero</th>\n",
       "      <th>usario_edad</th>\n",
       "      <th>tiempo_uso(s)</th>\n",
       "    </tr>\n",
       "    <tr>\n",
       "      <th>bici_fecha_hora_retiro</th>\n",
       "      <th></th>\n",
       "      <th></th>\n",
       "      <th></th>\n",
       "      <th></th>\n",
       "      <th></th>\n",
       "      <th></th>\n",
       "      <th></th>\n",
       "      <th></th>\n",
       "    </tr>\n",
       "  </thead>\n",
       "  <tbody>\n",
       "    <tr>\n",
       "      <th>2018-01-01 00:08:05</th>\n",
       "      <td>5453</td>\n",
       "      <td>Uruguay</td>\n",
       "      <td>45</td>\n",
       "      <td>Virrey Cevallos</td>\n",
       "      <td>183</td>\n",
       "      <td>M</td>\n",
       "      <td>45</td>\n",
       "      <td>1193</td>\n",
       "    </tr>\n",
       "    <tr>\n",
       "      <th>2018-01-01 00:18:05</th>\n",
       "      <td>673</td>\n",
       "      <td>Posadas</td>\n",
       "      <td>189</td>\n",
       "      <td>Guardia Vieja</td>\n",
       "      <td>110</td>\n",
       "      <td>M</td>\n",
       "      <td>61</td>\n",
       "      <td>1579</td>\n",
       "    </tr>\n",
       "    <tr>\n",
       "      <th>2018-01-01 00:20:14</th>\n",
       "      <td>179119</td>\n",
       "      <td>Hospital Rivadavia</td>\n",
       "      <td>50</td>\n",
       "      <td>Padilla</td>\n",
       "      <td>31</td>\n",
       "      <td>F</td>\n",
       "      <td>52</td>\n",
       "      <td>1659</td>\n",
       "    </tr>\n",
       "  </tbody>\n",
       "</table>\n",
       "</div>"
      ],
      "text/plain": [
       "                        usuario_id       origen_nombre  origen_id  \\\n",
       "bici_fecha_hora_retiro                                              \n",
       "2018-01-01 00:08:05           5453             Uruguay         45   \n",
       "2018-01-01 00:18:05            673             Posadas        189   \n",
       "2018-01-01 00:20:14         179119  Hospital Rivadavia         50   \n",
       "\n",
       "                         destino_nombre  destino_id usuario_genero  \\\n",
       "bici_fecha_hora_retiro                                               \n",
       "2018-01-01 00:08:05     Virrey Cevallos         183              M   \n",
       "2018-01-01 00:18:05       Guardia Vieja         110              M   \n",
       "2018-01-01 00:20:14             Padilla          31              F   \n",
       "\n",
       "                        usario_edad  tiempo_uso(s)  \n",
       "bici_fecha_hora_retiro                              \n",
       "2018-01-01 00:08:05              45           1193  \n",
       "2018-01-01 00:18:05              61           1579  \n",
       "2018-01-01 00:20:14              52           1659  "
      ]
     },
     "execution_count": 13,
     "metadata": {},
     "output_type": "execute_result"
    }
   ],
   "source": [
    "df_2018.head(3)"
   ]
  },
  {
   "cell_type": "code",
   "execution_count": null,
   "metadata": {},
   "outputs": [],
   "source": []
  }
 ],
 "metadata": {
  "kernelspec": {
   "display_name": "Python 3",
   "language": "python",
   "name": "python3"
  },
  "language_info": {
   "codemirror_mode": {
    "name": "ipython",
    "version": 3
   },
   "file_extension": ".py",
   "mimetype": "text/x-python",
   "name": "python",
   "nbconvert_exporter": "python",
   "pygments_lexer": "ipython3",
   "version": "3.7.1"
  }
 },
 "nbformat": 4,
 "nbformat_minor": 2
}
