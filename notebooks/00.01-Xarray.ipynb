{
 "cells": [
  {
   "cell_type": "code",
   "execution_count": null,
   "metadata": {},
   "outputs": [],
   "source": [
    "from localpacks.data import get_data\n",
    "import xarray as xr"
   ]
  },
  {
   "cell_type": "markdown",
   "metadata": {},
   "source": [
    "#### 1.1  Importamos nuestros datasets"
   ]
  },
  {
   "cell_type": "code",
   "execution_count": null,
   "metadata": {},
   "outputs": [],
   "source": [
    "#Rango de 2010 al 2018\n",
    "df_2010 = get_data(year=2010, apply_format=True)\n",
    "df_2011 = get_data(year=2011, apply_format=True)\n",
    "df_2012 = get_data(year=2012, apply_format=True)\n",
    "df_2013 = get_data(year=2013, apply_format=True)\n",
    "df_2014 = get_data(year=2014, apply_format=True)\n",
    "df_2015 = get_data(year=2015, apply_format=True)\n",
    "df_2016 = get_data(year=2016, apply_format=True)\n",
    "df_2017 = get_data(year=2017, apply_format=True)\n",
    "df_2018 = get_data(year=2018, apply_format=True)"
   ]
  }
 ],
 "metadata": {
  "kernelspec": {
   "display_name": "Python 3",
   "language": "python",
   "name": "python3"
  },
  "language_info": {
   "codemirror_mode": {
    "name": "ipython",
    "version": 3
   },
   "file_extension": ".py",
   "mimetype": "text/x-python",
   "name": "python",
   "nbconvert_exporter": "python",
   "pygments_lexer": "ipython3",
   "version": "3.7.1"
  }
 },
 "nbformat": 4,
 "nbformat_minor": 2
}
