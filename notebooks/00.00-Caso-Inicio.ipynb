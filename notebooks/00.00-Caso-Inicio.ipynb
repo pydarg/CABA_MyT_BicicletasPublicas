{
 "cells": [
  {
   "cell_type": "markdown",
   "metadata": {},
   "source": [
    "# 1. INICIO"
   ]
  },
  {
   "cell_type": "markdown",
   "metadata": {},
   "source": [
    "Nuestro punto de partida son los Data Sets provistos por [Buenos Aires Data](https://data.buenosaires.gob.ar/dataset/bicicletas-publicas), los cuales tienen caracteristicas similares, pero presentan algunas discrepancias que dificultan hacer un análisis para todos los años, por lo que nuestros objetivos serán:\n",
    "\n",
    "- Definir el nombre generico para las columnas.\n",
    "- Definir las columnas compatibles.\n",
    "- Unificar los data sets en un **NetCDF**"
   ]
  },
  {
   "cell_type": "code",
   "execution_count": null,
   "metadata": {},
   "outputs": [],
   "source": [
    "from localpacks.data import get_data\n",
    "\n",
    "import numpy as np"
   ]
  },
  {
   "cell_type": "markdown",
   "metadata": {},
   "source": [
    "#### 1.1  Importamos nuestros datasets"
   ]
  },
  {
   "cell_type": "code",
   "execution_count": null,
   "metadata": {
    "slideshow": {
     "slide_type": "-"
    }
   },
   "outputs": [],
   "source": [
    "#Rango de 2010 al 2018\n",
    "df_2010 = get_data(year=2010)\n",
    "df_2011 = get_data(year=2011)\n",
    "df_2012 = get_data(year=2012)\n",
    "df_2013 = get_data(year=2013)\n",
    "df_2014 = get_data(year=2014)\n",
    "df_2015 = get_data(year=2015)\n",
    "df_2016 = get_data(year=2016)\n",
    "df_2017 = get_data(year=2017)\n",
    "df_2018 = get_data(year=2018) #Aun no esta completo fecha_actual: 13/12/2018"
   ]
  },
  {
   "cell_type": "code",
   "execution_count": null,
   "metadata": {},
   "outputs": [],
   "source": [
    "#observamos las columnas de cada data frame\n",
    "df_2010.columns.values\n",
    "#df_2011.columns.values\n",
    "#df_2012.columns.values\n",
    "#df_2013.columns.values\n",
    "#df_2014.columns.values\n",
    "#df_2015.columns.values\n",
    "#df_2016.columns.values\n",
    "#df_2017.columns.values\n",
    "#df_2018.columns.values"
   ]
  },
  {
   "cell_type": "markdown",
   "metadata": {},
   "source": [
    "#### 1.2 Extraemos las columnas y las vaciamos en un dict"
   ]
  },
  {
   "cell_type": "code",
   "execution_count": null,
   "metadata": {},
   "outputs": [],
   "source": [
    "#columnas iniciales\n",
    "columns = {'2010' : ['PERIODO', 'ORIGENFECHA', 'ORIGENESTACIONID', 'ORIGENNOMBRE',\n",
    "       'DESTINOFECHA', 'DESTINOESTACIONID', 'DESTINONOMBRE', 'TIEMPOUSO'],\n",
    "\n",
    "           '2011' : ['PERIODO', 'ORIGENFECHA', 'ORIGENESTACIONID', 'NOMBREORIGEN',\n",
    "       'DESTINOFECHA', 'DESTINOESTACIONID', 'NOMBREDESTINO', 'TIEMPOUSO'],\n",
    "           \n",
    "           '2012' : ['PERIODO', 'ORIGENFECHA', 'ORIGENESTACIONID', 'ORIGENNOMBRE',\n",
    "       'DESTINOFECHA', 'DESTINOESTACIONID', 'DESTINONOMBRE', 'TIEMPOUSO'],\n",
    "           \n",
    "           '2013' : ['ID', 'NOMBRE_ORIGEN', 'ORIGEN_FECHA', 'DESTINO_ESTACION',\n",
    "       'DESTINO_FECHA'],\n",
    "           \n",
    "           '2014' : ['ID', 'NOMBRE_ORIGEN', 'ORIGEN_FECHA', 'DESTINO_ESTACION',\n",
    "       'DESTINO_FECHA'],\n",
    "           \n",
    "           '2015' : ['periodo', 'genero', 'fecha_hora_retiro', 'origen_estacion',\n",
    "       'nombre_origen', 'destino_estacion', 'nombre_destino', 'tiempo_uso'],\n",
    "           \n",
    "           '2016' : ['periodo', 'genero', 'fecha_hora_retiro', 'origen_estacion',\n",
    "       'nombre_origen', 'destino_estacion', 'nombre_destino', 'tiempo_uso'],\n",
    "           \n",
    "           '2017' : ['periodo', 'genero', 'fecha_hora_retiro', 'origen_estacion',\n",
    "       'nombre_origen', 'destino_estacion', 'nombre_destino', 'tiempo_uso'],\n",
    "           \n",
    "           '2018' : ['id_usuario', 'bici_fecha_hora_retiro', 'bici_tiempo_uso', \n",
    "                     'bici_nombre_estacion_origen', 'bici_estacion_origen',\n",
    "                     'bici_nombre_estacion_destino', 'bici_estacion_destino',\n",
    "                     'bici_sexo', 'bici_edad']\n",
    "          }"
   ]
  },
  {
   "cell_type": "markdown",
   "metadata": {},
   "source": [
    "Con el analisis de los nombres de cada columna, definimos las siguientes convenciones:"
   ]
  },
  {
   "cell_type": "markdown",
   "metadata": {},
   "source": [
    "#### 1.3 Definicion de nombres"
   ]
  },
  {
   "cell_type": "markdown",
   "metadata": {},
   "source": [
    "2010 al 2012 | 2013 al 2014 | 2015 al 2017 | 2018\n",
    "------------ | ------------- | ------------ | -------------\n",
    "periodo | -- | periodo | --\n",
    "-- | usuario_id | -- | usuario_id\n",
    "origen_fecha, origen_id, origen_nombre | origen_fecha, origen_id, origen_nombre | origen_fecha, origen_id, origen_nombre | origen_fecha, origen_id, origen_nombre\n",
    "destino_fecha, destino_id, destino_nombre| destino_fecha, destino_id, destino_nombre | destino_id, destino_nombre | destino_id, destino_nombre\n",
    "tiempo_uso | -- | tiempo_uso | tiempo_uso\n",
    "-- | -- | -- | usario_edad\n",
    "-- | -- | usuario_genero | usuario_genero\n"
   ]
  },
  {
   "cell_type": "markdown",
   "metadata": {},
   "source": [
    "En la tabla anterior dejamos claro el nombre que utilizaremos para las columnas comunes y no comunes."
   ]
  },
  {
   "cell_type": "markdown",
   "metadata": {
    "toc-hr-collapsed": false
   },
   "source": [
    "#### 1.4 Formato de integración"
   ]
  },
  {
   "cell_type": "markdown",
   "metadata": {
    "toc-hr-collapsed": false
   },
   "source": [
    "2010 al 2012 | 2013 al 2014 | 2015 al 2017 | 2018\n",
    "------------ | ------------- | ------------ | -------------\n",
    "-- | usuario_id | -- | usuario_id\n",
    "fecha_uso | fecha_uso | fecha_uso | fecha_uso \n",
    "origen_id, origen_nombre | origen_id, origen_nombre | origen_id, origen_nombre | origen_id, origen_nombre\n",
    "destino_id, destino_nombre| destino_id, destino_nombre | destino_id, destino_nombre | destino_id, destino_nombre\n",
    "tiempo_uso | tiempo_uso | tiempo_uso | tiempo_uso\n",
    "-- | -- | -- | usario_edad\n",
    "-- | -- | usuario_genero | usuario_genero\n"
   ]
  },
  {
   "cell_type": "markdown",
   "metadata": {},
   "source": [
    "Consideraciones:\n",
    "\n",
    "- La columna **periodo** se elimina, y pasa a ser un metadato.\n",
    "- La columna **origen fecha** se cambia a **fecha_uso** y pasa a ser el **index**\n",
    "- La culumna **destino fecha** si existe se elimina y se deriva el **tiempo_uso**"
   ]
  },
  {
   "cell_type": "markdown",
   "metadata": {},
   "source": [
    "Formatos:\n",
    "\n",
    "- **usuario_id:**  integer, discreto, ordinal.\n",
    "- **fecha_uso:** date_time, discreto, ordinal.\n",
    "- **origen_id:** integer, discreto, ordinal (one_to_one with origen_nombre)\n",
    "- **nombre_id:** string, discreto, ordinal (one_to_one with origen_id)\n",
    "- **destino_id:**  integer, discreto, ordinal (one_to_one with destino_nombre)\n",
    "- **destino_id:**  string, discreto, ordinal (one_to_one with destino_id)\n",
    "- **tiempo_uso:** time_delta, continuo, ordinal.\n",
    "- **usuario_edad:** integer, discreto, ordinal.\n",
    "- **usuario_genero:** string."
   ]
  },
  {
   "cell_type": "markdown",
   "metadata": {},
   "source": [
    "# 2. AJUSTES"
   ]
  },
  {
   "cell_type": "markdown",
   "metadata": {},
   "source": [
    "#### 2.1 Data Frame 2010"
   ]
  },
  {
   "cell_type": "code",
   "execution_count": null,
   "metadata": {},
   "outputs": [],
   "source": [
    "df_2010_raw = get_data(year = 2010, apply_format=False)\n",
    "df_2010 = get_data(year = 2010, apply_format=True)"
   ]
  },
  {
   "cell_type": "code",
   "execution_count": null,
   "metadata": {},
   "outputs": [],
   "source": [
    "df_2010_raw.head(3)"
   ]
  },
  {
   "cell_type": "code",
   "execution_count": null,
   "metadata": {},
   "outputs": [],
   "source": [
    "df_2010.head(3)"
   ]
  },
  {
   "cell_type": "markdown",
   "metadata": {},
   "source": [
    "#### 2.2 Data Frame 2011"
   ]
  },
  {
   "cell_type": "code",
   "execution_count": null,
   "metadata": {},
   "outputs": [],
   "source": [
    "df_2011_raw = get_data(year = 2011, apply_format=False)\n",
    "df_2011 = get_data(year = 2011, apply_format=True)"
   ]
  },
  {
   "cell_type": "code",
   "execution_count": null,
   "metadata": {},
   "outputs": [],
   "source": [
    "df_2011_raw.head(3)"
   ]
  },
  {
   "cell_type": "code",
   "execution_count": null,
   "metadata": {},
   "outputs": [],
   "source": [
    "df_2011.head(3)"
   ]
  },
  {
   "cell_type": "markdown",
   "metadata": {},
   "source": [
    "#### 2.2 Data Frame 2012"
   ]
  },
  {
   "cell_type": "code",
   "execution_count": null,
   "metadata": {},
   "outputs": [],
   "source": [
    "df_2012_raw = get_data(year = 2012, apply_format=False)"
   ]
  },
  {
   "cell_type": "code",
   "execution_count": null,
   "metadata": {},
   "outputs": [],
   "source": [
    "df_2012_raw.head(3)"
   ]
  },
  {
   "cell_type": "code",
   "execution_count": null,
   "metadata": {},
   "outputs": [],
   "source": [
    "df_2012 = get_data(year = 2012, apply_format=True)"
   ]
  },
  {
   "cell_type": "code",
   "execution_count": null,
   "metadata": {},
   "outputs": [],
   "source": [
    "df_2012.head(3)"
   ]
  },
  {
   "cell_type": "markdown",
   "metadata": {},
   "source": [
    "#### 2.3 Data Frame 2013"
   ]
  },
  {
   "cell_type": "code",
   "execution_count": null,
   "metadata": {},
   "outputs": [],
   "source": [
    "df_2013_raw = get_data(year = 2013, apply_format=False)\n",
    "df_2013 = get_data(year = 2013, apply_format=True)"
   ]
  },
  {
   "cell_type": "code",
   "execution_count": null,
   "metadata": {},
   "outputs": [],
   "source": [
    "df_2013_raw.head(3)"
   ]
  },
  {
   "cell_type": "code",
   "execution_count": null,
   "metadata": {},
   "outputs": [],
   "source": [
    "df_2013.head(3)"
   ]
  },
  {
   "cell_type": "markdown",
   "metadata": {},
   "source": [
    "#### 2.3 Data Frame 2014"
   ]
  },
  {
   "cell_type": "code",
   "execution_count": null,
   "metadata": {},
   "outputs": [],
   "source": [
    "df_2014_raw = get_data(year = 2014, apply_format=False)\n",
    "df_2014 = get_data(year = 2014, apply_format=True)"
   ]
  },
  {
   "cell_type": "code",
   "execution_count": null,
   "metadata": {},
   "outputs": [],
   "source": [
    "df_2014_raw.head(3)"
   ]
  },
  {
   "cell_type": "code",
   "execution_count": null,
   "metadata": {},
   "outputs": [],
   "source": [
    "df_2014.head(3)"
   ]
  },
  {
   "cell_type": "markdown",
   "metadata": {},
   "source": [
    "#### 2.4 Data Frame 2015"
   ]
  },
  {
   "cell_type": "code",
   "execution_count": 8,
   "metadata": {},
   "outputs": [],
   "source": [
    "df_2015_raw = get_data(year = 2015, apply_format=False)\n",
    "df_2015 = get_data(year = 2015, apply_format=True)"
   ]
  },
  {
   "cell_type": "code",
   "execution_count": 9,
   "metadata": {},
   "outputs": [
    {
     "data": {
      "text/html": [
       "<div>\n",
       "<style scoped>\n",
       "    .dataframe tbody tr th:only-of-type {\n",
       "        vertical-align: middle;\n",
       "    }\n",
       "\n",
       "    .dataframe tbody tr th {\n",
       "        vertical-align: top;\n",
       "    }\n",
       "\n",
       "    .dataframe thead th {\n",
       "        text-align: right;\n",
       "    }\n",
       "</style>\n",
       "<table border=\"1\" class=\"dataframe\">\n",
       "  <thead>\n",
       "    <tr style=\"text-align: right;\">\n",
       "      <th></th>\n",
       "      <th>periodo</th>\n",
       "      <th>genero</th>\n",
       "      <th>fecha_hora_retiro</th>\n",
       "      <th>origen_estacion</th>\n",
       "      <th>nombre_origen</th>\n",
       "      <th>destino_estacion</th>\n",
       "      <th>nombre_destino</th>\n",
       "      <th>tiempo_uso</th>\n",
       "    </tr>\n",
       "  </thead>\n",
       "  <tbody>\n",
       "    <tr>\n",
       "      <th>0</th>\n",
       "      <td>2015</td>\n",
       "      <td>M</td>\n",
       "      <td>01/05/2015 00:00:18</td>\n",
       "      <td>25</td>\n",
       "      <td>Plaza Güemes</td>\n",
       "      <td>29</td>\n",
       "      <td>Parque Centenario</td>\n",
       "      <td>0h 26min 24seg</td>\n",
       "    </tr>\n",
       "    <tr>\n",
       "      <th>1</th>\n",
       "      <td>2015</td>\n",
       "      <td>F</td>\n",
       "      <td>01/05/2015 00:02:06</td>\n",
       "      <td>17</td>\n",
       "      <td>Plaza Almagro</td>\n",
       "      <td>25</td>\n",
       "      <td>Plaza Güemes</td>\n",
       "      <td>0h 57min 53seg</td>\n",
       "    </tr>\n",
       "    <tr>\n",
       "      <th>2</th>\n",
       "      <td>2015</td>\n",
       "      <td>M</td>\n",
       "      <td>01/05/2015 00:02:53</td>\n",
       "      <td>17</td>\n",
       "      <td>Plaza Almagro</td>\n",
       "      <td>25</td>\n",
       "      <td>Plaza Güemes</td>\n",
       "      <td>1h 3min 8seg</td>\n",
       "    </tr>\n",
       "  </tbody>\n",
       "</table>\n",
       "</div>"
      ],
      "text/plain": [
       "   periodo genero    fecha_hora_retiro  origen_estacion   nombre_origen  \\\n",
       "0     2015      M  01/05/2015 00:00:18               25    Plaza Güemes   \n",
       "1     2015      F  01/05/2015 00:02:06               17   Plaza Almagro   \n",
       "2     2015      M  01/05/2015 00:02:53               17   Plaza Almagro   \n",
       "\n",
       "   destino_estacion      nombre_destino      tiempo_uso  \n",
       "0                29   Parque Centenario  0h 26min 24seg  \n",
       "1                25        Plaza Güemes  0h 57min 53seg  \n",
       "2                25        Plaza Güemes    1h 3min 8seg  "
      ]
     },
     "execution_count": 9,
     "metadata": {},
     "output_type": "execute_result"
    }
   ],
   "source": [
    "df_2015_raw.head(3)"
   ]
  },
  {
   "cell_type": "code",
   "execution_count": 10,
   "metadata": {},
   "outputs": [
    {
     "data": {
      "text/html": [
       "<div>\n",
       "<style scoped>\n",
       "    .dataframe tbody tr th:only-of-type {\n",
       "        vertical-align: middle;\n",
       "    }\n",
       "\n",
       "    .dataframe tbody tr th {\n",
       "        vertical-align: top;\n",
       "    }\n",
       "\n",
       "    .dataframe thead th {\n",
       "        text-align: right;\n",
       "    }\n",
       "</style>\n",
       "<table border=\"1\" class=\"dataframe\">\n",
       "  <thead>\n",
       "    <tr style=\"text-align: right;\">\n",
       "      <th></th>\n",
       "      <th>genero</th>\n",
       "      <th>origen_id</th>\n",
       "      <th>origen_nombre</th>\n",
       "      <th>destino_id</th>\n",
       "      <th>destino_nombre</th>\n",
       "      <th>tiempo_uso(s)</th>\n",
       "    </tr>\n",
       "    <tr>\n",
       "      <th>fecha_hora_retiro</th>\n",
       "      <th></th>\n",
       "      <th></th>\n",
       "      <th></th>\n",
       "      <th></th>\n",
       "      <th></th>\n",
       "      <th></th>\n",
       "    </tr>\n",
       "  </thead>\n",
       "  <tbody>\n",
       "    <tr>\n",
       "      <th>2015-05-01 00:00:18</th>\n",
       "      <td>M</td>\n",
       "      <td>25</td>\n",
       "      <td>Plaza Güemes</td>\n",
       "      <td>29</td>\n",
       "      <td>Parque Centenario</td>\n",
       "      <td>1584.0</td>\n",
       "    </tr>\n",
       "    <tr>\n",
       "      <th>2015-05-01 00:02:06</th>\n",
       "      <td>F</td>\n",
       "      <td>17</td>\n",
       "      <td>Plaza Almagro</td>\n",
       "      <td>25</td>\n",
       "      <td>Plaza Güemes</td>\n",
       "      <td>3473.0</td>\n",
       "    </tr>\n",
       "    <tr>\n",
       "      <th>2015-05-01 00:02:53</th>\n",
       "      <td>M</td>\n",
       "      <td>17</td>\n",
       "      <td>Plaza Almagro</td>\n",
       "      <td>25</td>\n",
       "      <td>Plaza Güemes</td>\n",
       "      <td>3788.0</td>\n",
       "    </tr>\n",
       "  </tbody>\n",
       "</table>\n",
       "</div>"
      ],
      "text/plain": [
       "                    genero  origen_id   origen_nombre  destino_id  \\\n",
       "fecha_hora_retiro                                                   \n",
       "2015-05-01 00:00:18      M         25    Plaza Güemes          29   \n",
       "2015-05-01 00:02:06      F         17   Plaza Almagro          25   \n",
       "2015-05-01 00:02:53      M         17   Plaza Almagro          25   \n",
       "\n",
       "                         destino_nombre  tiempo_uso(s)  \n",
       "fecha_hora_retiro                                       \n",
       "2015-05-01 00:00:18   Parque Centenario         1584.0  \n",
       "2015-05-01 00:02:06        Plaza Güemes         3473.0  \n",
       "2015-05-01 00:02:53        Plaza Güemes         3788.0  "
      ]
     },
     "execution_count": 10,
     "metadata": {},
     "output_type": "execute_result"
    }
   ],
   "source": [
    "df_2015.head(3)"
   ]
  }
 ],
 "metadata": {
  "kernelspec": {
   "display_name": "Python 3",
   "language": "python",
   "name": "python3"
  },
  "language_info": {
   "codemirror_mode": {
    "name": "ipython",
    "version": 3
   },
   "file_extension": ".py",
   "mimetype": "text/x-python",
   "name": "python",
   "nbconvert_exporter": "python",
   "pygments_lexer": "ipython3",
   "version": "3.7.1"
  }
 },
 "nbformat": 4,
 "nbformat_minor": 2
}
