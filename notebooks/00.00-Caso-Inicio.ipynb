{
 "cells": [
  {
   "cell_type": "markdown",
   "metadata": {},
   "source": [
    "# 1. INICIO"
   ]
  },
  {
   "cell_type": "markdown",
   "metadata": {},
   "source": [
    "Nuestro punto de partida son los Data Sets provistos por [Buenos Aires Data](https://data.buenosaires.gob.ar/dataset/bicicletas-publicas), los cuales tienen caracteristicas similares, pero presentan algunas discrepancias que dificultan hacer un análisis para todos los años, por lo que nuestros objetivos serán:\n",
    "\n",
    "- Definir el nombre generico para las columnas.\n",
    "- Definir las columnas compatibles.\n",
    "- Unificar los data sets en un **NetCDF**"
   ]
  },
  {
   "cell_type": "code",
   "execution_count": 1,
   "metadata": {},
   "outputs": [],
   "source": [
    "from localpacks.data import get_data"
   ]
  },
  {
   "cell_type": "markdown",
   "metadata": {},
   "source": [
    "#### 1.1  Importamos nuestros datasets"
   ]
  },
  {
   "cell_type": "code",
   "execution_count": 60,
   "metadata": {
    "slideshow": {
     "slide_type": "-"
    }
   },
   "outputs": [],
   "source": [
    "#Rango de 2010 al 2018\n",
    "df_2010 = get_data(year=2010)\n",
    "df_2011 = get_data(year=2011)\n",
    "df_2012 = get_data(year=2012)\n",
    "df_2013 = get_data(year=2013)\n",
    "df_2014 = get_data(year=2014)\n",
    "df_2015 = get_data(year=2015)\n",
    "df_2016 = get_data(year=2016)\n",
    "df_2017 = get_data(year=2017)\n",
    "df_2018 = get_data(year=2018) #Aun no esta completo fecha_actual: 13/12/2018"
   ]
  },
  {
   "cell_type": "code",
   "execution_count": 57,
   "metadata": {},
   "outputs": [
    {
     "data": {
      "text/plain": [
       "array(['PERIODO', 'ORIGENFECHA', 'ORIGENESTACIONID', 'ORIGENNOMBRE',\n",
       "       'DESTINOFECHA', 'DESTINOESTACIONID', 'DESTINONOMBRE', 'TIEMPOUSO'],\n",
       "      dtype=object)"
      ]
     },
     "execution_count": 57,
     "metadata": {},
     "output_type": "execute_result"
    }
   ],
   "source": [
    "#observamos las columnas de cada data frame\n",
    "df_2010.columns.values"
   ]
  },
  {
   "cell_type": "markdown",
   "metadata": {},
   "source": [
    "Luego extraemos las columnas y las vaciamos en un diccionario"
   ]
  },
  {
   "cell_type": "code",
   "execution_count": 35,
   "metadata": {},
   "outputs": [],
   "source": [
    "#columnas iniciales\n",
    "columns = {'2010' : ['PERIODO', 'ORIGENFECHA', 'ORIGENESTACIONID', 'ORIGENNOMBRE',\n",
    "       'DESTINOFECHA', 'DESTINOESTACIONID', 'DESTINONOMBRE', 'TIEMPOUSO'],\n",
    "\n",
    "           '2011' : ['PERIODO', 'ORIGENFECHA', 'ORIGENESTACIONID', 'NOMBREORIGEN',\n",
    "       'DESTINOFECHA', 'DESTINOESTACIONID', 'NOMBREDESTINO', 'TIEMPOUSO'],\n",
    "           \n",
    "           '2012' : ['PERIODO', 'ORIGENFECHA', 'ORIGENESTACIONID', 'ORIGENNOMBRE',\n",
    "       'DESTINOFECHA', 'DESTINOESTACIONID', 'DESTINONOMBRE', 'TIEMPOUSO'],\n",
    "           \n",
    "           '2013' : ['ID', 'NOMBRE_ORIGEN', 'ORIGEN_FECHA', 'DESTINO_ESTACION',\n",
    "       'DESTINO_FECHA'],\n",
    "           \n",
    "           '2014' : ['ID', 'NOMBRE_ORIGEN', 'ORIGEN_FECHA', 'DESTINO_ESTACION',\n",
    "       'DESTINO_FECHA'],\n",
    "           \n",
    "           '2015' : ['periodo', 'genero', 'fecha_hora_retiro', 'origen_estacion',\n",
    "       'nombre_origen', 'destino_estacion', 'nombre_destino', 'tiempo_uso'],\n",
    "           \n",
    "           '2016' : ['periodo', 'genero', 'fecha_hora_retiro', 'origen_estacion',\n",
    "       'nombre_origen', 'destino_estacion', 'nombre_destino', 'tiempo_uso'],\n",
    "           \n",
    "           '2017' : ['periodo', 'genero', 'fecha_hora_retiro', 'origen_estacion',\n",
    "       'nombre_origen', 'destino_estacion', 'nombre_destino', 'tiempo_uso']\n",
    "           \n",
    "           '2018' : ['id_usuario', 'bici_fecha_hora_retiro', 'bici_tiempo_uso', \n",
    "                     'bici_nombre_estacion_origen', 'bici_estacion_origen',\n",
    "                     'bici_nombre_estacion_destino', 'bici_estacion_destino',\n",
    "                     'bici_sexo', 'bici_edad']\n",
    "          }"
   ]
  },
  {
   "cell_type": "markdown",
   "metadata": {},
   "source": [
    "Con el analisis de los nombres de cada columna, definimos las siguientes convenciones:"
   ]
  },
  {
   "cell_type": "markdown",
   "metadata": {},
   "source": [
    "### Definicion de nombres\n",
    "\n",
    "2010 al 2012 | 2013 al 2014 | 2015 al 2017 | 2018\n",
    "------------ | ------------- | ------------ | -------------\n",
    "periodo | -- | periodo | --\n",
    "-- | usuario_id | -- | usuario_id\n",
    "origen_fecha, origen_id, origen_nombre | origen_fecha, origen_id, origen_nombre | origen_fecha, origen_id, origen_nombre | origen_fecha, origen_id, origen_nombre\n",
    "destino_fecha, destino_id, destino_nombre| destino_fecha, destino_id, destino_nombre | destino_id, destino_nombre | destino_id, destino_nombre\n",
    "tiempo_uso | -- | tiempo_uso | tiempo_uso\n",
    "-- | -- | -- | usario_edad\n",
    "-- | -- | usuario_genero | usuario_genero\n"
   ]
  },
  {
   "cell_type": "markdown",
   "metadata": {},
   "source": [
    "En la tabla anterior dejamos claro el nombre que utilizaremos para las columnas comunes y no comunes."
   ]
  },
  {
   "cell_type": "markdown",
   "metadata": {},
   "source": [
    "### Formato de integracion\n",
    "\n",
    "2010 al 2012 | 2013 al 2014 | 2015 al 2017 | 2018\n",
    "------------ | ------------- | ------------ | -------------\n",
    "-- | usuario_id | -- | usuario_id\n",
    "fecha_uso | fecha_uso | fecha_uso | fecha_uso \n",
    "origen_id, origen_nombre | origen_id, origen_nombre | origen_id, origen_nombre | origen_id, origen_nombre\n",
    "destino_id, destino_nombre| destino_id, destino_nombre | destino_id, destino_nombre | destino_id, destino_nombre\n",
    "tiempo_uso | tiempo_uso | tiempo_uso | tiempo_uso\n",
    "-- | -- | -- | usario_edad\n",
    "-- | -- | usuario_genero | usuario_genero\n"
   ]
  },
  {
   "cell_type": "markdown",
   "metadata": {},
   "source": [
    "Consideraciones:\n",
    "\n",
    "- La columna **periodo** se elimina, y pasa a ser un metadato.\n",
    "- La columna **origen fecha** se cambia a **fecha_uso** y pasa a ser el **index**\n",
    "- La culumna **destino fecha** si existe se elimina y se deriva el **tiempo_uso**"
   ]
  },
  {
   "cell_type": "markdown",
   "metadata": {},
   "source": [
    "Formatos:\n",
    "\n",
    "- **usuario_id:**  integer, discreto, ordinal.\n",
    "- **fecha_uso:** date_time, discreto, ordinal.\n",
    "- **origen_id:** integer, discreto, ordinal (one_to_one with origen_nombre)\n",
    "- **nombre_id:** string, discreto, ordinal (one_to_one with origen_id)\n",
    "- **destino_id:**  integer, discreto, ordinal (one_to_one with destino_nombre)\n",
    "- **destino_id:**  string, discreto, ordinal (one_to_one with destino_id)\n",
    "- **tiempo_uso:** time_delta, continuo, ordinal.\n",
    "- **usuario_edad:** integer, discreto, ordinal.\n",
    "- **usuario_genero:** string.\n"
   ]
  }
 ],
 "metadata": {
  "kernelspec": {
   "display_name": "Python 3",
   "language": "python",
   "name": "python3"
  },
  "language_info": {
   "codemirror_mode": {
    "name": "ipython",
    "version": 3
   },
   "file_extension": ".py",
   "mimetype": "text/x-python",
   "name": "python",
   "nbconvert_exporter": "python",
   "pygments_lexer": "ipython3",
   "version": "3.7.1"
  }
 },
 "nbformat": 4,
 "nbformat_minor": 2
}
