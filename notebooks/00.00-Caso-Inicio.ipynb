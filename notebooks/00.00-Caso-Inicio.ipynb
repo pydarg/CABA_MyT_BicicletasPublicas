{
 "cells": [
  {
   "cell_type": "markdown",
   "metadata": {},
   "source": [
    "# 1. INICIO"
   ]
  },
  {
   "cell_type": "markdown",
   "metadata": {},
   "source": [
    "Nuestro punto de partida son los Data Sets provistos por [Buenos Aires Data](https://data.buenosaires.gob.ar/dataset/bicicletas-publicas), los cuales tienen caracteristicas similares, pero presentan algunas discrepancias que dificultan hacer un análisis para todos los años, por lo que nuestros objetivos serán:\n",
    "\n",
    "- Definir el nombre generico para las columnas.\n",
    "- Definir las columnas compatibles.\n",
    "- Unificar los data sets en un **NetCDF**"
   ]
  },
  {
   "cell_type": "code",
   "execution_count": 1,
   "metadata": {},
   "outputs": [],
   "source": [
    "from localpacks.data import get_data"
   ]
  },
  {
   "cell_type": "markdown",
   "metadata": {},
   "source": [
    "#### 1.1  Importamos nuestros datasets"
   ]
  },
  {
   "cell_type": "code",
   "execution_count": null,
   "metadata": {
    "slideshow": {
     "slide_type": "-"
    }
   },
   "outputs": [],
   "source": [
    "#Rango de 2010 al 2018\n",
    "df_2010 = get_data(year=2010)\n",
    "df_2011 = get_data(year=2011)\n",
    "df_2012 = get_data(year=2012)\n",
    "df_2013 = get_data(year=2013)\n",
    "df_2014 = get_data(year=2014)\n",
    "df_2015 = get_data(year=2015)\n",
    "df_2016 = get_data(year=2016)\n",
    "df_2017 = get_data(year=2017)\n",
    "df_2018 = get_data(year=2018) #Aun no esta completo fecha_actual: 13/12/2018"
   ]
  },
  {
   "cell_type": "code",
   "execution_count": null,
   "metadata": {},
   "outputs": [],
   "source": [
    "#observamos las columnas de cada data frame\n",
    "df_2010.columns.values"
   ]
  },
  {
   "cell_type": "markdown",
   "metadata": {},
   "source": [
    "#### 1.2 Extraemos las columnas y las vaciamos en un dict"
   ]
  },
  {
   "cell_type": "code",
   "execution_count": null,
   "metadata": {},
   "outputs": [],
   "source": [
    "#columnas iniciales\n",
    "columns = {'2010' : ['PERIODO', 'ORIGENFECHA', 'ORIGENESTACIONID', 'ORIGENNOMBRE',\n",
    "       'DESTINOFECHA', 'DESTINOESTACIONID', 'DESTINONOMBRE', 'TIEMPOUSO'],\n",
    "\n",
    "           '2011' : ['PERIODO', 'ORIGENFECHA', 'ORIGENESTACIONID', 'NOMBREORIGEN',\n",
    "       'DESTINOFECHA', 'DESTINOESTACIONID', 'NOMBREDESTINO', 'TIEMPOUSO'],\n",
    "           \n",
    "           '2012' : ['PERIODO', 'ORIGENFECHA', 'ORIGENESTACIONID', 'ORIGENNOMBRE',\n",
    "       'DESTINOFECHA', 'DESTINOESTACIONID', 'DESTINONOMBRE', 'TIEMPOUSO'],\n",
    "           \n",
    "           '2013' : ['ID', 'NOMBRE_ORIGEN', 'ORIGEN_FECHA', 'DESTINO_ESTACION',\n",
    "       'DESTINO_FECHA'],\n",
    "           \n",
    "           '2014' : ['ID', 'NOMBRE_ORIGEN', 'ORIGEN_FECHA', 'DESTINO_ESTACION',\n",
    "       'DESTINO_FECHA'],\n",
    "           \n",
    "           '2015' : ['periodo', 'genero', 'fecha_hora_retiro', 'origen_estacion',\n",
    "       'nombre_origen', 'destino_estacion', 'nombre_destino', 'tiempo_uso'],\n",
    "           \n",
    "           '2016' : ['periodo', 'genero', 'fecha_hora_retiro', 'origen_estacion',\n",
    "       'nombre_origen', 'destino_estacion', 'nombre_destino', 'tiempo_uso'],\n",
    "           \n",
    "           '2017' : ['periodo', 'genero', 'fecha_hora_retiro', 'origen_estacion',\n",
    "       'nombre_origen', 'destino_estacion', 'nombre_destino', 'tiempo_uso'],\n",
    "           \n",
    "           '2018' : ['id_usuario', 'bici_fecha_hora_retiro', 'bici_tiempo_uso', \n",
    "                     'bici_nombre_estacion_origen', 'bici_estacion_origen',\n",
    "                     'bici_nombre_estacion_destino', 'bici_estacion_destino',\n",
    "                     'bici_sexo', 'bici_edad']\n",
    "          }"
   ]
  },
  {
   "cell_type": "markdown",
   "metadata": {},
   "source": [
    "Con el analisis de los nombres de cada columna, definimos las siguientes convenciones:"
   ]
  },
  {
   "cell_type": "markdown",
   "metadata": {},
   "source": [
    "#### 1.3 Definicion de nombres"
   ]
  },
  {
   "cell_type": "markdown",
   "metadata": {},
   "source": [
    "2010 al 2012 | 2013 al 2014 | 2015 al 2017 | 2018\n",
    "------------ | ------------- | ------------ | -------------\n",
    "periodo | -- | periodo | --\n",
    "-- | usuario_id | -- | usuario_id\n",
    "origen_fecha, origen_id, origen_nombre | origen_fecha, origen_id, origen_nombre | origen_fecha, origen_id, origen_nombre | origen_fecha, origen_id, origen_nombre\n",
    "destino_fecha, destino_id, destino_nombre| destino_fecha, destino_id, destino_nombre | destino_id, destino_nombre | destino_id, destino_nombre\n",
    "tiempo_uso | -- | tiempo_uso | tiempo_uso\n",
    "-- | -- | -- | usario_edad\n",
    "-- | -- | usuario_genero | usuario_genero\n"
   ]
  },
  {
   "cell_type": "markdown",
   "metadata": {},
   "source": [
    "En la tabla anterior dejamos claro el nombre que utilizaremos para las columnas comunes y no comunes."
   ]
  },
  {
   "cell_type": "markdown",
   "metadata": {
    "toc-hr-collapsed": false
   },
   "source": [
    "#### 1.4 Formato de integración"
   ]
  },
  {
   "cell_type": "markdown",
   "metadata": {
    "toc-hr-collapsed": false
   },
   "source": [
    "2010 al 2012 | 2013 al 2014 | 2015 al 2017 | 2018\n",
    "------------ | ------------- | ------------ | -------------\n",
    "-- | usuario_id | -- | usuario_id\n",
    "fecha_uso | fecha_uso | fecha_uso | fecha_uso \n",
    "origen_id, origen_nombre | origen_id, origen_nombre | origen_id, origen_nombre | origen_id, origen_nombre\n",
    "destino_id, destino_nombre| destino_id, destino_nombre | destino_id, destino_nombre | destino_id, destino_nombre\n",
    "tiempo_uso | tiempo_uso | tiempo_uso | tiempo_uso\n",
    "-- | -- | -- | usario_edad\n",
    "-- | -- | usuario_genero | usuario_genero\n"
   ]
  },
  {
   "cell_type": "markdown",
   "metadata": {},
   "source": [
    "Consideraciones:\n",
    "\n",
    "- La columna **periodo** se elimina, y pasa a ser un metadato.\n",
    "- La columna **origen fecha** se cambia a **fecha_uso** y pasa a ser el **index**\n",
    "- La culumna **destino fecha** si existe se elimina y se deriva el **tiempo_uso**"
   ]
  },
  {
   "cell_type": "markdown",
   "metadata": {},
   "source": [
    "Formatos:\n",
    "\n",
    "- **usuario_id:**  integer, discreto, ordinal.\n",
    "- **fecha_uso:** date_time, discreto, ordinal.\n",
    "- **origen_id:** integer, discreto, ordinal (one_to_one with origen_nombre)\n",
    "- **nombre_id:** string, discreto, ordinal (one_to_one with origen_id)\n",
    "- **destino_id:**  integer, discreto, ordinal (one_to_one with destino_nombre)\n",
    "- **destino_id:**  string, discreto, ordinal (one_to_one with destino_id)\n",
    "- **tiempo_uso:** time_delta, continuo, ordinal.\n",
    "- **usuario_edad:** integer, discreto, ordinal.\n",
    "- **usuario_genero:** string."
   ]
  },
  {
   "cell_type": "markdown",
   "metadata": {},
   "source": [
    "# 2. AJUSTES"
   ]
  },
  {
   "cell_type": "markdown",
   "metadata": {},
   "source": [
    "#### 2.1 Data Frame 2010"
   ]
  },
  {
   "cell_type": "code",
   "execution_count": null,
   "metadata": {},
   "outputs": [],
   "source": [
    "df_2010_raw = get_data(year = 2010, apply_format=False)\n",
    "df_2010 = get_data(year = 2010, apply_format=True)"
   ]
  },
  {
   "cell_type": "code",
   "execution_count": null,
   "metadata": {},
   "outputs": [],
   "source": [
    "df_2010_raw.head(3)"
   ]
  },
  {
   "cell_type": "code",
   "execution_count": null,
   "metadata": {},
   "outputs": [],
   "source": [
    "df_2010.head(3)"
   ]
  },
  {
   "cell_type": "markdown",
   "metadata": {},
   "source": [
    "#### 2.2 Data Frame 2011"
   ]
  },
  {
   "cell_type": "code",
   "execution_count": null,
   "metadata": {},
   "outputs": [],
   "source": [
    "df_2011_raw = get_data(year = 2011, apply_format=False)\n",
    "df_2011 = get_data(year = 2011, apply_format=True)"
   ]
  },
  {
   "cell_type": "code",
   "execution_count": null,
   "metadata": {},
   "outputs": [],
   "source": [
    "df_2011_raw.head(3)"
   ]
  },
  {
   "cell_type": "code",
   "execution_count": null,
   "metadata": {},
   "outputs": [],
   "source": [
    "df_2011.head(3)"
   ]
  },
  {
   "cell_type": "markdown",
   "metadata": {},
   "source": [
    "#### 2.2 Data Frame 2012"
   ]
  },
  {
   "cell_type": "code",
   "execution_count": null,
   "metadata": {},
   "outputs": [],
   "source": [
    "df_2012_raw = get_data(year = 2012, apply_format=False)"
   ]
  },
  {
   "cell_type": "code",
   "execution_count": null,
   "metadata": {},
   "outputs": [],
   "source": [
    "#df_2012 = get_data(year = 2012, apply_format=True)"
   ]
  },
  {
   "cell_type": "markdown",
   "metadata": {},
   "source": [
    "#### 2.3 Data Frame 2013"
   ]
  },
  {
   "cell_type": "code",
   "execution_count": 2,
   "metadata": {},
   "outputs": [],
   "source": [
    "df_2013_raw = get_data(year = 2013, apply_format=False)\n",
    "df_2013 = get_data(year = 2013, apply_format=True)"
   ]
  },
  {
   "cell_type": "code",
   "execution_count": 3,
   "metadata": {},
   "outputs": [
    {
     "data": {
      "text/html": [
       "<div>\n",
       "<style scoped>\n",
       "    .dataframe tbody tr th:only-of-type {\n",
       "        vertical-align: middle;\n",
       "    }\n",
       "\n",
       "    .dataframe tbody tr th {\n",
       "        vertical-align: top;\n",
       "    }\n",
       "\n",
       "    .dataframe thead th {\n",
       "        text-align: right;\n",
       "    }\n",
       "</style>\n",
       "<table border=\"1\" class=\"dataframe\">\n",
       "  <thead>\n",
       "    <tr style=\"text-align: right;\">\n",
       "      <th></th>\n",
       "      <th>ID</th>\n",
       "      <th>NOMBRE_ORIGEN</th>\n",
       "      <th>ORIGEN_FECHA</th>\n",
       "      <th>DESTINO_ESTACION</th>\n",
       "      <th>DESTINO_FECHA</th>\n",
       "    </tr>\n",
       "  </thead>\n",
       "  <tbody>\n",
       "    <tr>\n",
       "      <th>0</th>\n",
       "      <td>36680</td>\n",
       "      <td>ONCE</td>\n",
       "      <td>2013-01-02 07:49:52.937</td>\n",
       "      <td>PARQUE PATRICIOS</td>\n",
       "      <td>2013-01-02 08:11:36.670</td>\n",
       "    </tr>\n",
       "    <tr>\n",
       "      <th>1</th>\n",
       "      <td>68894</td>\n",
       "      <td>ONCE</td>\n",
       "      <td>2013-01-02 07:52:11.530</td>\n",
       "      <td>PZA. ROMA</td>\n",
       "      <td>2013-01-02 08:23:01.123</td>\n",
       "    </tr>\n",
       "    <tr>\n",
       "      <th>2</th>\n",
       "      <td>69014</td>\n",
       "      <td>PLAZA ALMAGRO</td>\n",
       "      <td>2013-01-02 07:53:56.140</td>\n",
       "      <td>PLAZA VICENTE LOPEZ</td>\n",
       "      <td>2013-01-02 08:25:04.297</td>\n",
       "    </tr>\n",
       "  </tbody>\n",
       "</table>\n",
       "</div>"
      ],
      "text/plain": [
       "      ID  NOMBRE_ORIGEN             ORIGEN_FECHA     DESTINO_ESTACION  \\\n",
       "0  36680           ONCE  2013-01-02 07:49:52.937     PARQUE PATRICIOS   \n",
       "1  68894           ONCE  2013-01-02 07:52:11.530            PZA. ROMA   \n",
       "2  69014  PLAZA ALMAGRO  2013-01-02 07:53:56.140  PLAZA VICENTE LOPEZ   \n",
       "\n",
       "             DESTINO_FECHA  \n",
       "0  2013-01-02 08:11:36.670  \n",
       "1  2013-01-02 08:23:01.123  \n",
       "2  2013-01-02 08:25:04.297  "
      ]
     },
     "execution_count": 3,
     "metadata": {},
     "output_type": "execute_result"
    }
   ],
   "source": [
    "df_2013_raw.head(3)"
   ]
  },
  {
   "cell_type": "code",
   "execution_count": 4,
   "metadata": {},
   "outputs": [
    {
     "data": {
      "text/html": [
       "<div>\n",
       "<style scoped>\n",
       "    .dataframe tbody tr th:only-of-type {\n",
       "        vertical-align: middle;\n",
       "    }\n",
       "\n",
       "    .dataframe tbody tr th {\n",
       "        vertical-align: top;\n",
       "    }\n",
       "\n",
       "    .dataframe thead th {\n",
       "        text-align: right;\n",
       "    }\n",
       "</style>\n",
       "<table border=\"1\" class=\"dataframe\">\n",
       "  <thead>\n",
       "    <tr style=\"text-align: right;\">\n",
       "      <th></th>\n",
       "      <th>usuario_id</th>\n",
       "      <th>origen_nombre</th>\n",
       "      <th>destino_nombre</th>\n",
       "      <th>tiempo_uso(s)</th>\n",
       "    </tr>\n",
       "    <tr>\n",
       "      <th>ORIGEN_FECHA</th>\n",
       "      <th></th>\n",
       "      <th></th>\n",
       "      <th></th>\n",
       "      <th></th>\n",
       "    </tr>\n",
       "  </thead>\n",
       "  <tbody>\n",
       "    <tr>\n",
       "      <th>2013-01-02 07:49:52.937</th>\n",
       "      <td>36680</td>\n",
       "      <td>ONCE</td>\n",
       "      <td>PARQUE PATRICIOS</td>\n",
       "      <td>1303</td>\n",
       "    </tr>\n",
       "    <tr>\n",
       "      <th>2013-01-02 07:52:11.530</th>\n",
       "      <td>68894</td>\n",
       "      <td>ONCE</td>\n",
       "      <td>PZA. ROMA</td>\n",
       "      <td>1849</td>\n",
       "    </tr>\n",
       "    <tr>\n",
       "      <th>2013-01-02 07:53:56.140</th>\n",
       "      <td>69014</td>\n",
       "      <td>PLAZA ALMAGRO</td>\n",
       "      <td>PLAZA VICENTE LOPEZ</td>\n",
       "      <td>1868</td>\n",
       "    </tr>\n",
       "  </tbody>\n",
       "</table>\n",
       "</div>"
      ],
      "text/plain": [
       "                         usuario_id  origen_nombre       destino_nombre  \\\n",
       "ORIGEN_FECHA                                                              \n",
       "2013-01-02 07:49:52.937       36680           ONCE     PARQUE PATRICIOS   \n",
       "2013-01-02 07:52:11.530       68894           ONCE            PZA. ROMA   \n",
       "2013-01-02 07:53:56.140       69014  PLAZA ALMAGRO  PLAZA VICENTE LOPEZ   \n",
       "\n",
       "                         tiempo_uso(s)  \n",
       "ORIGEN_FECHA                            \n",
       "2013-01-02 07:49:52.937           1303  \n",
       "2013-01-02 07:52:11.530           1849  \n",
       "2013-01-02 07:53:56.140           1868  "
      ]
     },
     "execution_count": 4,
     "metadata": {},
     "output_type": "execute_result"
    }
   ],
   "source": [
    "df_2013.head(3)"
   ]
  },
  {
   "cell_type": "markdown",
   "metadata": {},
   "source": [
    "#### 2.3 Data Frame 2014"
   ]
  },
  {
   "cell_type": "code",
   "execution_count": 5,
   "metadata": {},
   "outputs": [],
   "source": [
    "df_2014_raw = get_data(year = 2014, apply_format=False)\n",
    "df_2014 = get_data(year = 2014, apply_format=True)"
   ]
  },
  {
   "cell_type": "code",
   "execution_count": 6,
   "metadata": {},
   "outputs": [
    {
     "data": {
      "text/html": [
       "<div>\n",
       "<style scoped>\n",
       "    .dataframe tbody tr th:only-of-type {\n",
       "        vertical-align: middle;\n",
       "    }\n",
       "\n",
       "    .dataframe tbody tr th {\n",
       "        vertical-align: top;\n",
       "    }\n",
       "\n",
       "    .dataframe thead th {\n",
       "        text-align: right;\n",
       "    }\n",
       "</style>\n",
       "<table border=\"1\" class=\"dataframe\">\n",
       "  <thead>\n",
       "    <tr style=\"text-align: right;\">\n",
       "      <th></th>\n",
       "      <th>ID</th>\n",
       "      <th>NOMBRE_ORIGEN</th>\n",
       "      <th>ORIGEN_FECHA</th>\n",
       "      <th>DESTINO_ESTACION</th>\n",
       "      <th>DESTINO_FECHA</th>\n",
       "    </tr>\n",
       "  </thead>\n",
       "  <tbody>\n",
       "    <tr>\n",
       "      <th>0</th>\n",
       "      <td>36680</td>\n",
       "      <td>ONCE</td>\n",
       "      <td>2014-01-02 08:03:44.437</td>\n",
       "      <td>SUIPACHA</td>\n",
       "      <td>2014-01-02 08:20:50.903</td>\n",
       "    </tr>\n",
       "    <tr>\n",
       "      <th>1</th>\n",
       "      <td>36680</td>\n",
       "      <td>SUIPACHA</td>\n",
       "      <td>2014-01-02 08:33:59.873</td>\n",
       "      <td>ALSINA</td>\n",
       "      <td>2014-01-02 08:45:23.983</td>\n",
       "    </tr>\n",
       "    <tr>\n",
       "      <th>2</th>\n",
       "      <td>91345</td>\n",
       "      <td>CONGRESO</td>\n",
       "      <td>2014-01-02 08:43:09.263</td>\n",
       "      <td>CONGRESO</td>\n",
       "      <td>2014-01-02 09:30:12.043</td>\n",
       "    </tr>\n",
       "  </tbody>\n",
       "</table>\n",
       "</div>"
      ],
      "text/plain": [
       "      ID NOMBRE_ORIGEN             ORIGEN_FECHA DESTINO_ESTACION  \\\n",
       "0  36680          ONCE  2014-01-02 08:03:44.437         SUIPACHA   \n",
       "1  36680      SUIPACHA  2014-01-02 08:33:59.873           ALSINA   \n",
       "2  91345      CONGRESO  2014-01-02 08:43:09.263         CONGRESO   \n",
       "\n",
       "             DESTINO_FECHA  \n",
       "0  2014-01-02 08:20:50.903  \n",
       "1  2014-01-02 08:45:23.983  \n",
       "2  2014-01-02 09:30:12.043  "
      ]
     },
     "execution_count": 6,
     "metadata": {},
     "output_type": "execute_result"
    }
   ],
   "source": [
    "df_2014_raw.head(3)"
   ]
  },
  {
   "cell_type": "code",
   "execution_count": 7,
   "metadata": {},
   "outputs": [
    {
     "data": {
      "text/html": [
       "<div>\n",
       "<style scoped>\n",
       "    .dataframe tbody tr th:only-of-type {\n",
       "        vertical-align: middle;\n",
       "    }\n",
       "\n",
       "    .dataframe tbody tr th {\n",
       "        vertical-align: top;\n",
       "    }\n",
       "\n",
       "    .dataframe thead th {\n",
       "        text-align: right;\n",
       "    }\n",
       "</style>\n",
       "<table border=\"1\" class=\"dataframe\">\n",
       "  <thead>\n",
       "    <tr style=\"text-align: right;\">\n",
       "      <th></th>\n",
       "      <th>usuario_id</th>\n",
       "      <th>origen_nombre</th>\n",
       "      <th>destino_nombre</th>\n",
       "      <th>tiempo_uso(s)</th>\n",
       "    </tr>\n",
       "    <tr>\n",
       "      <th>ORIGEN_FECHA</th>\n",
       "      <th></th>\n",
       "      <th></th>\n",
       "      <th></th>\n",
       "      <th></th>\n",
       "    </tr>\n",
       "  </thead>\n",
       "  <tbody>\n",
       "    <tr>\n",
       "      <th>2014-01-02 08:03:44.437</th>\n",
       "      <td>36680</td>\n",
       "      <td>ONCE</td>\n",
       "      <td>SUIPACHA</td>\n",
       "      <td>1026</td>\n",
       "    </tr>\n",
       "    <tr>\n",
       "      <th>2014-01-02 08:33:59.873</th>\n",
       "      <td>36680</td>\n",
       "      <td>SUIPACHA</td>\n",
       "      <td>ALSINA</td>\n",
       "      <td>684</td>\n",
       "    </tr>\n",
       "    <tr>\n",
       "      <th>2014-01-02 08:43:09.263</th>\n",
       "      <td>91345</td>\n",
       "      <td>CONGRESO</td>\n",
       "      <td>CONGRESO</td>\n",
       "      <td>2822</td>\n",
       "    </tr>\n",
       "  </tbody>\n",
       "</table>\n",
       "</div>"
      ],
      "text/plain": [
       "                         usuario_id origen_nombre destino_nombre  \\\n",
       "ORIGEN_FECHA                                                       \n",
       "2014-01-02 08:03:44.437       36680          ONCE       SUIPACHA   \n",
       "2014-01-02 08:33:59.873       36680      SUIPACHA         ALSINA   \n",
       "2014-01-02 08:43:09.263       91345      CONGRESO       CONGRESO   \n",
       "\n",
       "                         tiempo_uso(s)  \n",
       "ORIGEN_FECHA                            \n",
       "2014-01-02 08:03:44.437           1026  \n",
       "2014-01-02 08:33:59.873            684  \n",
       "2014-01-02 08:43:09.263           2822  "
      ]
     },
     "execution_count": 7,
     "metadata": {},
     "output_type": "execute_result"
    }
   ],
   "source": [
    "df_2014.head(3)"
   ]
  }
 ],
 "metadata": {
  "kernelspec": {
   "display_name": "Python 3",
   "language": "python",
   "name": "python3"
  },
  "language_info": {
   "codemirror_mode": {
    "name": "ipython",
    "version": 3
   },
   "file_extension": ".py",
   "mimetype": "text/x-python",
   "name": "python",
   "nbconvert_exporter": "python",
   "pygments_lexer": "ipython3",
   "version": "3.7.1"
  }
 },
 "nbformat": 4,
 "nbformat_minor": 2
}
