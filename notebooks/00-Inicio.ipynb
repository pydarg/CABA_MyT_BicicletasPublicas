{
 "cells": [
  {
   "cell_type": "markdown",
   "metadata": {},
   "source": [
    "# 1. INICIO"
   ]
  },
  {
   "cell_type": "markdown",
   "metadata": {},
   "source": [
    "Nuestro punto de partida son los Data Sets provistos por [Buenos Aires Data](https://data.buenosaires.gob.ar/dataset/bicicletas-publicas), los cuales tienen caracteristicas similares, pero presentan algunas discrepancias que dificultan hacer un análisis para todos los años, por lo que nuestros objetivos serán:\n",
    "\n",
    "- Definir el nombre generico para las columnas.\n",
    "- Definir las columnas compatibles.\n",
    "- Unificar los data sets en un **NetCDF**"
   ]
  },
  {
   "cell_type": "code",
   "execution_count": 1,
   "metadata": {},
   "outputs": [],
   "source": [
    "from localpacks.data import get_data"
   ]
  },
  {
   "cell_type": "markdown",
   "metadata": {},
   "source": [
    "#### 1.1  Importamos nuestros datasets"
   ]
  },
  {
   "cell_type": "code",
   "execution_count": 2,
   "metadata": {
    "slideshow": {
     "slide_type": "-"
    }
   },
   "outputs": [],
   "source": [
    "#Rango de 2010 al 2018\n",
    "df_2010 = get_data(year=2010)\n",
    "df_2011 = get_data(year=2011)\n",
    "df_2012 = get_data(year=2012)\n",
    "df_2013 = get_data(year=2013)\n",
    "df_2014 = get_data(year=2014)\n",
    "df_2015 = get_data(year=2015)\n",
    "df_2016 = get_data(year=2016)\n",
    "df_2017 = get_data(year=2017)\n",
    "df_2018 = get_data(year=2018) #Aun no esta completo fecha_actual: 13/12/2018"
   ]
  },
  {
   "cell_type": "code",
   "execution_count": 3,
   "metadata": {},
   "outputs": [
    {
     "data": {
      "text/plain": [
       "array(['PERIODO', 'ORIGENFECHA', 'ORIGENESTACIONID', 'ORIGENNOMBRE',\n",
       "       'DESTINOFECHA', 'DESTINOESTACIONID', 'DESTINONOMBRE', 'TIEMPOUSO'],\n",
       "      dtype=object)"
      ]
     },
     "execution_count": 3,
     "metadata": {},
     "output_type": "execute_result"
    }
   ],
   "source": [
    "#observamos las columnas de cada data frame\n",
    "df_2010.columns.values\n",
    "#df_2011.columns.values\n",
    "#df_2012.columns.values\n",
    "#df_2013.columns.values\n",
    "#df_2014.columns.values\n",
    "#df_2015.columns.values\n",
    "#df_2016.columns.values\n",
    "#df_2017.columns.values\n",
    "#df_2018.columns.values"
   ]
  },
  {
   "cell_type": "markdown",
   "metadata": {},
   "source": [
    "#### 1.2 Extraemos las columnas y las vaciamos en un dict"
   ]
  },
  {
   "cell_type": "code",
   "execution_count": 4,
   "metadata": {},
   "outputs": [],
   "source": [
    "#columnas iniciales\n",
    "columns = {'2010' : ['PERIODO', 'ORIGENFECHA', 'ORIGENESTACIONID', 'ORIGENNOMBRE',\n",
    "       'DESTINOFECHA', 'DESTINOESTACIONID', 'DESTINONOMBRE', 'TIEMPOUSO'],\n",
    "\n",
    "           '2011' : ['PERIODO', 'ORIGENFECHA', 'ORIGENESTACIONID', 'NOMBREORIGEN',\n",
    "       'DESTINOFECHA', 'DESTINOESTACIONID', 'NOMBREDESTINO', 'TIEMPOUSO'],\n",
    "           \n",
    "           '2012' : ['PERIODO', 'ORIGENFECHA', 'ORIGENESTACIONID', 'ORIGENNOMBRE',\n",
    "       'DESTINOFECHA', 'DESTINOESTACIONID', 'DESTINONOMBRE', 'TIEMPOUSO'],\n",
    "           \n",
    "           '2013' : ['ID', 'NOMBRE_ORIGEN', 'ORIGEN_FECHA', 'DESTINO_ESTACION',\n",
    "       'DESTINO_FECHA'],\n",
    "           \n",
    "           '2014' : ['ID', 'NOMBRE_ORIGEN', 'ORIGEN_FECHA', 'DESTINO_ESTACION',\n",
    "       'DESTINO_FECHA'],\n",
    "           \n",
    "           '2015' : ['periodo', 'genero', 'fecha_hora_retiro', 'origen_estacion',\n",
    "       'nombre_origen', 'destino_estacion', 'nombre_destino', 'tiempo_uso'],\n",
    "           \n",
    "           '2016' : ['periodo', 'genero', 'fecha_hora_retiro', 'origen_estacion',\n",
    "       'nombre_origen', 'destino_estacion', 'nombre_destino', 'tiempo_uso'],\n",
    "           \n",
    "           '2017' : ['periodo', 'genero', 'fecha_hora_retiro', 'origen_estacion',\n",
    "       'nombre_origen', 'destino_estacion', 'nombre_destino', 'tiempo_uso'],\n",
    "           \n",
    "           '2018' : ['id_usuario', 'bici_fecha_hora_retiro', 'bici_tiempo_uso', \n",
    "                     'bici_nombre_estacion_origen', 'bici_estacion_origen',\n",
    "                     'bici_nombre_estacion_destino', 'bici_estacion_destino',\n",
    "                     'bici_sexo', 'bici_edad']\n",
    "          }"
   ]
  },
  {
   "cell_type": "markdown",
   "metadata": {},
   "source": [
    "Con el analisis de los nombres de cada columna, definimos las siguientes convenciones:"
   ]
  },
  {
   "cell_type": "markdown",
   "metadata": {},
   "source": [
    "#### 1.3 Definicion de nombres"
   ]
  },
  {
   "cell_type": "markdown",
   "metadata": {},
   "source": [
    "2010 al 2012 | 2013 al 2014 | 2015 al 2017 | 2018\n",
    "------------ | ------------- | ------------ | -------------\n",
    "periodo | -- | periodo | --\n",
    "-- | usuario_id | -- | usuario_id\n",
    "origen_fecha, origen_id, origen_nombre | origen_fecha, origen_id, origen_nombre | origen_fecha, origen_id, origen_nombre | origen_fecha, origen_id, origen_nombre\n",
    "destino_fecha, destino_id, destino_nombre| destino_fecha, destino_id, destino_nombre | destino_id, destino_nombre | destino_id, destino_nombre\n",
    "tiempo_uso | -- | tiempo_uso | tiempo_uso\n",
    "-- | -- | -- | usario_edad\n",
    "-- | -- | usuario_genero | usuario_genero\n"
   ]
  },
  {
   "cell_type": "markdown",
   "metadata": {},
   "source": [
    "En la tabla anterior dejamos claro el nombre que utilizaremos para las columnas comunes y no comunes."
   ]
  },
  {
   "cell_type": "markdown",
   "metadata": {
    "toc-hr-collapsed": false
   },
   "source": [
    "#### 1.4 Formato de integración"
   ]
  },
  {
   "cell_type": "markdown",
   "metadata": {
    "toc-hr-collapsed": false
   },
   "source": [
    "2010 al 2012 | 2013 al 2014 | 2015 al 2017 | 2018\n",
    "------------ | ------------- | ------------ | -------------\n",
    "-- | usuario_id | -- | usuario_id\n",
    "fecha_uso | fecha_uso | fecha_uso | fecha_uso \n",
    "origen_id, origen_nombre | origen_id, origen_nombre | origen_id, origen_nombre | origen_id, origen_nombre\n",
    "destino_id, destino_nombre| destino_id, destino_nombre | destino_id, destino_nombre | destino_id, destino_nombre\n",
    "tiempo_uso(s) | tiempo_uso(s) | tiempo_uso(s) | tiempo_uso(s)\n",
    "-- | -- | -- | usario_edad\n",
    "-- | -- | usuario_genero | usuario_genero\n"
   ]
  },
  {
   "cell_type": "markdown",
   "metadata": {},
   "source": [
    "Consideraciones:\n",
    "\n",
    "- La columna **periodo** se elimina, y pasa a ser un metadato.\n",
    "- La columna **origen fecha** se cambia a **fecha_uso** y pasa a ser el **index**\n",
    "- La culumna **destino fecha** si existe se elimina y se deriva el **tiempo_uso**"
   ]
  },
  {
   "cell_type": "markdown",
   "metadata": {},
   "source": [
    "Formatos:\n",
    "\n",
    "- **usuario_id:**  integer, discreto, ordinal.\n",
    "- **fecha_uso:** date_time, discreto, ordinal.\n",
    "- **origen_id:** integer, discreto, ordinal (one_to_one with origen_nombre)\n",
    "- **nombre_id:** string, discreto, ordinal (one_to_one with origen_id)\n",
    "- **destino_id:**  integer, discreto, ordinal (one_to_one with destino_nombre)\n",
    "- **destino_id:**  string, discreto, ordinal (one_to_one with destino_id)\n",
    "- **tiempo_uso:** time_delta, continuo, ordinal.\n",
    "- **usuario_edad:** integer, discreto, ordinal.\n",
    "- **usuario_genero:** string."
   ]
  },
  {
   "cell_type": "markdown",
   "metadata": {},
   "source": [
    "# 2. AJUSTES"
   ]
  },
  {
   "cell_type": "markdown",
   "metadata": {},
   "source": [
    "#### 2.1 Data Frame 2010"
   ]
  },
  {
   "cell_type": "code",
   "execution_count": 5,
   "metadata": {},
   "outputs": [],
   "source": [
    "df_2010_raw = get_data(year = 2010, apply_format=False)\n",
    "df_2010 = get_data(year = 2010, apply_format=True)"
   ]
  },
  {
   "cell_type": "code",
   "execution_count": 6,
   "metadata": {},
   "outputs": [
    {
     "data": {
      "text/html": [
       "<div>\n",
       "<style scoped>\n",
       "    .dataframe tbody tr th:only-of-type {\n",
       "        vertical-align: middle;\n",
       "    }\n",
       "\n",
       "    .dataframe tbody tr th {\n",
       "        vertical-align: top;\n",
       "    }\n",
       "\n",
       "    .dataframe thead th {\n",
       "        text-align: right;\n",
       "    }\n",
       "</style>\n",
       "<table border=\"1\" class=\"dataframe\">\n",
       "  <thead>\n",
       "    <tr style=\"text-align: right;\">\n",
       "      <th></th>\n",
       "      <th>PERIODO</th>\n",
       "      <th>ORIGENFECHA</th>\n",
       "      <th>ORIGENESTACIONID</th>\n",
       "      <th>ORIGENNOMBRE</th>\n",
       "      <th>DESTINOFECHA</th>\n",
       "      <th>DESTINOESTACIONID</th>\n",
       "      <th>DESTINONOMBRE</th>\n",
       "      <th>TIEMPOUSO</th>\n",
       "    </tr>\n",
       "  </thead>\n",
       "  <tbody>\n",
       "    <tr>\n",
       "      <th>0</th>\n",
       "      <td>2010</td>\n",
       "      <td>30/12/2010 19:39</td>\n",
       "      <td>6</td>\n",
       "      <td>DERECHO</td>\n",
       "      <td>30/12/2010 19:46</td>\n",
       "      <td>3</td>\n",
       "      <td>RETIRO</td>\n",
       "      <td>7.0</td>\n",
       "    </tr>\n",
       "    <tr>\n",
       "      <th>1</th>\n",
       "      <td>2010</td>\n",
       "      <td>30/12/2010 19:34</td>\n",
       "      <td>5</td>\n",
       "      <td>ADUANA</td>\n",
       "      <td>30/12/2010 19:47</td>\n",
       "      <td>3</td>\n",
       "      <td>RETIRO</td>\n",
       "      <td>13.0</td>\n",
       "    </tr>\n",
       "    <tr>\n",
       "      <th>2</th>\n",
       "      <td>2010</td>\n",
       "      <td>30/12/2010 19:10</td>\n",
       "      <td>7</td>\n",
       "      <td>PLAZA ROMA</td>\n",
       "      <td>30/12/2010 19:17</td>\n",
       "      <td>3</td>\n",
       "      <td>RETIRO</td>\n",
       "      <td>7.0</td>\n",
       "    </tr>\n",
       "  </tbody>\n",
       "</table>\n",
       "</div>"
      ],
      "text/plain": [
       "   PERIODO       ORIGENFECHA  ORIGENESTACIONID ORIGENNOMBRE      DESTINOFECHA  \\\n",
       "0     2010  30/12/2010 19:39                 6      DERECHO  30/12/2010 19:46   \n",
       "1     2010  30/12/2010 19:34                 5       ADUANA  30/12/2010 19:47   \n",
       "2     2010  30/12/2010 19:10                 7   PLAZA ROMA  30/12/2010 19:17   \n",
       "\n",
       "   DESTINOESTACIONID DESTINONOMBRE  TIEMPOUSO  \n",
       "0                  3        RETIRO        7.0  \n",
       "1                  3        RETIRO       13.0  \n",
       "2                  3        RETIRO        7.0  "
      ]
     },
     "execution_count": 6,
     "metadata": {},
     "output_type": "execute_result"
    }
   ],
   "source": [
    "df_2010_raw.head(3)"
   ]
  },
  {
   "cell_type": "code",
   "execution_count": 7,
   "metadata": {},
   "outputs": [
    {
     "data": {
      "text/html": [
       "<div>\n",
       "<style scoped>\n",
       "    .dataframe tbody tr th:only-of-type {\n",
       "        vertical-align: middle;\n",
       "    }\n",
       "\n",
       "    .dataframe tbody tr th {\n",
       "        vertical-align: top;\n",
       "    }\n",
       "\n",
       "    .dataframe thead th {\n",
       "        text-align: right;\n",
       "    }\n",
       "</style>\n",
       "<table border=\"1\" class=\"dataframe\">\n",
       "  <thead>\n",
       "    <tr style=\"text-align: right;\">\n",
       "      <th></th>\n",
       "      <th>origen_id</th>\n",
       "      <th>origen_nombre</th>\n",
       "      <th>destino_id</th>\n",
       "      <th>destino_nombre</th>\n",
       "      <th>tiempo_uso(s)</th>\n",
       "    </tr>\n",
       "    <tr>\n",
       "      <th>ORIGENFECHA</th>\n",
       "      <th></th>\n",
       "      <th></th>\n",
       "      <th></th>\n",
       "      <th></th>\n",
       "      <th></th>\n",
       "    </tr>\n",
       "  </thead>\n",
       "  <tbody>\n",
       "    <tr>\n",
       "      <th>2010-12-30 19:39:00</th>\n",
       "      <td>6</td>\n",
       "      <td>DERECHO</td>\n",
       "      <td>3</td>\n",
       "      <td>RETIRO</td>\n",
       "      <td>420.0</td>\n",
       "    </tr>\n",
       "    <tr>\n",
       "      <th>2010-12-30 19:34:00</th>\n",
       "      <td>5</td>\n",
       "      <td>ADUANA</td>\n",
       "      <td>3</td>\n",
       "      <td>RETIRO</td>\n",
       "      <td>780.0</td>\n",
       "    </tr>\n",
       "    <tr>\n",
       "      <th>2010-12-30 19:10:00</th>\n",
       "      <td>7</td>\n",
       "      <td>PLAZA ROMA</td>\n",
       "      <td>3</td>\n",
       "      <td>RETIRO</td>\n",
       "      <td>420.0</td>\n",
       "    </tr>\n",
       "  </tbody>\n",
       "</table>\n",
       "</div>"
      ],
      "text/plain": [
       "                     origen_id origen_nombre  destino_id destino_nombre  \\\n",
       "ORIGENFECHA                                                               \n",
       "2010-12-30 19:39:00          6       DERECHO           3         RETIRO   \n",
       "2010-12-30 19:34:00          5        ADUANA           3         RETIRO   \n",
       "2010-12-30 19:10:00          7    PLAZA ROMA           3         RETIRO   \n",
       "\n",
       "                     tiempo_uso(s)  \n",
       "ORIGENFECHA                         \n",
       "2010-12-30 19:39:00          420.0  \n",
       "2010-12-30 19:34:00          780.0  \n",
       "2010-12-30 19:10:00          420.0  "
      ]
     },
     "execution_count": 7,
     "metadata": {},
     "output_type": "execute_result"
    }
   ],
   "source": [
    "df_2010.head(3)"
   ]
  },
  {
   "cell_type": "markdown",
   "metadata": {},
   "source": [
    "#### 2.2 Data Frame 2011"
   ]
  },
  {
   "cell_type": "code",
   "execution_count": 8,
   "metadata": {},
   "outputs": [],
   "source": [
    "df_2011_raw = get_data(year = 2011, apply_format=False)\n",
    "df_2011 = get_data(year = 2011, apply_format=True)"
   ]
  },
  {
   "cell_type": "code",
   "execution_count": 9,
   "metadata": {},
   "outputs": [
    {
     "data": {
      "text/html": [
       "<div>\n",
       "<style scoped>\n",
       "    .dataframe tbody tr th:only-of-type {\n",
       "        vertical-align: middle;\n",
       "    }\n",
       "\n",
       "    .dataframe tbody tr th {\n",
       "        vertical-align: top;\n",
       "    }\n",
       "\n",
       "    .dataframe thead th {\n",
       "        text-align: right;\n",
       "    }\n",
       "</style>\n",
       "<table border=\"1\" class=\"dataframe\">\n",
       "  <thead>\n",
       "    <tr style=\"text-align: right;\">\n",
       "      <th></th>\n",
       "      <th>PERIODO</th>\n",
       "      <th>ORIGENFECHA</th>\n",
       "      <th>ORIGENESTACIONID</th>\n",
       "      <th>NOMBREORIGEN</th>\n",
       "      <th>DESTINOFECHA</th>\n",
       "      <th>DESTINOESTACIONID</th>\n",
       "      <th>NOMBREDESTINO</th>\n",
       "      <th>TIEMPOUSO</th>\n",
       "    </tr>\n",
       "  </thead>\n",
       "  <tbody>\n",
       "    <tr>\n",
       "      <th>0</th>\n",
       "      <td>2011</td>\n",
       "      <td>29/09/2011 19:40</td>\n",
       "      <td>16</td>\n",
       "      <td>PARQUE LAS HERAS</td>\n",
       "      <td>29/09/2011 19:49</td>\n",
       "      <td>21</td>\n",
       "      <td>PACIFICO</td>\n",
       "      <td>10.0</td>\n",
       "    </tr>\n",
       "    <tr>\n",
       "      <th>1</th>\n",
       "      <td>2011</td>\n",
       "      <td>29/09/2011 19:37</td>\n",
       "      <td>3</td>\n",
       "      <td>RETIRO</td>\n",
       "      <td>29/09/2011 19:57</td>\n",
       "      <td>8</td>\n",
       "      <td>PLAZA ITALIA</td>\n",
       "      <td>20.0</td>\n",
       "    </tr>\n",
       "    <tr>\n",
       "      <th>2</th>\n",
       "      <td>2011</td>\n",
       "      <td>29/09/2011 19:36</td>\n",
       "      <td>19</td>\n",
       "      <td>PLAZA VICENTE LOPEZ</td>\n",
       "      <td>29/09/2011 19:41</td>\n",
       "      <td>6</td>\n",
       "      <td>DERECHO</td>\n",
       "      <td>5.0</td>\n",
       "    </tr>\n",
       "  </tbody>\n",
       "</table>\n",
       "</div>"
      ],
      "text/plain": [
       "   PERIODO       ORIGENFECHA  ORIGENESTACIONID         NOMBREORIGEN  \\\n",
       "0     2011  29/09/2011 19:40                16     PARQUE LAS HERAS   \n",
       "1     2011  29/09/2011 19:37                 3               RETIRO   \n",
       "2     2011  29/09/2011 19:36                19  PLAZA VICENTE LOPEZ   \n",
       "\n",
       "       DESTINOFECHA  DESTINOESTACIONID NOMBREDESTINO  TIEMPOUSO  \n",
       "0  29/09/2011 19:49                 21      PACIFICO       10.0  \n",
       "1  29/09/2011 19:57                  8  PLAZA ITALIA       20.0  \n",
       "2  29/09/2011 19:41                  6       DERECHO        5.0  "
      ]
     },
     "execution_count": 9,
     "metadata": {},
     "output_type": "execute_result"
    }
   ],
   "source": [
    "df_2011_raw.head(3)"
   ]
  },
  {
   "cell_type": "code",
   "execution_count": 10,
   "metadata": {},
   "outputs": [
    {
     "data": {
      "text/html": [
       "<div>\n",
       "<style scoped>\n",
       "    .dataframe tbody tr th:only-of-type {\n",
       "        vertical-align: middle;\n",
       "    }\n",
       "\n",
       "    .dataframe tbody tr th {\n",
       "        vertical-align: top;\n",
       "    }\n",
       "\n",
       "    .dataframe thead th {\n",
       "        text-align: right;\n",
       "    }\n",
       "</style>\n",
       "<table border=\"1\" class=\"dataframe\">\n",
       "  <thead>\n",
       "    <tr style=\"text-align: right;\">\n",
       "      <th></th>\n",
       "      <th>origen_id</th>\n",
       "      <th>origen_nombre</th>\n",
       "      <th>destino_id</th>\n",
       "      <th>destino_nombre</th>\n",
       "      <th>tiempo_uso(s)</th>\n",
       "    </tr>\n",
       "    <tr>\n",
       "      <th>ORIGENFECHA</th>\n",
       "      <th></th>\n",
       "      <th></th>\n",
       "      <th></th>\n",
       "      <th></th>\n",
       "      <th></th>\n",
       "    </tr>\n",
       "  </thead>\n",
       "  <tbody>\n",
       "    <tr>\n",
       "      <th>2011-09-29 19:40:00</th>\n",
       "      <td>16</td>\n",
       "      <td>PARQUE LAS HERAS</td>\n",
       "      <td>21</td>\n",
       "      <td>PACIFICO</td>\n",
       "      <td>600.0</td>\n",
       "    </tr>\n",
       "    <tr>\n",
       "      <th>2011-09-29 19:37:00</th>\n",
       "      <td>3</td>\n",
       "      <td>RETIRO</td>\n",
       "      <td>8</td>\n",
       "      <td>PLAZA ITALIA</td>\n",
       "      <td>1200.0</td>\n",
       "    </tr>\n",
       "    <tr>\n",
       "      <th>2011-09-29 19:36:00</th>\n",
       "      <td>19</td>\n",
       "      <td>PLAZA VICENTE LOPEZ</td>\n",
       "      <td>6</td>\n",
       "      <td>DERECHO</td>\n",
       "      <td>300.0</td>\n",
       "    </tr>\n",
       "  </tbody>\n",
       "</table>\n",
       "</div>"
      ],
      "text/plain": [
       "                     origen_id        origen_nombre  destino_id  \\\n",
       "ORIGENFECHA                                                       \n",
       "2011-09-29 19:40:00         16     PARQUE LAS HERAS          21   \n",
       "2011-09-29 19:37:00          3               RETIRO           8   \n",
       "2011-09-29 19:36:00         19  PLAZA VICENTE LOPEZ           6   \n",
       "\n",
       "                    destino_nombre  tiempo_uso(s)  \n",
       "ORIGENFECHA                                        \n",
       "2011-09-29 19:40:00       PACIFICO          600.0  \n",
       "2011-09-29 19:37:00   PLAZA ITALIA         1200.0  \n",
       "2011-09-29 19:36:00        DERECHO          300.0  "
      ]
     },
     "execution_count": 10,
     "metadata": {},
     "output_type": "execute_result"
    }
   ],
   "source": [
    "df_2011.head(3)"
   ]
  },
  {
   "cell_type": "markdown",
   "metadata": {},
   "source": [
    "#### 2.2 Data Frame 2012"
   ]
  },
  {
   "cell_type": "code",
   "execution_count": 11,
   "metadata": {},
   "outputs": [],
   "source": [
    "df_2012_raw = get_data(year = 2012, apply_format=False)"
   ]
  },
  {
   "cell_type": "code",
   "execution_count": 12,
   "metadata": {},
   "outputs": [
    {
     "data": {
      "text/html": [
       "<div>\n",
       "<style scoped>\n",
       "    .dataframe tbody tr th:only-of-type {\n",
       "        vertical-align: middle;\n",
       "    }\n",
       "\n",
       "    .dataframe tbody tr th {\n",
       "        vertical-align: top;\n",
       "    }\n",
       "\n",
       "    .dataframe thead th {\n",
       "        text-align: right;\n",
       "    }\n",
       "</style>\n",
       "<table border=\"1\" class=\"dataframe\">\n",
       "  <thead>\n",
       "    <tr style=\"text-align: right;\">\n",
       "      <th></th>\n",
       "      <th>PERIODO</th>\n",
       "      <th>ORIGENFECHA</th>\n",
       "      <th>ORIGENESTACIONID</th>\n",
       "      <th>ORIGENNOMBRE</th>\n",
       "      <th>DESTINOFECHA</th>\n",
       "      <th>DESTINOESTACIONID</th>\n",
       "      <th>DESTINONOMBRE</th>\n",
       "      <th>TIEMPOUSO</th>\n",
       "    </tr>\n",
       "  </thead>\n",
       "  <tbody>\n",
       "    <tr>\n",
       "      <th>0</th>\n",
       "      <td>2012</td>\n",
       "      <td>2012-01-02 07:42:15.2</td>\n",
       "      <td>28</td>\n",
       "      <td>PZA. SAN MARTIN</td>\n",
       "      <td>2012-01-02 08:10:46.89</td>\n",
       "      <td>19</td>\n",
       "      <td>PLAZA VICENTE LOPEZ</td>\n",
       "      <td>29.0</td>\n",
       "    </tr>\n",
       "    <tr>\n",
       "      <th>1</th>\n",
       "      <td>2012</td>\n",
       "      <td>2012-01-02 07:58:00.983</td>\n",
       "      <td>20</td>\n",
       "      <td>ONCE</td>\n",
       "      <td>2012-01-02 08:16:31.84</td>\n",
       "      <td>22</td>\n",
       "      <td>VIRREY CEVALLOS</td>\n",
       "      <td>19.0</td>\n",
       "    </tr>\n",
       "    <tr>\n",
       "      <th>2</th>\n",
       "      <td>2012</td>\n",
       "      <td>2012-01-02 07:59:55.59</td>\n",
       "      <td>16</td>\n",
       "      <td>PARQUE LAS HERAS</td>\n",
       "      <td>2012-01-02 08:25:56.7</td>\n",
       "      <td>7</td>\n",
       "      <td>PZA. ROMA</td>\n",
       "      <td>26.0</td>\n",
       "    </tr>\n",
       "  </tbody>\n",
       "</table>\n",
       "</div>"
      ],
      "text/plain": [
       "   PERIODO              ORIGENFECHA  ORIGENESTACIONID      ORIGENNOMBRE  \\\n",
       "0     2012    2012-01-02 07:42:15.2                28   PZA. SAN MARTIN   \n",
       "1     2012  2012-01-02 07:58:00.983                20              ONCE   \n",
       "2     2012   2012-01-02 07:59:55.59                16  PARQUE LAS HERAS   \n",
       "\n",
       "             DESTINOFECHA  DESTINOESTACIONID        DESTINONOMBRE  TIEMPOUSO  \n",
       "0  2012-01-02 08:10:46.89                 19  PLAZA VICENTE LOPEZ       29.0  \n",
       "1  2012-01-02 08:16:31.84                 22      VIRREY CEVALLOS       19.0  \n",
       "2   2012-01-02 08:25:56.7                  7            PZA. ROMA       26.0  "
      ]
     },
     "execution_count": 12,
     "metadata": {},
     "output_type": "execute_result"
    }
   ],
   "source": [
    "df_2012_raw.head(3)"
   ]
  },
  {
   "cell_type": "code",
   "execution_count": 13,
   "metadata": {},
   "outputs": [
    {
     "name": "stderr",
     "output_type": "stream",
     "text": [
      "C:\\Users\\USUARIO\\OneDrive\\Documentos\\3_gitHubProjects\\CABA_MyT_BicicletasPublicas\\notebooks\\localpacks\\data.py:126: SettingWithCopyWarning: \n",
      "A value is trying to be set on a copy of a slice from a DataFrame.\n",
      "Try using .loc[row_indexer,col_indexer] = value instead\n",
      "\n",
      "See the caveats in the documentation: http://pandas.pydata.org/pandas-docs/stable/indexing.html#indexing-view-versus-copy\n",
      "  df['TIEMPOUSO'] = df['TIEMPOUSO'].astype('int64', errors='ignore') * 60 #convertimos minutos(m) a segundos(s)\n"
     ]
    }
   ],
   "source": [
    "df_2012 = get_data(year = 2012, apply_format=True)"
   ]
  },
  {
   "cell_type": "code",
   "execution_count": 14,
   "metadata": {},
   "outputs": [
    {
     "data": {
      "text/html": [
       "<div>\n",
       "<style scoped>\n",
       "    .dataframe tbody tr th:only-of-type {\n",
       "        vertical-align: middle;\n",
       "    }\n",
       "\n",
       "    .dataframe tbody tr th {\n",
       "        vertical-align: top;\n",
       "    }\n",
       "\n",
       "    .dataframe thead th {\n",
       "        text-align: right;\n",
       "    }\n",
       "</style>\n",
       "<table border=\"1\" class=\"dataframe\">\n",
       "  <thead>\n",
       "    <tr style=\"text-align: right;\">\n",
       "      <th></th>\n",
       "      <th>origen_id</th>\n",
       "      <th>origen_nombre</th>\n",
       "      <th>destino_id</th>\n",
       "      <th>destino_nombre</th>\n",
       "      <th>tiempo_uso(s)</th>\n",
       "    </tr>\n",
       "    <tr>\n",
       "      <th>ORIGENFECHA</th>\n",
       "      <th></th>\n",
       "      <th></th>\n",
       "      <th></th>\n",
       "      <th></th>\n",
       "      <th></th>\n",
       "    </tr>\n",
       "  </thead>\n",
       "  <tbody>\n",
       "    <tr>\n",
       "      <th>2012-01-02 07:58:00.983</th>\n",
       "      <td>20</td>\n",
       "      <td>ONCE</td>\n",
       "      <td>22</td>\n",
       "      <td>VIRREY CEVALLOS</td>\n",
       "      <td>1140.0</td>\n",
       "    </tr>\n",
       "    <tr>\n",
       "      <th>2012-01-02 07:59:55.590</th>\n",
       "      <td>16</td>\n",
       "      <td>PARQUE LAS HERAS</td>\n",
       "      <td>7</td>\n",
       "      <td>PZA. ROMA</td>\n",
       "      <td>1560.0</td>\n",
       "    </tr>\n",
       "    <tr>\n",
       "      <th>2012-01-02 08:01:58.233</th>\n",
       "      <td>27</td>\n",
       "      <td>INDEPENDENCIA</td>\n",
       "      <td>3</td>\n",
       "      <td>RETIRO</td>\n",
       "      <td>1020.0</td>\n",
       "    </tr>\n",
       "  </tbody>\n",
       "</table>\n",
       "</div>"
      ],
      "text/plain": [
       "                         origen_id     origen_nombre  destino_id  \\\n",
       "ORIGENFECHA                                                        \n",
       "2012-01-02 07:58:00.983         20              ONCE          22   \n",
       "2012-01-02 07:59:55.590         16  PARQUE LAS HERAS           7   \n",
       "2012-01-02 08:01:58.233         27     INDEPENDENCIA           3   \n",
       "\n",
       "                          destino_nombre  tiempo_uso(s)  \n",
       "ORIGENFECHA                                              \n",
       "2012-01-02 07:58:00.983  VIRREY CEVALLOS         1140.0  \n",
       "2012-01-02 07:59:55.590        PZA. ROMA         1560.0  \n",
       "2012-01-02 08:01:58.233           RETIRO         1020.0  "
      ]
     },
     "execution_count": 14,
     "metadata": {},
     "output_type": "execute_result"
    }
   ],
   "source": [
    "df_2012.head(3)"
   ]
  },
  {
   "cell_type": "markdown",
   "metadata": {},
   "source": [
    "#### 2.3 Data Frame 2013"
   ]
  },
  {
   "cell_type": "code",
   "execution_count": 15,
   "metadata": {},
   "outputs": [],
   "source": [
    "df_2013_raw = get_data(year = 2013, apply_format=False)\n",
    "df_2013 = get_data(year = 2013, apply_format=True)"
   ]
  },
  {
   "cell_type": "code",
   "execution_count": 16,
   "metadata": {},
   "outputs": [
    {
     "data": {
      "text/html": [
       "<div>\n",
       "<style scoped>\n",
       "    .dataframe tbody tr th:only-of-type {\n",
       "        vertical-align: middle;\n",
       "    }\n",
       "\n",
       "    .dataframe tbody tr th {\n",
       "        vertical-align: top;\n",
       "    }\n",
       "\n",
       "    .dataframe thead th {\n",
       "        text-align: right;\n",
       "    }\n",
       "</style>\n",
       "<table border=\"1\" class=\"dataframe\">\n",
       "  <thead>\n",
       "    <tr style=\"text-align: right;\">\n",
       "      <th></th>\n",
       "      <th>ID</th>\n",
       "      <th>NOMBRE_ORIGEN</th>\n",
       "      <th>ORIGEN_FECHA</th>\n",
       "      <th>DESTINO_ESTACION</th>\n",
       "      <th>DESTINO_FECHA</th>\n",
       "    </tr>\n",
       "  </thead>\n",
       "  <tbody>\n",
       "    <tr>\n",
       "      <th>0</th>\n",
       "      <td>36680</td>\n",
       "      <td>ONCE</td>\n",
       "      <td>2013-01-02 07:49:52.937</td>\n",
       "      <td>PARQUE PATRICIOS</td>\n",
       "      <td>2013-01-02 08:11:36.670</td>\n",
       "    </tr>\n",
       "    <tr>\n",
       "      <th>1</th>\n",
       "      <td>68894</td>\n",
       "      <td>ONCE</td>\n",
       "      <td>2013-01-02 07:52:11.530</td>\n",
       "      <td>PZA. ROMA</td>\n",
       "      <td>2013-01-02 08:23:01.123</td>\n",
       "    </tr>\n",
       "    <tr>\n",
       "      <th>2</th>\n",
       "      <td>69014</td>\n",
       "      <td>PLAZA ALMAGRO</td>\n",
       "      <td>2013-01-02 07:53:56.140</td>\n",
       "      <td>PLAZA VICENTE LOPEZ</td>\n",
       "      <td>2013-01-02 08:25:04.297</td>\n",
       "    </tr>\n",
       "  </tbody>\n",
       "</table>\n",
       "</div>"
      ],
      "text/plain": [
       "      ID  NOMBRE_ORIGEN             ORIGEN_FECHA     DESTINO_ESTACION  \\\n",
       "0  36680           ONCE  2013-01-02 07:49:52.937     PARQUE PATRICIOS   \n",
       "1  68894           ONCE  2013-01-02 07:52:11.530            PZA. ROMA   \n",
       "2  69014  PLAZA ALMAGRO  2013-01-02 07:53:56.140  PLAZA VICENTE LOPEZ   \n",
       "\n",
       "             DESTINO_FECHA  \n",
       "0  2013-01-02 08:11:36.670  \n",
       "1  2013-01-02 08:23:01.123  \n",
       "2  2013-01-02 08:25:04.297  "
      ]
     },
     "execution_count": 16,
     "metadata": {},
     "output_type": "execute_result"
    }
   ],
   "source": [
    "df_2013_raw.head(3)"
   ]
  },
  {
   "cell_type": "code",
   "execution_count": 17,
   "metadata": {},
   "outputs": [
    {
     "data": {
      "text/html": [
       "<div>\n",
       "<style scoped>\n",
       "    .dataframe tbody tr th:only-of-type {\n",
       "        vertical-align: middle;\n",
       "    }\n",
       "\n",
       "    .dataframe tbody tr th {\n",
       "        vertical-align: top;\n",
       "    }\n",
       "\n",
       "    .dataframe thead th {\n",
       "        text-align: right;\n",
       "    }\n",
       "</style>\n",
       "<table border=\"1\" class=\"dataframe\">\n",
       "  <thead>\n",
       "    <tr style=\"text-align: right;\">\n",
       "      <th></th>\n",
       "      <th>usuario_id</th>\n",
       "      <th>origen_nombre</th>\n",
       "      <th>destino_nombre</th>\n",
       "      <th>tiempo_uso(s)</th>\n",
       "    </tr>\n",
       "    <tr>\n",
       "      <th>ORIGEN_FECHA</th>\n",
       "      <th></th>\n",
       "      <th></th>\n",
       "      <th></th>\n",
       "      <th></th>\n",
       "    </tr>\n",
       "  </thead>\n",
       "  <tbody>\n",
       "    <tr>\n",
       "      <th>2013-01-02 07:49:52.937</th>\n",
       "      <td>36680</td>\n",
       "      <td>ONCE</td>\n",
       "      <td>PARQUE PATRICIOS</td>\n",
       "      <td>1303</td>\n",
       "    </tr>\n",
       "    <tr>\n",
       "      <th>2013-01-02 07:52:11.530</th>\n",
       "      <td>68894</td>\n",
       "      <td>ONCE</td>\n",
       "      <td>PZA. ROMA</td>\n",
       "      <td>1849</td>\n",
       "    </tr>\n",
       "    <tr>\n",
       "      <th>2013-01-02 07:53:56.140</th>\n",
       "      <td>69014</td>\n",
       "      <td>PLAZA ALMAGRO</td>\n",
       "      <td>PLAZA VICENTE LOPEZ</td>\n",
       "      <td>1868</td>\n",
       "    </tr>\n",
       "  </tbody>\n",
       "</table>\n",
       "</div>"
      ],
      "text/plain": [
       "                         usuario_id  origen_nombre       destino_nombre  \\\n",
       "ORIGEN_FECHA                                                              \n",
       "2013-01-02 07:49:52.937       36680           ONCE     PARQUE PATRICIOS   \n",
       "2013-01-02 07:52:11.530       68894           ONCE            PZA. ROMA   \n",
       "2013-01-02 07:53:56.140       69014  PLAZA ALMAGRO  PLAZA VICENTE LOPEZ   \n",
       "\n",
       "                         tiempo_uso(s)  \n",
       "ORIGEN_FECHA                            \n",
       "2013-01-02 07:49:52.937           1303  \n",
       "2013-01-02 07:52:11.530           1849  \n",
       "2013-01-02 07:53:56.140           1868  "
      ]
     },
     "execution_count": 17,
     "metadata": {},
     "output_type": "execute_result"
    }
   ],
   "source": [
    "df_2013.head(3)"
   ]
  },
  {
   "cell_type": "markdown",
   "metadata": {},
   "source": [
    "#### 2.3 Data Frame 2014"
   ]
  },
  {
   "cell_type": "code",
   "execution_count": 18,
   "metadata": {},
   "outputs": [],
   "source": [
    "df_2014_raw = get_data(year = 2014, apply_format=False)\n",
    "df_2014 = get_data(year = 2014, apply_format=True)"
   ]
  },
  {
   "cell_type": "code",
   "execution_count": 19,
   "metadata": {},
   "outputs": [
    {
     "data": {
      "text/html": [
       "<div>\n",
       "<style scoped>\n",
       "    .dataframe tbody tr th:only-of-type {\n",
       "        vertical-align: middle;\n",
       "    }\n",
       "\n",
       "    .dataframe tbody tr th {\n",
       "        vertical-align: top;\n",
       "    }\n",
       "\n",
       "    .dataframe thead th {\n",
       "        text-align: right;\n",
       "    }\n",
       "</style>\n",
       "<table border=\"1\" class=\"dataframe\">\n",
       "  <thead>\n",
       "    <tr style=\"text-align: right;\">\n",
       "      <th></th>\n",
       "      <th>ID</th>\n",
       "      <th>NOMBRE_ORIGEN</th>\n",
       "      <th>ORIGEN_FECHA</th>\n",
       "      <th>DESTINO_ESTACION</th>\n",
       "      <th>DESTINO_FECHA</th>\n",
       "    </tr>\n",
       "  </thead>\n",
       "  <tbody>\n",
       "    <tr>\n",
       "      <th>0</th>\n",
       "      <td>36680</td>\n",
       "      <td>ONCE</td>\n",
       "      <td>2014-01-02 08:03:44.437</td>\n",
       "      <td>SUIPACHA</td>\n",
       "      <td>2014-01-02 08:20:50.903</td>\n",
       "    </tr>\n",
       "    <tr>\n",
       "      <th>1</th>\n",
       "      <td>36680</td>\n",
       "      <td>SUIPACHA</td>\n",
       "      <td>2014-01-02 08:33:59.873</td>\n",
       "      <td>ALSINA</td>\n",
       "      <td>2014-01-02 08:45:23.983</td>\n",
       "    </tr>\n",
       "    <tr>\n",
       "      <th>2</th>\n",
       "      <td>91345</td>\n",
       "      <td>CONGRESO</td>\n",
       "      <td>2014-01-02 08:43:09.263</td>\n",
       "      <td>CONGRESO</td>\n",
       "      <td>2014-01-02 09:30:12.043</td>\n",
       "    </tr>\n",
       "  </tbody>\n",
       "</table>\n",
       "</div>"
      ],
      "text/plain": [
       "      ID NOMBRE_ORIGEN             ORIGEN_FECHA DESTINO_ESTACION  \\\n",
       "0  36680          ONCE  2014-01-02 08:03:44.437         SUIPACHA   \n",
       "1  36680      SUIPACHA  2014-01-02 08:33:59.873           ALSINA   \n",
       "2  91345      CONGRESO  2014-01-02 08:43:09.263         CONGRESO   \n",
       "\n",
       "             DESTINO_FECHA  \n",
       "0  2014-01-02 08:20:50.903  \n",
       "1  2014-01-02 08:45:23.983  \n",
       "2  2014-01-02 09:30:12.043  "
      ]
     },
     "execution_count": 19,
     "metadata": {},
     "output_type": "execute_result"
    }
   ],
   "source": [
    "df_2014_raw.head(3)"
   ]
  },
  {
   "cell_type": "code",
   "execution_count": 20,
   "metadata": {},
   "outputs": [
    {
     "data": {
      "text/html": [
       "<div>\n",
       "<style scoped>\n",
       "    .dataframe tbody tr th:only-of-type {\n",
       "        vertical-align: middle;\n",
       "    }\n",
       "\n",
       "    .dataframe tbody tr th {\n",
       "        vertical-align: top;\n",
       "    }\n",
       "\n",
       "    .dataframe thead th {\n",
       "        text-align: right;\n",
       "    }\n",
       "</style>\n",
       "<table border=\"1\" class=\"dataframe\">\n",
       "  <thead>\n",
       "    <tr style=\"text-align: right;\">\n",
       "      <th></th>\n",
       "      <th>usuario_id</th>\n",
       "      <th>origen_nombre</th>\n",
       "      <th>destino_nombre</th>\n",
       "      <th>tiempo_uso(s)</th>\n",
       "    </tr>\n",
       "    <tr>\n",
       "      <th>ORIGEN_FECHA</th>\n",
       "      <th></th>\n",
       "      <th></th>\n",
       "      <th></th>\n",
       "      <th></th>\n",
       "    </tr>\n",
       "  </thead>\n",
       "  <tbody>\n",
       "    <tr>\n",
       "      <th>2014-01-02 08:03:44.437</th>\n",
       "      <td>36680</td>\n",
       "      <td>ONCE</td>\n",
       "      <td>SUIPACHA</td>\n",
       "      <td>1026</td>\n",
       "    </tr>\n",
       "    <tr>\n",
       "      <th>2014-01-02 08:33:59.873</th>\n",
       "      <td>36680</td>\n",
       "      <td>SUIPACHA</td>\n",
       "      <td>ALSINA</td>\n",
       "      <td>684</td>\n",
       "    </tr>\n",
       "    <tr>\n",
       "      <th>2014-01-02 08:43:09.263</th>\n",
       "      <td>91345</td>\n",
       "      <td>CONGRESO</td>\n",
       "      <td>CONGRESO</td>\n",
       "      <td>2822</td>\n",
       "    </tr>\n",
       "  </tbody>\n",
       "</table>\n",
       "</div>"
      ],
      "text/plain": [
       "                         usuario_id origen_nombre destino_nombre  \\\n",
       "ORIGEN_FECHA                                                       \n",
       "2014-01-02 08:03:44.437       36680          ONCE       SUIPACHA   \n",
       "2014-01-02 08:33:59.873       36680      SUIPACHA         ALSINA   \n",
       "2014-01-02 08:43:09.263       91345      CONGRESO       CONGRESO   \n",
       "\n",
       "                         tiempo_uso(s)  \n",
       "ORIGEN_FECHA                            \n",
       "2014-01-02 08:03:44.437           1026  \n",
       "2014-01-02 08:33:59.873            684  \n",
       "2014-01-02 08:43:09.263           2822  "
      ]
     },
     "execution_count": 20,
     "metadata": {},
     "output_type": "execute_result"
    }
   ],
   "source": [
    "df_2014.head(3)"
   ]
  },
  {
   "cell_type": "markdown",
   "metadata": {},
   "source": [
    "#### 2.4 Data Frame 2015"
   ]
  },
  {
   "cell_type": "code",
   "execution_count": 21,
   "metadata": {},
   "outputs": [],
   "source": [
    "df_2015_raw = get_data(year = 2015, apply_format=False)\n",
    "df_2015 = get_data(year = 2015, apply_format=True)"
   ]
  },
  {
   "cell_type": "code",
   "execution_count": 22,
   "metadata": {},
   "outputs": [
    {
     "data": {
      "text/html": [
       "<div>\n",
       "<style scoped>\n",
       "    .dataframe tbody tr th:only-of-type {\n",
       "        vertical-align: middle;\n",
       "    }\n",
       "\n",
       "    .dataframe tbody tr th {\n",
       "        vertical-align: top;\n",
       "    }\n",
       "\n",
       "    .dataframe thead th {\n",
       "        text-align: right;\n",
       "    }\n",
       "</style>\n",
       "<table border=\"1\" class=\"dataframe\">\n",
       "  <thead>\n",
       "    <tr style=\"text-align: right;\">\n",
       "      <th></th>\n",
       "      <th>periodo</th>\n",
       "      <th>genero</th>\n",
       "      <th>fecha_hora_retiro</th>\n",
       "      <th>origen_estacion</th>\n",
       "      <th>nombre_origen</th>\n",
       "      <th>destino_estacion</th>\n",
       "      <th>nombre_destino</th>\n",
       "      <th>tiempo_uso</th>\n",
       "    </tr>\n",
       "  </thead>\n",
       "  <tbody>\n",
       "    <tr>\n",
       "      <th>0</th>\n",
       "      <td>2015</td>\n",
       "      <td>M</td>\n",
       "      <td>01/05/2015 00:00:18</td>\n",
       "      <td>25</td>\n",
       "      <td>Plaza Güemes</td>\n",
       "      <td>29</td>\n",
       "      <td>Parque Centenario</td>\n",
       "      <td>0h 26min 24seg</td>\n",
       "    </tr>\n",
       "    <tr>\n",
       "      <th>1</th>\n",
       "      <td>2015</td>\n",
       "      <td>F</td>\n",
       "      <td>01/05/2015 00:02:06</td>\n",
       "      <td>17</td>\n",
       "      <td>Plaza Almagro</td>\n",
       "      <td>25</td>\n",
       "      <td>Plaza Güemes</td>\n",
       "      <td>0h 57min 53seg</td>\n",
       "    </tr>\n",
       "    <tr>\n",
       "      <th>2</th>\n",
       "      <td>2015</td>\n",
       "      <td>M</td>\n",
       "      <td>01/05/2015 00:02:53</td>\n",
       "      <td>17</td>\n",
       "      <td>Plaza Almagro</td>\n",
       "      <td>25</td>\n",
       "      <td>Plaza Güemes</td>\n",
       "      <td>1h 3min 8seg</td>\n",
       "    </tr>\n",
       "  </tbody>\n",
       "</table>\n",
       "</div>"
      ],
      "text/plain": [
       "   periodo genero    fecha_hora_retiro  origen_estacion   nombre_origen  \\\n",
       "0     2015      M  01/05/2015 00:00:18               25    Plaza Güemes   \n",
       "1     2015      F  01/05/2015 00:02:06               17   Plaza Almagro   \n",
       "2     2015      M  01/05/2015 00:02:53               17   Plaza Almagro   \n",
       "\n",
       "   destino_estacion      nombre_destino      tiempo_uso  \n",
       "0                29   Parque Centenario  0h 26min 24seg  \n",
       "1                25        Plaza Güemes  0h 57min 53seg  \n",
       "2                25        Plaza Güemes    1h 3min 8seg  "
      ]
     },
     "execution_count": 22,
     "metadata": {},
     "output_type": "execute_result"
    }
   ],
   "source": [
    "df_2015_raw.head(3)"
   ]
  },
  {
   "cell_type": "code",
   "execution_count": 23,
   "metadata": {},
   "outputs": [
    {
     "data": {
      "text/html": [
       "<div>\n",
       "<style scoped>\n",
       "    .dataframe tbody tr th:only-of-type {\n",
       "        vertical-align: middle;\n",
       "    }\n",
       "\n",
       "    .dataframe tbody tr th {\n",
       "        vertical-align: top;\n",
       "    }\n",
       "\n",
       "    .dataframe thead th {\n",
       "        text-align: right;\n",
       "    }\n",
       "</style>\n",
       "<table border=\"1\" class=\"dataframe\">\n",
       "  <thead>\n",
       "    <tr style=\"text-align: right;\">\n",
       "      <th></th>\n",
       "      <th>genero</th>\n",
       "      <th>origen_id</th>\n",
       "      <th>origen_nombre</th>\n",
       "      <th>destino_id</th>\n",
       "      <th>destino_nombre</th>\n",
       "      <th>tiempo_uso(s)</th>\n",
       "    </tr>\n",
       "    <tr>\n",
       "      <th>fecha_hora_retiro</th>\n",
       "      <th></th>\n",
       "      <th></th>\n",
       "      <th></th>\n",
       "      <th></th>\n",
       "      <th></th>\n",
       "      <th></th>\n",
       "    </tr>\n",
       "  </thead>\n",
       "  <tbody>\n",
       "    <tr>\n",
       "      <th>2015-05-01 00:00:18</th>\n",
       "      <td>M</td>\n",
       "      <td>25</td>\n",
       "      <td>Plaza Güemes</td>\n",
       "      <td>29</td>\n",
       "      <td>Parque Centenario</td>\n",
       "      <td>1584.0</td>\n",
       "    </tr>\n",
       "    <tr>\n",
       "      <th>2015-05-01 00:02:06</th>\n",
       "      <td>F</td>\n",
       "      <td>17</td>\n",
       "      <td>Plaza Almagro</td>\n",
       "      <td>25</td>\n",
       "      <td>Plaza Güemes</td>\n",
       "      <td>3473.0</td>\n",
       "    </tr>\n",
       "    <tr>\n",
       "      <th>2015-05-01 00:02:53</th>\n",
       "      <td>M</td>\n",
       "      <td>17</td>\n",
       "      <td>Plaza Almagro</td>\n",
       "      <td>25</td>\n",
       "      <td>Plaza Güemes</td>\n",
       "      <td>3788.0</td>\n",
       "    </tr>\n",
       "  </tbody>\n",
       "</table>\n",
       "</div>"
      ],
      "text/plain": [
       "                    genero  origen_id   origen_nombre  destino_id  \\\n",
       "fecha_hora_retiro                                                   \n",
       "2015-05-01 00:00:18      M         25    Plaza Güemes          29   \n",
       "2015-05-01 00:02:06      F         17   Plaza Almagro          25   \n",
       "2015-05-01 00:02:53      M         17   Plaza Almagro          25   \n",
       "\n",
       "                         destino_nombre  tiempo_uso(s)  \n",
       "fecha_hora_retiro                                       \n",
       "2015-05-01 00:00:18   Parque Centenario         1584.0  \n",
       "2015-05-01 00:02:06        Plaza Güemes         3473.0  \n",
       "2015-05-01 00:02:53        Plaza Güemes         3788.0  "
      ]
     },
     "execution_count": 23,
     "metadata": {},
     "output_type": "execute_result"
    }
   ],
   "source": [
    "df_2015.head(3)"
   ]
  },
  {
   "cell_type": "markdown",
   "metadata": {},
   "source": [
    "#### 2.5 Data Frame 2016"
   ]
  },
  {
   "cell_type": "code",
   "execution_count": 24,
   "metadata": {},
   "outputs": [],
   "source": [
    "df_2016_raw = get_data(year = 2016, apply_format=False)\n",
    "df_2016 = get_data(year = 2016, apply_format=True)"
   ]
  },
  {
   "cell_type": "code",
   "execution_count": 25,
   "metadata": {},
   "outputs": [
    {
     "data": {
      "text/html": [
       "<div>\n",
       "<style scoped>\n",
       "    .dataframe tbody tr th:only-of-type {\n",
       "        vertical-align: middle;\n",
       "    }\n",
       "\n",
       "    .dataframe tbody tr th {\n",
       "        vertical-align: top;\n",
       "    }\n",
       "\n",
       "    .dataframe thead th {\n",
       "        text-align: right;\n",
       "    }\n",
       "</style>\n",
       "<table border=\"1\" class=\"dataframe\">\n",
       "  <thead>\n",
       "    <tr style=\"text-align: right;\">\n",
       "      <th></th>\n",
       "      <th>periodo</th>\n",
       "      <th>genero</th>\n",
       "      <th>fecha_hora_retiro</th>\n",
       "      <th>origen_estacion</th>\n",
       "      <th>nombre_origen</th>\n",
       "      <th>destino_estacion</th>\n",
       "      <th>nombre_destino</th>\n",
       "      <th>tiempo_uso</th>\n",
       "    </tr>\n",
       "  </thead>\n",
       "  <tbody>\n",
       "    <tr>\n",
       "      <th>0</th>\n",
       "      <td>2016</td>\n",
       "      <td>M</td>\n",
       "      <td>01/01/2016 02:21:41</td>\n",
       "      <td>11</td>\n",
       "      <td>Tribunales</td>\n",
       "      <td>5</td>\n",
       "      <td>Plaza Italia</td>\n",
       "      <td>0h 16min 29seg</td>\n",
       "    </tr>\n",
       "    <tr>\n",
       "      <th>1</th>\n",
       "      <td>2016</td>\n",
       "      <td>M</td>\n",
       "      <td>01/01/2016 08:38:19</td>\n",
       "      <td>28</td>\n",
       "      <td>Plaza Boedo</td>\n",
       "      <td>28</td>\n",
       "      <td>Plaza Boedo</td>\n",
       "      <td>0h 55min 26seg</td>\n",
       "    </tr>\n",
       "    <tr>\n",
       "      <th>2</th>\n",
       "      <td>2016</td>\n",
       "      <td>M</td>\n",
       "      <td>01/01/2016 15:01:07</td>\n",
       "      <td>28</td>\n",
       "      <td>Plaza Boedo</td>\n",
       "      <td>30</td>\n",
       "      <td>Peña</td>\n",
       "      <td>0h 40min 27seg</td>\n",
       "    </tr>\n",
       "  </tbody>\n",
       "</table>\n",
       "</div>"
      ],
      "text/plain": [
       "   periodo genero    fecha_hora_retiro  origen_estacion nombre_origen  \\\n",
       "0     2016      M  01/01/2016 02:21:41               11    Tribunales   \n",
       "1     2016      M  01/01/2016 08:38:19               28   Plaza Boedo   \n",
       "2     2016      M  01/01/2016 15:01:07               28   Plaza Boedo   \n",
       "\n",
       "   destino_estacion nombre_destino      tiempo_uso  \n",
       "0                 5   Plaza Italia  0h 16min 29seg  \n",
       "1                28    Plaza Boedo  0h 55min 26seg  \n",
       "2                30           Peña  0h 40min 27seg  "
      ]
     },
     "execution_count": 25,
     "metadata": {},
     "output_type": "execute_result"
    }
   ],
   "source": [
    "df_2016_raw.head(3)"
   ]
  },
  {
   "cell_type": "code",
   "execution_count": 26,
   "metadata": {},
   "outputs": [
    {
     "data": {
      "text/html": [
       "<div>\n",
       "<style scoped>\n",
       "    .dataframe tbody tr th:only-of-type {\n",
       "        vertical-align: middle;\n",
       "    }\n",
       "\n",
       "    .dataframe tbody tr th {\n",
       "        vertical-align: top;\n",
       "    }\n",
       "\n",
       "    .dataframe thead th {\n",
       "        text-align: right;\n",
       "    }\n",
       "</style>\n",
       "<table border=\"1\" class=\"dataframe\">\n",
       "  <thead>\n",
       "    <tr style=\"text-align: right;\">\n",
       "      <th></th>\n",
       "      <th>genero</th>\n",
       "      <th>origen_id</th>\n",
       "      <th>origen_nombre</th>\n",
       "      <th>destino_id</th>\n",
       "      <th>destino_nombre</th>\n",
       "      <th>tiempo_uso(s)</th>\n",
       "    </tr>\n",
       "    <tr>\n",
       "      <th>fecha_hora_retiro</th>\n",
       "      <th></th>\n",
       "      <th></th>\n",
       "      <th></th>\n",
       "      <th></th>\n",
       "      <th></th>\n",
       "      <th></th>\n",
       "    </tr>\n",
       "  </thead>\n",
       "  <tbody>\n",
       "    <tr>\n",
       "      <th>2016-01-01 02:21:41</th>\n",
       "      <td>M</td>\n",
       "      <td>11</td>\n",
       "      <td>Tribunales</td>\n",
       "      <td>5</td>\n",
       "      <td>Plaza Italia</td>\n",
       "      <td>989.0</td>\n",
       "    </tr>\n",
       "    <tr>\n",
       "      <th>2016-01-01 08:38:19</th>\n",
       "      <td>M</td>\n",
       "      <td>28</td>\n",
       "      <td>Plaza Boedo</td>\n",
       "      <td>28</td>\n",
       "      <td>Plaza Boedo</td>\n",
       "      <td>3326.0</td>\n",
       "    </tr>\n",
       "    <tr>\n",
       "      <th>2016-01-01 15:01:07</th>\n",
       "      <td>M</td>\n",
       "      <td>28</td>\n",
       "      <td>Plaza Boedo</td>\n",
       "      <td>30</td>\n",
       "      <td>Peña</td>\n",
       "      <td>2427.0</td>\n",
       "    </tr>\n",
       "  </tbody>\n",
       "</table>\n",
       "</div>"
      ],
      "text/plain": [
       "                    genero  origen_id origen_nombre  destino_id  \\\n",
       "fecha_hora_retiro                                                 \n",
       "2016-01-01 02:21:41      M         11    Tribunales           5   \n",
       "2016-01-01 08:38:19      M         28   Plaza Boedo          28   \n",
       "2016-01-01 15:01:07      M         28   Plaza Boedo          30   \n",
       "\n",
       "                    destino_nombre  tiempo_uso(s)  \n",
       "fecha_hora_retiro                                  \n",
       "2016-01-01 02:21:41   Plaza Italia          989.0  \n",
       "2016-01-01 08:38:19    Plaza Boedo         3326.0  \n",
       "2016-01-01 15:01:07           Peña         2427.0  "
      ]
     },
     "execution_count": 26,
     "metadata": {},
     "output_type": "execute_result"
    }
   ],
   "source": [
    "df_2016.head(3)"
   ]
  },
  {
   "cell_type": "markdown",
   "metadata": {},
   "source": [
    "#### 2.6 Data Frame 2017"
   ]
  },
  {
   "cell_type": "code",
   "execution_count": 27,
   "metadata": {},
   "outputs": [],
   "source": [
    "df_2017_raw = get_data(year=2017, apply_format=False)\n",
    "df_2017 = get_data(year=2017, apply_format=True)"
   ]
  },
  {
   "cell_type": "code",
   "execution_count": 28,
   "metadata": {},
   "outputs": [
    {
     "data": {
      "text/html": [
       "<div>\n",
       "<style scoped>\n",
       "    .dataframe tbody tr th:only-of-type {\n",
       "        vertical-align: middle;\n",
       "    }\n",
       "\n",
       "    .dataframe tbody tr th {\n",
       "        vertical-align: top;\n",
       "    }\n",
       "\n",
       "    .dataframe thead th {\n",
       "        text-align: right;\n",
       "    }\n",
       "</style>\n",
       "<table border=\"1\" class=\"dataframe\">\n",
       "  <thead>\n",
       "    <tr style=\"text-align: right;\">\n",
       "      <th></th>\n",
       "      <th>periodo</th>\n",
       "      <th>genero</th>\n",
       "      <th>fecha_hora_retiro</th>\n",
       "      <th>origen_estacion</th>\n",
       "      <th>nombre_origen</th>\n",
       "      <th>destino_estacion</th>\n",
       "      <th>nombre_destino</th>\n",
       "      <th>tiempo_uso</th>\n",
       "    </tr>\n",
       "  </thead>\n",
       "  <tbody>\n",
       "    <tr>\n",
       "      <th>0</th>\n",
       "      <td>2017</td>\n",
       "      <td>M</td>\n",
       "      <td>01/01/2017 00:02:14</td>\n",
       "      <td>60</td>\n",
       "      <td>25 de Mayo</td>\n",
       "      <td>4</td>\n",
       "      <td>Plaza Roma</td>\n",
       "      <td>0h 27min 44seg</td>\n",
       "    </tr>\n",
       "    <tr>\n",
       "      <th>1</th>\n",
       "      <td>2017</td>\n",
       "      <td>M</td>\n",
       "      <td>01/01/2017 00:02:59</td>\n",
       "      <td>79</td>\n",
       "      <td>Azucena Villaflor</td>\n",
       "      <td>54</td>\n",
       "      <td>Acuña de Figueroa</td>\n",
       "      <td>1h 57min 21seg</td>\n",
       "    </tr>\n",
       "    <tr>\n",
       "      <th>2</th>\n",
       "      <td>2017</td>\n",
       "      <td>M</td>\n",
       "      <td>01/01/2017 00:07:13</td>\n",
       "      <td>11</td>\n",
       "      <td>Tribunales</td>\n",
       "      <td>84</td>\n",
       "      <td>Lavalle</td>\n",
       "      <td>0h 25min 8seg</td>\n",
       "    </tr>\n",
       "  </tbody>\n",
       "</table>\n",
       "</div>"
      ],
      "text/plain": [
       "   periodo genero    fecha_hora_retiro  origen_estacion       nombre_origen  \\\n",
       "0     2017      M  01/01/2017 00:02:14               60          25 de Mayo   \n",
       "1     2017      M  01/01/2017 00:02:59               79   Azucena Villaflor   \n",
       "2     2017      M  01/01/2017 00:07:13               11          Tribunales   \n",
       "\n",
       "   destino_estacion      nombre_destino      tiempo_uso  \n",
       "0                 4          Plaza Roma  0h 27min 44seg  \n",
       "1                54   Acuña de Figueroa  1h 57min 21seg  \n",
       "2                84             Lavalle   0h 25min 8seg  "
      ]
     },
     "execution_count": 28,
     "metadata": {},
     "output_type": "execute_result"
    }
   ],
   "source": [
    "df_2017_raw.head(3)"
   ]
  },
  {
   "cell_type": "code",
   "execution_count": 29,
   "metadata": {},
   "outputs": [
    {
     "data": {
      "text/html": [
       "<div>\n",
       "<style scoped>\n",
       "    .dataframe tbody tr th:only-of-type {\n",
       "        vertical-align: middle;\n",
       "    }\n",
       "\n",
       "    .dataframe tbody tr th {\n",
       "        vertical-align: top;\n",
       "    }\n",
       "\n",
       "    .dataframe thead th {\n",
       "        text-align: right;\n",
       "    }\n",
       "</style>\n",
       "<table border=\"1\" class=\"dataframe\">\n",
       "  <thead>\n",
       "    <tr style=\"text-align: right;\">\n",
       "      <th></th>\n",
       "      <th>genero</th>\n",
       "      <th>origen_id</th>\n",
       "      <th>origen_nombre</th>\n",
       "      <th>destino_id</th>\n",
       "      <th>destino_nombre</th>\n",
       "      <th>tiempo_uso(s)</th>\n",
       "    </tr>\n",
       "    <tr>\n",
       "      <th>fecha_hora_retiro</th>\n",
       "      <th></th>\n",
       "      <th></th>\n",
       "      <th></th>\n",
       "      <th></th>\n",
       "      <th></th>\n",
       "      <th></th>\n",
       "    </tr>\n",
       "  </thead>\n",
       "  <tbody>\n",
       "    <tr>\n",
       "      <th>2017-01-01 00:02:14</th>\n",
       "      <td>M</td>\n",
       "      <td>60</td>\n",
       "      <td>25 de Mayo</td>\n",
       "      <td>4</td>\n",
       "      <td>Plaza Roma</td>\n",
       "      <td>1664.0</td>\n",
       "    </tr>\n",
       "    <tr>\n",
       "      <th>2017-01-01 00:02:59</th>\n",
       "      <td>M</td>\n",
       "      <td>79</td>\n",
       "      <td>Azucena Villaflor</td>\n",
       "      <td>54</td>\n",
       "      <td>Acuña de Figueroa</td>\n",
       "      <td>7041.0</td>\n",
       "    </tr>\n",
       "    <tr>\n",
       "      <th>2017-01-01 00:07:13</th>\n",
       "      <td>M</td>\n",
       "      <td>11</td>\n",
       "      <td>Tribunales</td>\n",
       "      <td>84</td>\n",
       "      <td>Lavalle</td>\n",
       "      <td>1508.0</td>\n",
       "    </tr>\n",
       "  </tbody>\n",
       "</table>\n",
       "</div>"
      ],
      "text/plain": [
       "                    genero  origen_id       origen_nombre  destino_id  \\\n",
       "fecha_hora_retiro                                                       \n",
       "2017-01-01 00:02:14      M         60          25 de Mayo           4   \n",
       "2017-01-01 00:02:59      M         79   Azucena Villaflor          54   \n",
       "2017-01-01 00:07:13      M         11          Tribunales          84   \n",
       "\n",
       "                         destino_nombre  tiempo_uso(s)  \n",
       "fecha_hora_retiro                                       \n",
       "2017-01-01 00:02:14          Plaza Roma         1664.0  \n",
       "2017-01-01 00:02:59   Acuña de Figueroa         7041.0  \n",
       "2017-01-01 00:07:13             Lavalle         1508.0  "
      ]
     },
     "execution_count": 29,
     "metadata": {},
     "output_type": "execute_result"
    }
   ],
   "source": [
    "df_2017.head(3)"
   ]
  },
  {
   "cell_type": "markdown",
   "metadata": {},
   "source": [
    "#### 2.7 Data Frame 2018"
   ]
  },
  {
   "cell_type": "code",
   "execution_count": 30,
   "metadata": {},
   "outputs": [],
   "source": [
    "df_2018_raw = get_data(year=2018, apply_format=False)\n",
    "df_2018 = get_data(year=2018, apply_format=True)"
   ]
  },
  {
   "cell_type": "code",
   "execution_count": 31,
   "metadata": {},
   "outputs": [
    {
     "data": {
      "text/html": [
       "<div>\n",
       "<style scoped>\n",
       "    .dataframe tbody tr th:only-of-type {\n",
       "        vertical-align: middle;\n",
       "    }\n",
       "\n",
       "    .dataframe tbody tr th {\n",
       "        vertical-align: top;\n",
       "    }\n",
       "\n",
       "    .dataframe thead th {\n",
       "        text-align: right;\n",
       "    }\n",
       "</style>\n",
       "<table border=\"1\" class=\"dataframe\">\n",
       "  <thead>\n",
       "    <tr style=\"text-align: right;\">\n",
       "      <th></th>\n",
       "      <th>id_usuario</th>\n",
       "      <th>bici_fecha_hora_retiro</th>\n",
       "      <th>bici_tiempo_uso</th>\n",
       "      <th>bici_nombre_estacion_origen</th>\n",
       "      <th>bici_estacion_origen</th>\n",
       "      <th>bici_nombre_estacion_destino</th>\n",
       "      <th>bici_estacion_destino</th>\n",
       "      <th>bici_sexo</th>\n",
       "      <th>bici_edad</th>\n",
       "    </tr>\n",
       "  </thead>\n",
       "  <tbody>\n",
       "    <tr>\n",
       "      <th>0</th>\n",
       "      <td>5453</td>\n",
       "      <td>2018-01-01 00:08:05</td>\n",
       "      <td>00:19:53</td>\n",
       "      <td>Uruguay</td>\n",
       "      <td>45</td>\n",
       "      <td>Virrey Cevallos</td>\n",
       "      <td>183</td>\n",
       "      <td>M</td>\n",
       "      <td>45</td>\n",
       "    </tr>\n",
       "    <tr>\n",
       "      <th>1</th>\n",
       "      <td>673</td>\n",
       "      <td>2018-01-01 00:18:05</td>\n",
       "      <td>00:26:19</td>\n",
       "      <td>Posadas</td>\n",
       "      <td>189</td>\n",
       "      <td>Guardia Vieja</td>\n",
       "      <td>110</td>\n",
       "      <td>M</td>\n",
       "      <td>61</td>\n",
       "    </tr>\n",
       "    <tr>\n",
       "      <th>2</th>\n",
       "      <td>179119</td>\n",
       "      <td>2018-01-01 00:20:14</td>\n",
       "      <td>00:27:39</td>\n",
       "      <td>Hospital Rivadavia</td>\n",
       "      <td>50</td>\n",
       "      <td>Padilla</td>\n",
       "      <td>31</td>\n",
       "      <td>F</td>\n",
       "      <td>52</td>\n",
       "    </tr>\n",
       "  </tbody>\n",
       "</table>\n",
       "</div>"
      ],
      "text/plain": [
       "   id_usuario bici_fecha_hora_retiro bici_tiempo_uso  \\\n",
       "0        5453    2018-01-01 00:08:05        00:19:53   \n",
       "1         673    2018-01-01 00:18:05        00:26:19   \n",
       "2      179119    2018-01-01 00:20:14        00:27:39   \n",
       "\n",
       "  bici_nombre_estacion_origen  bici_estacion_origen  \\\n",
       "0                     Uruguay                    45   \n",
       "1                     Posadas                   189   \n",
       "2          Hospital Rivadavia                    50   \n",
       "\n",
       "  bici_nombre_estacion_destino  bici_estacion_destino bici_sexo  bici_edad  \n",
       "0              Virrey Cevallos                    183         M         45  \n",
       "1                Guardia Vieja                    110         M         61  \n",
       "2                      Padilla                     31         F         52  "
      ]
     },
     "execution_count": 31,
     "metadata": {},
     "output_type": "execute_result"
    }
   ],
   "source": [
    "df_2018_raw.head(3)"
   ]
  },
  {
   "cell_type": "code",
   "execution_count": 32,
   "metadata": {},
   "outputs": [
    {
     "data": {
      "text/html": [
       "<div>\n",
       "<style scoped>\n",
       "    .dataframe tbody tr th:only-of-type {\n",
       "        vertical-align: middle;\n",
       "    }\n",
       "\n",
       "    .dataframe tbody tr th {\n",
       "        vertical-align: top;\n",
       "    }\n",
       "\n",
       "    .dataframe thead th {\n",
       "        text-align: right;\n",
       "    }\n",
       "</style>\n",
       "<table border=\"1\" class=\"dataframe\">\n",
       "  <thead>\n",
       "    <tr style=\"text-align: right;\">\n",
       "      <th></th>\n",
       "      <th>usuario_id</th>\n",
       "      <th>origen_nombre</th>\n",
       "      <th>origen_id</th>\n",
       "      <th>destino_nombre</th>\n",
       "      <th>destino_id</th>\n",
       "      <th>usuario_genero</th>\n",
       "      <th>usario_edad</th>\n",
       "      <th>tiempo_uso(s)</th>\n",
       "    </tr>\n",
       "    <tr>\n",
       "      <th>bici_fecha_hora_retiro</th>\n",
       "      <th></th>\n",
       "      <th></th>\n",
       "      <th></th>\n",
       "      <th></th>\n",
       "      <th></th>\n",
       "      <th></th>\n",
       "      <th></th>\n",
       "      <th></th>\n",
       "    </tr>\n",
       "  </thead>\n",
       "  <tbody>\n",
       "    <tr>\n",
       "      <th>2018-01-01 00:08:05</th>\n",
       "      <td>5453</td>\n",
       "      <td>Uruguay</td>\n",
       "      <td>45</td>\n",
       "      <td>Virrey Cevallos</td>\n",
       "      <td>183</td>\n",
       "      <td>M</td>\n",
       "      <td>45</td>\n",
       "      <td>1193</td>\n",
       "    </tr>\n",
       "    <tr>\n",
       "      <th>2018-01-01 00:18:05</th>\n",
       "      <td>673</td>\n",
       "      <td>Posadas</td>\n",
       "      <td>189</td>\n",
       "      <td>Guardia Vieja</td>\n",
       "      <td>110</td>\n",
       "      <td>M</td>\n",
       "      <td>61</td>\n",
       "      <td>1579</td>\n",
       "    </tr>\n",
       "    <tr>\n",
       "      <th>2018-01-01 00:20:14</th>\n",
       "      <td>179119</td>\n",
       "      <td>Hospital Rivadavia</td>\n",
       "      <td>50</td>\n",
       "      <td>Padilla</td>\n",
       "      <td>31</td>\n",
       "      <td>F</td>\n",
       "      <td>52</td>\n",
       "      <td>1659</td>\n",
       "    </tr>\n",
       "  </tbody>\n",
       "</table>\n",
       "</div>"
      ],
      "text/plain": [
       "                        usuario_id       origen_nombre  origen_id  \\\n",
       "bici_fecha_hora_retiro                                              \n",
       "2018-01-01 00:08:05           5453             Uruguay         45   \n",
       "2018-01-01 00:18:05            673             Posadas        189   \n",
       "2018-01-01 00:20:14         179119  Hospital Rivadavia         50   \n",
       "\n",
       "                         destino_nombre  destino_id usuario_genero  \\\n",
       "bici_fecha_hora_retiro                                               \n",
       "2018-01-01 00:08:05     Virrey Cevallos         183              M   \n",
       "2018-01-01 00:18:05       Guardia Vieja         110              M   \n",
       "2018-01-01 00:20:14             Padilla          31              F   \n",
       "\n",
       "                        usario_edad  tiempo_uso(s)  \n",
       "bici_fecha_hora_retiro                              \n",
       "2018-01-01 00:08:05              45           1193  \n",
       "2018-01-01 00:18:05              61           1579  \n",
       "2018-01-01 00:20:14              52           1659  "
      ]
     },
     "execution_count": 32,
     "metadata": {},
     "output_type": "execute_result"
    }
   ],
   "source": [
    "df_2018.head(3)"
   ]
  }
 ],
 "metadata": {
  "kernelspec": {
   "display_name": "Python 3",
   "language": "python",
   "name": "python3"
  },
  "language_info": {
   "codemirror_mode": {
    "name": "ipython",
    "version": 3
   },
   "file_extension": ".py",
   "mimetype": "text/x-python",
   "name": "python",
   "nbconvert_exporter": "python",
   "pygments_lexer": "ipython3",
   "version": "3.7.1"
  }
 },
 "nbformat": 4,
 "nbformat_minor": 2
}
