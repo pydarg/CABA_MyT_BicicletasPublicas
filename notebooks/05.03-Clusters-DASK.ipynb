{
 "cells": [
  {
   "cell_type": "markdown",
   "metadata": {},
   "source": [
    "<p style=\"font-family: Arial; font-size:3.75em;color:purple; font-style:bold\"><br>\n",
    "CLUSTERS</p><br>"
   ]
  },
  {
   "cell_type": "markdown",
   "metadata": {},
   "source": [
    "Para iniciar este apartado, nos preguntaremos si, para cada `usuario_id` es posible contestar:\n",
    "\n",
    "- ¿Usa el sistema para trabajar?\n",
    "- ¿Usa el sistema para estudiar?\n",
    "- ¿Usa el sistema para pasear?"
   ]
  },
  {
   "cell_type": "code",
   "execution_count": 1,
   "metadata": {},
   "outputs": [],
   "source": [
    "#funciones y clases particulares al caso de estudio\n",
    "from localpacks.data import get_data, get_data_others, format_data, clean_garbage\n",
    "\n",
    "#datasets\n",
    "import numpy as np\n",
    "import pandas as pd\n",
    "\n",
    "#graficos\n",
    "import matplotlib.pyplot as plt\n",
    "import seaborn as sns\n",
    "\n",
    "#modelos\n",
    "from sklearn.decomposition import PCA\n",
    "from sklearn import preprocessing\n",
    "from sklearn.mixture import GaussianMixture as GMM"
   ]
  },
  {
   "cell_type": "markdown",
   "metadata": {},
   "source": [
    "## Importamos nuestro df"
   ]
  },
  {
   "cell_type": "code",
   "execution_count": 2,
   "metadata": {},
   "outputs": [],
   "source": [
    "#funcion que transforma el tiempo de uso, en un time_delta\n",
    "def convert_time(s):\n",
    "    h, m, s = map(int, s.split(':'))\n",
    "    return pd.Timedelta(hours=h, minutes=m, seconds=s)"
   ]
  },
  {
   "cell_type": "code",
   "execution_count": 3,
   "metadata": {},
   "outputs": [],
   "source": [
    "df = pd.read_csv('./data/recorridos-realizados-2018.csv', converters={'bici_tiempo_uso':convert_time})"
   ]
  },
  {
   "cell_type": "code",
   "execution_count": 4,
   "metadata": {},
   "outputs": [],
   "source": [
    "df['bici_tiempo_uso_seg'] = df['bici_tiempo_uso'].astype('int64') / 1E9 #para graficar facilmente con seaborn convertimos el timedelta a segundos"
   ]
  },
  {
   "cell_type": "code",
   "execution_count": 5,
   "metadata": {},
   "outputs": [],
   "source": [
    "df.index = pd.to_datetime(df['bici_fecha_hora_retiro'], format='%Y-%m-%d %H:%M:%S') #1.Damos formato e indexamos\n",
    "del df['bici_fecha_hora_retiro'] #Eliminamos la columna 'bici_fecha_hora_retiro'"
   ]
  },
  {
   "cell_type": "code",
   "execution_count": 6,
   "metadata": {},
   "outputs": [
    {
     "data": {
      "text/html": [
       "<div>\n",
       "<style scoped>\n",
       "    .dataframe tbody tr th:only-of-type {\n",
       "        vertical-align: middle;\n",
       "    }\n",
       "\n",
       "    .dataframe tbody tr th {\n",
       "        vertical-align: top;\n",
       "    }\n",
       "\n",
       "    .dataframe thead th {\n",
       "        text-align: right;\n",
       "    }\n",
       "</style>\n",
       "<table border=\"1\" class=\"dataframe\">\n",
       "  <thead>\n",
       "    <tr style=\"text-align: right;\">\n",
       "      <th></th>\n",
       "      <th>id_usuario</th>\n",
       "      <th>bici_tiempo_uso</th>\n",
       "      <th>bici_nombre_estacion_origen</th>\n",
       "      <th>bici_estacion_origen</th>\n",
       "      <th>bici_nombre_estacion_destino</th>\n",
       "      <th>bici_estacion_destino</th>\n",
       "      <th>bici_sexo</th>\n",
       "      <th>bici_edad</th>\n",
       "      <th>bici_tiempo_uso_seg</th>\n",
       "    </tr>\n",
       "    <tr>\n",
       "      <th>bici_fecha_hora_retiro</th>\n",
       "      <th></th>\n",
       "      <th></th>\n",
       "      <th></th>\n",
       "      <th></th>\n",
       "      <th></th>\n",
       "      <th></th>\n",
       "      <th></th>\n",
       "      <th></th>\n",
       "      <th></th>\n",
       "    </tr>\n",
       "  </thead>\n",
       "  <tbody>\n",
       "    <tr>\n",
       "      <th>2018-01-01 00:08:05</th>\n",
       "      <td>5453</td>\n",
       "      <td>00:19:53</td>\n",
       "      <td>Uruguay</td>\n",
       "      <td>45</td>\n",
       "      <td>Virrey Cevallos</td>\n",
       "      <td>183</td>\n",
       "      <td>M</td>\n",
       "      <td>45</td>\n",
       "      <td>1193.0</td>\n",
       "    </tr>\n",
       "    <tr>\n",
       "      <th>2018-01-01 00:18:05</th>\n",
       "      <td>673</td>\n",
       "      <td>00:26:19</td>\n",
       "      <td>Posadas</td>\n",
       "      <td>189</td>\n",
       "      <td>Guardia Vieja</td>\n",
       "      <td>110</td>\n",
       "      <td>M</td>\n",
       "      <td>61</td>\n",
       "      <td>1579.0</td>\n",
       "    </tr>\n",
       "    <tr>\n",
       "      <th>2018-01-01 00:20:14</th>\n",
       "      <td>179119</td>\n",
       "      <td>00:27:39</td>\n",
       "      <td>Hospital Rivadavia</td>\n",
       "      <td>50</td>\n",
       "      <td>Padilla</td>\n",
       "      <td>31</td>\n",
       "      <td>F</td>\n",
       "      <td>52</td>\n",
       "      <td>1659.0</td>\n",
       "    </tr>\n",
       "    <tr>\n",
       "      <th>2018-01-01 00:20:22</th>\n",
       "      <td>400147</td>\n",
       "      <td>00:48:51</td>\n",
       "      <td>Macacha Güemes</td>\n",
       "      <td>111</td>\n",
       "      <td>Acuña de Figueroa</td>\n",
       "      <td>54</td>\n",
       "      <td>M</td>\n",
       "      <td>27</td>\n",
       "      <td>2931.0</td>\n",
       "    </tr>\n",
       "    <tr>\n",
       "      <th>2018-01-01 00:20:31</th>\n",
       "      <td>400156</td>\n",
       "      <td>00:49:27</td>\n",
       "      <td>Macacha Güemes</td>\n",
       "      <td>111</td>\n",
       "      <td>Acuña de Figueroa</td>\n",
       "      <td>54</td>\n",
       "      <td>F</td>\n",
       "      <td>27</td>\n",
       "      <td>2967.0</td>\n",
       "    </tr>\n",
       "  </tbody>\n",
       "</table>\n",
       "</div>"
      ],
      "text/plain": [
       "                        id_usuario bici_tiempo_uso  \\\n",
       "bici_fecha_hora_retiro                               \n",
       "2018-01-01 00:08:05           5453        00:19:53   \n",
       "2018-01-01 00:18:05            673        00:26:19   \n",
       "2018-01-01 00:20:14         179119        00:27:39   \n",
       "2018-01-01 00:20:22         400147        00:48:51   \n",
       "2018-01-01 00:20:31         400156        00:49:27   \n",
       "\n",
       "                       bici_nombre_estacion_origen  bici_estacion_origen  \\\n",
       "bici_fecha_hora_retiro                                                     \n",
       "2018-01-01 00:08:05                        Uruguay                    45   \n",
       "2018-01-01 00:18:05                        Posadas                   189   \n",
       "2018-01-01 00:20:14             Hospital Rivadavia                    50   \n",
       "2018-01-01 00:20:22                 Macacha Güemes                   111   \n",
       "2018-01-01 00:20:31                 Macacha Güemes                   111   \n",
       "\n",
       "                       bici_nombre_estacion_destino  bici_estacion_destino  \\\n",
       "bici_fecha_hora_retiro                                                       \n",
       "2018-01-01 00:08:05                 Virrey Cevallos                    183   \n",
       "2018-01-01 00:18:05                   Guardia Vieja                    110   \n",
       "2018-01-01 00:20:14                         Padilla                     31   \n",
       "2018-01-01 00:20:22               Acuña de Figueroa                     54   \n",
       "2018-01-01 00:20:31               Acuña de Figueroa                     54   \n",
       "\n",
       "                       bici_sexo  bici_edad  bici_tiempo_uso_seg  \n",
       "bici_fecha_hora_retiro                                            \n",
       "2018-01-01 00:08:05            M         45               1193.0  \n",
       "2018-01-01 00:18:05            M         61               1579.0  \n",
       "2018-01-01 00:20:14            F         52               1659.0  \n",
       "2018-01-01 00:20:22            M         27               2931.0  \n",
       "2018-01-01 00:20:31            F         27               2967.0  "
      ]
     },
     "execution_count": 6,
     "metadata": {},
     "output_type": "execute_result"
    }
   ],
   "source": [
    "df.head(5)"
   ]
  },
  {
   "cell_type": "markdown",
   "metadata": {},
   "source": [
    "# Analisis PCA"
   ]
  },
  {
   "cell_type": "markdown",
   "metadata": {},
   "source": [
    "En este apartado reduciremos la dimencionalidad para poder ver graficamente los clusters"
   ]
  },
  {
   "cell_type": "markdown",
   "metadata": {},
   "source": [
    "# Transformamos nuestro df para usarlo en sklearn"
   ]
  },
  {
   "cell_type": "code",
   "execution_count": 7,
   "metadata": {},
   "outputs": [],
   "source": [
    "df['time_uso_sklearn'] = df.bici_tiempo_uso_seg.transform(lambda x: int(x)) # transformamos el timedelta en un integer"
   ]
  },
  {
   "cell_type": "code",
   "execution_count": 10,
   "metadata": {},
   "outputs": [
    {
     "data": {
      "text/plain": [
       "array(['F', 'M', 'N'], dtype=object)"
      ]
     },
     "execution_count": 10,
     "metadata": {},
     "output_type": "execute_result"
    }
   ],
   "source": [
    "le = preprocessing.LabelEncoder() #convertimos la variable en 0 y 1\n",
    "le.fit(df['bici_sexo'])\n",
    "le.classes_"
   ]
  },
  {
   "cell_type": "code",
   "execution_count": 11,
   "metadata": {},
   "outputs": [],
   "source": [
    "df['bici_sexo-sklearn'] = le.transform(df['bici_sexo']) #aplicamos la transformacion"
   ]
  },
  {
   "cell_type": "code",
   "execution_count": 12,
   "metadata": {},
   "outputs": [],
   "source": [
    "subset = ['id_usuario', 'time_uso_sklearn', 'bici_sexo-sklearn', 'bici_edad' ]"
   ]
  },
  {
   "cell_type": "code",
   "execution_count": 13,
   "metadata": {},
   "outputs": [
    {
     "data": {
      "text/html": [
       "<div>\n",
       "<style scoped>\n",
       "    .dataframe tbody tr th:only-of-type {\n",
       "        vertical-align: middle;\n",
       "    }\n",
       "\n",
       "    .dataframe tbody tr th {\n",
       "        vertical-align: top;\n",
       "    }\n",
       "\n",
       "    .dataframe thead th {\n",
       "        text-align: right;\n",
       "    }\n",
       "</style>\n",
       "<table border=\"1\" class=\"dataframe\">\n",
       "  <thead>\n",
       "    <tr style=\"text-align: right;\">\n",
       "      <th></th>\n",
       "      <th>id_usuario</th>\n",
       "      <th>time_uso_sklearn</th>\n",
       "      <th>bici_sexo-sklearn</th>\n",
       "      <th>bici_edad</th>\n",
       "    </tr>\n",
       "    <tr>\n",
       "      <th>bici_fecha_hora_retiro</th>\n",
       "      <th></th>\n",
       "      <th></th>\n",
       "      <th></th>\n",
       "      <th></th>\n",
       "    </tr>\n",
       "  </thead>\n",
       "  <tbody>\n",
       "    <tr>\n",
       "      <th>2018-01-01 00:08:05</th>\n",
       "      <td>5453</td>\n",
       "      <td>1193</td>\n",
       "      <td>1</td>\n",
       "      <td>45</td>\n",
       "    </tr>\n",
       "    <tr>\n",
       "      <th>2018-01-01 00:18:05</th>\n",
       "      <td>673</td>\n",
       "      <td>1579</td>\n",
       "      <td>1</td>\n",
       "      <td>61</td>\n",
       "    </tr>\n",
       "    <tr>\n",
       "      <th>2018-01-01 00:20:14</th>\n",
       "      <td>179119</td>\n",
       "      <td>1659</td>\n",
       "      <td>0</td>\n",
       "      <td>52</td>\n",
       "    </tr>\n",
       "  </tbody>\n",
       "</table>\n",
       "</div>"
      ],
      "text/plain": [
       "                        id_usuario  time_uso_sklearn  bici_sexo-sklearn  \\\n",
       "bici_fecha_hora_retiro                                                    \n",
       "2018-01-01 00:08:05           5453              1193                  1   \n",
       "2018-01-01 00:18:05            673              1579                  1   \n",
       "2018-01-01 00:20:14         179119              1659                  0   \n",
       "\n",
       "                        bici_edad  \n",
       "bici_fecha_hora_retiro             \n",
       "2018-01-01 00:08:05            45  \n",
       "2018-01-01 00:18:05            61  \n",
       "2018-01-01 00:20:14            52  "
      ]
     },
     "execution_count": 13,
     "metadata": {},
     "output_type": "execute_result"
    }
   ],
   "source": [
    "df[subset].head(3) #escogemos un subset de atributos"
   ]
  },
  {
   "cell_type": "code",
   "execution_count": 14,
   "metadata": {},
   "outputs": [
    {
     "name": "stderr",
     "output_type": "stream",
     "text": [
      "C:\\Users\\USUARIO\\Anaconda3\\lib\\site-packages\\sklearn\\preprocessing\\data.py:625: DataConversionWarning: Data with input dtype int32, int64 were all converted to float64 by StandardScaler.\n",
      "  return self.partial_fit(X, y)\n"
     ]
    },
    {
     "data": {
      "text/plain": [
       "StandardScaler(copy=True, with_mean=True, with_std=True)"
      ]
     },
     "execution_count": 14,
     "metadata": {},
     "output_type": "execute_result"
    }
   ],
   "source": [
    "scaler = preprocessing.StandardScaler().fit(df[subset]) #llevamos nuestros datos a la misma escala\n",
    "scaler"
   ]
  },
  {
   "cell_type": "code",
   "execution_count": 15,
   "metadata": {},
   "outputs": [
    {
     "name": "stderr",
     "output_type": "stream",
     "text": [
      "C:\\Users\\USUARIO\\Anaconda3\\lib\\site-packages\\ipykernel_launcher.py:1: DataConversionWarning: Data with input dtype int32, int64 were all converted to float64 by StandardScaler.\n",
      "  \"\"\"Entry point for launching an IPython kernel.\n"
     ]
    }
   ],
   "source": [
    "df_scaled = scaler.transform(df[subset])"
   ]
  },
  {
   "cell_type": "markdown",
   "metadata": {},
   "source": [
    "# DASK - TEST"
   ]
  },
  {
   "cell_type": "code",
   "execution_count": 16,
   "metadata": {},
   "outputs": [],
   "source": [
    "from dask.distributed import Client,LocalCluster\n",
    "from sklearn.externals import joblib"
   ]
  },
  {
   "cell_type": "code",
   "execution_count": 17,
   "metadata": {},
   "outputs": [],
   "source": [
    "cluster = LocalCluster()\n",
    "client = Client(cluster)  # Connect to a Dask Cluster"
   ]
  },
  {
   "cell_type": "code",
   "execution_count": 18,
   "metadata": {},
   "outputs": [],
   "source": [
    "model = PCA(n_components=2) #definimos nuestro modelo"
   ]
  },
  {
   "cell_type": "markdown",
   "metadata": {},
   "source": [
    "### Sin usar Dask"
   ]
  },
  {
   "cell_type": "code",
   "execution_count": 19,
   "metadata": {},
   "outputs": [
    {
     "name": "stdout",
     "output_type": "stream",
     "text": [
      "Wall time: 2.55 s\n"
     ]
    },
    {
     "data": {
      "text/plain": [
       "PCA(copy=True, iterated_power='auto', n_components=2, random_state=None,\n",
       "  svd_solver='auto', tol=0.0, whiten=False)"
      ]
     },
     "execution_count": 19,
     "metadata": {},
     "output_type": "execute_result"
    }
   ],
   "source": [
    "%time model.fit(df[subset]) #entrenamos nuestro modelo"
   ]
  },
  {
   "cell_type": "code",
   "execution_count": 20,
   "metadata": {},
   "outputs": [
    {
     "name": "stdout",
     "output_type": "stream",
     "text": [
      "Wall time: 84.6 ms\n"
     ]
    }
   ],
   "source": [
    "%time bici_2D = model.transform(df_scaled)"
   ]
  },
  {
   "cell_type": "markdown",
   "metadata": {},
   "source": [
    "### Usando Dask"
   ]
  },
  {
   "cell_type": "code",
   "execution_count": 21,
   "metadata": {},
   "outputs": [
    {
     "name": "stdout",
     "output_type": "stream",
     "text": [
      "Wall time: 2.44 s\n"
     ]
    }
   ],
   "source": [
    "with joblib.parallel_backend('dask'):\n",
    "    %time model.fit(df[subset])"
   ]
  },
  {
   "cell_type": "code",
   "execution_count": 22,
   "metadata": {},
   "outputs": [
    {
     "name": "stdout",
     "output_type": "stream",
     "text": [
      "Wall time: 116 ms\n"
     ]
    }
   ],
   "source": [
    "with joblib.parallel_backend('dask'):\n",
    "    %time bici_2D = model.transform(df_scaled)"
   ]
  },
  {
   "cell_type": "markdown",
   "metadata": {},
   "source": [
    " # Gaussian mixture "
   ]
  },
  {
   "cell_type": "markdown",
   "metadata": {},
   "source": [
    "### Clusters = 3; Atendiendo a usuarios que trabajan, estudian, ocasionales."
   ]
  },
  {
   "cell_type": "code",
   "execution_count": 25,
   "metadata": {},
   "outputs": [],
   "source": [
    "#seleccionamos nuestro modelo para los generar los clusters\n",
    "model = GMM(n_components=3, covariance_type='full') "
   ]
  },
  {
   "cell_type": "code",
   "execution_count": 26,
   "metadata": {},
   "outputs": [
    {
     "name": "stdout",
     "output_type": "stream",
     "text": [
      "Wall time: 1min 2s\n"
     ]
    },
    {
     "data": {
      "text/plain": [
       "GaussianMixture(covariance_type='full', init_params='kmeans', max_iter=100,\n",
       "        means_init=None, n_components=3, n_init=1, precisions_init=None,\n",
       "        random_state=None, reg_covar=1e-06, tol=0.001, verbose=0,\n",
       "        verbose_interval=10, warm_start=False, weights_init=None)"
      ]
     },
     "execution_count": 26,
     "metadata": {},
     "output_type": "execute_result"
    }
   ],
   "source": [
    "%time model.fit(df[subset]) "
   ]
  },
  {
   "cell_type": "code",
   "execution_count": null,
   "metadata": {},
   "outputs": [
    {
     "name": "stdout",
     "output_type": "stream",
     "text": [
      "Wall time: 1.33 s\n"
     ]
    }
   ],
   "source": [
    "%time y_gmm = model.predict(df[subset])"
   ]
  },
  {
   "cell_type": "code",
   "execution_count": null,
   "metadata": {},
   "outputs": [],
   "source": [
    "with joblib.parallel_backend('dask'):\n",
    "    %time model.fit(df[subset]) "
   ]
  },
  {
   "cell_type": "code",
   "execution_count": null,
   "metadata": {},
   "outputs": [],
   "source": [
    "with joblib.parallel_backend('dask'):\n",
    "    %time y_gmm = model.predict(df[subset])"
   ]
  },
  {
   "cell_type": "code",
   "execution_count": null,
   "metadata": {},
   "outputs": [],
   "source": [
    "df['cluster_3'] = y_gmm\n",
    "sns.lmplot(\"PCA1\", \"PCA2\", data=df, hue='bici_sexo', col='cluster_3', fit_reg=False);"
   ]
  },
  {
   "cell_type": "markdown",
   "metadata": {},
   "source": [
    "Los cluster inicialmente planteados, al menos para el **bici_sexo** no presentan una diferencia clara."
   ]
  },
  {
   "cell_type": "markdown",
   "metadata": {},
   "source": [
    "### Clusters = 7; Atendiendo a las semanas"
   ]
  },
  {
   "cell_type": "code",
   "execution_count": null,
   "metadata": {},
   "outputs": [],
   "source": [
    "#seleccionamos nuestro modelo para los generar los clusters\n",
    "model = GMM(n_components=7, covariance_type='full') \n",
    "\n",
    "df_aux =  df[subset][:100000]\n",
    "model.fit(df_aux) \n",
    "y_gmm = model.predict(df_aux)"
   ]
  },
  {
   "cell_type": "code",
   "execution_count": null,
   "metadata": {},
   "outputs": [],
   "source": [
    "df_aux =  df[:100000]"
   ]
  },
  {
   "cell_type": "code",
   "execution_count": null,
   "metadata": {},
   "outputs": [],
   "source": [
    "df_aux['cluster_7'] = y_gmm\n",
    "sns.lmplot(\"PCA1\", \"PCA2\", data=df_aux, hue='bici_sexo', row= 'bici_sexo', col='cluster_7', fit_reg=False);"
   ]
  },
  {
   "cell_type": "code",
   "execution_count": null,
   "metadata": {},
   "outputs": [],
   "source": [
    "df_aux.head(10)"
   ]
  }
 ],
 "metadata": {
  "kernelspec": {
   "display_name": "Python 3",
   "language": "python",
   "name": "python3"
  },
  "language_info": {
   "codemirror_mode": {
    "name": "ipython",
    "version": 3
   },
   "file_extension": ".py",
   "mimetype": "text/x-python",
   "name": "python",
   "nbconvert_exporter": "python",
   "pygments_lexer": "ipython3",
   "version": "3.7.1"
  },
  "toc": {
   "base_numbering": 1,
   "nav_menu": {},
   "number_sections": true,
   "sideBar": true,
   "skip_h1_title": false,
   "title_cell": "Table of Contents",
   "title_sidebar": "Contents",
   "toc_cell": false,
   "toc_position": {},
   "toc_section_display": true,
   "toc_window_display": true
  }
 },
 "nbformat": 4,
 "nbformat_minor": 2
}
