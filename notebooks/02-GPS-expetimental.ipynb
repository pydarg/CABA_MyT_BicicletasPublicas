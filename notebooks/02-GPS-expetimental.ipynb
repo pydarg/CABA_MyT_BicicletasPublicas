{
 "cells": [
  {
   "cell_type": "markdown",
   "metadata": {},
   "source": [
    "# Objetivo\n",
    "Añadir el las coordenadas gps a cada row de los df por años"
   ]
  },
  {
   "cell_type": "code",
   "execution_count": 1,
   "metadata": {},
   "outputs": [],
   "source": [
    "#funciones y clases particulares al caso de estudio\n",
    "from localpacks.data import get_data, get_data_others\n",
    "\n",
    "#para trabajar con nuestro dataframe\n",
    "import pandas as pd\n",
    "\n",
    "#utilidades para trabajar con datos GPS\n",
    "from geopy.distance import geodesic"
   ]
  },
  {
   "cell_type": "markdown",
   "metadata": {},
   "source": [
    "# 1. Dataset Estaciones"
   ]
  },
  {
   "cell_type": "code",
   "execution_count": 4,
   "metadata": {},
   "outputs": [],
   "source": [
    "estaciones = get_data_others('estaciones', apply_format=True) #cargamos nuestro df y le damos formato"
   ]
  },
  {
   "cell_type": "code",
   "execution_count": 5,
   "metadata": {},
   "outputs": [
    {
     "data": {
      "text/html": [
       "<div>\n",
       "<style scoped>\n",
       "    .dataframe tbody tr th:only-of-type {\n",
       "        vertical-align: middle;\n",
       "    }\n",
       "\n",
       "    .dataframe tbody tr th {\n",
       "        vertical-align: top;\n",
       "    }\n",
       "\n",
       "    .dataframe thead th {\n",
       "        text-align: right;\n",
       "    }\n",
       "</style>\n",
       "<table border=\"1\" class=\"dataframe\">\n",
       "  <thead>\n",
       "    <tr style=\"text-align: right;\">\n",
       "      <th></th>\n",
       "      <th>nro_est</th>\n",
       "      <th>nombre</th>\n",
       "      <th>lat</th>\n",
       "      <th>long</th>\n",
       "    </tr>\n",
       "  </thead>\n",
       "  <tbody>\n",
       "    <tr>\n",
       "      <th>0</th>\n",
       "      <td>1</td>\n",
       "      <td>Facultad de Derecho</td>\n",
       "      <td>-34.583133</td>\n",
       "      <td>-58.392452</td>\n",
       "    </tr>\n",
       "    <tr>\n",
       "      <th>1</th>\n",
       "      <td>2</td>\n",
       "      <td>Retiro</td>\n",
       "      <td>-34.592589</td>\n",
       "      <td>-58.374822</td>\n",
       "    </tr>\n",
       "    <tr>\n",
       "      <th>2</th>\n",
       "      <td>3</td>\n",
       "      <td>Aduana</td>\n",
       "      <td>-34.611242</td>\n",
       "      <td>-58.368918</td>\n",
       "    </tr>\n",
       "    <tr>\n",
       "      <th>3</th>\n",
       "      <td>4</td>\n",
       "      <td>Plaza Roma</td>\n",
       "      <td>-34.601721</td>\n",
       "      <td>-58.368950</td>\n",
       "    </tr>\n",
       "    <tr>\n",
       "      <th>4</th>\n",
       "      <td>6</td>\n",
       "      <td>Parque Lezama</td>\n",
       "      <td>-34.628301</td>\n",
       "      <td>-58.369709</td>\n",
       "    </tr>\n",
       "  </tbody>\n",
       "</table>\n",
       "</div>"
      ],
      "text/plain": [
       "   nro_est               nombre        lat       long\n",
       "0        1  Facultad de Derecho -34.583133 -58.392452\n",
       "1        2               Retiro -34.592589 -58.374822\n",
       "2        3               Aduana -34.611242 -58.368918\n",
       "3        4           Plaza Roma -34.601721 -58.368950\n",
       "4        6        Parque Lezama -34.628301 -58.369709"
      ]
     },
     "execution_count": 5,
     "metadata": {},
     "output_type": "execute_result"
    }
   ],
   "source": [
    "estaciones.head()"
   ]
  },
  {
   "cell_type": "markdown",
   "metadata": {},
   "source": [
    "# 3. Medimos la distancia entre puntos"
   ]
  },
  {
   "cell_type": "markdown",
   "metadata": {},
   "source": [
    "Para poder calcular la distancia recorrida de los usuarios, debemos añadir la referencia gps a cada columna y luego medir la distancia como se muestra a continuación:"
   ]
  },
  {
   "cell_type": "code",
   "execution_count": null,
   "metadata": {},
   "outputs": [],
   "source": [
    "estaciones.columns"
   ]
  },
  {
   "cell_type": "code",
   "execution_count": null,
   "metadata": {},
   "outputs": [],
   "source": [
    "p1 = [estaciones.loc[0,'lat'], estaciones.loc[0,'long']]\n",
    "p2 = [estaciones.loc[1,'lat'], estaciones.loc[1,'long']]"
   ]
  },
  {
   "cell_type": "code",
   "execution_count": null,
   "metadata": {},
   "outputs": [],
   "source": [
    "#Ejemplo\n",
    "print('Distancia entre:', estaciones.loc[0,'nombre'] +' y '+ estaciones.loc[1,'nombre'], geodesic(p1, p2).m, '(m)')\n",
    "print('Distancia entre:', estaciones.loc[0,'nombre'] +' y '+ estaciones.loc[1,'nombre'], geodesic(p1, p2).km, '(Km)')"
   ]
  },
  {
   "cell_type": "markdown",
   "metadata": {},
   "source": [
    "# 4. Georeferenciar Estaciones"
   ]
  },
  {
   "cell_type": "code",
   "execution_count": null,
   "metadata": {},
   "outputs": [],
   "source": [
    "#observamos que tenemos un número de estaciones que van del 1 al 200\n",
    "estaciones['nro_est'].sort_values().values"
   ]
  },
  {
   "cell_type": "markdown",
   "metadata": {},
   "source": [
    "Entonces para poder georegerenciar todos los puntos, tenemos que eliminar aquellos que no aparezcan en ambos dataframes"
   ]
  },
  {
   "cell_type": "markdown",
   "metadata": {},
   "source": [
    "### 4.1 Usaremos de ejemplo el año 2018"
   ]
  },
  {
   "cell_type": "code",
   "execution_count": null,
   "metadata": {},
   "outputs": [],
   "source": [
    "df = get_data(year=2018)"
   ]
  },
  {
   "cell_type": "code",
   "execution_count": null,
   "metadata": {},
   "outputs": [],
   "source": [
    "df[df['bici_estacion_destino'] > 200].shape, df[df['bici_estacion_origen'] > 200].shape"
   ]
  },
  {
   "cell_type": "markdown",
   "metadata": {},
   "source": [
    "El número de rows con estaciones que no podemos georeferenciar es pequeño, por lo tanto los eliminaremos."
   ]
  },
  {
   "cell_type": "code",
   "execution_count": null,
   "metadata": {},
   "outputs": [],
   "source": [
    "#df.drop(df[df['bici_estacion_origen'] > 200].index, inplace=True)\n",
    "#df.drop(df[df['bici_estacion_destino'] > 200].index, inplace=True)"
   ]
  },
  {
   "cell_type": "markdown",
   "metadata": {},
   "source": [
    "**Nota error** El codigo comentado esta en fase experimental, en todo caso, para un número pequeño de iteraciones el algoritmo converge pero, al intentar georeferenciar a todas las estaciones, el proceso en 20min aún no termina, por lo que se debe hacer el algoritmo mucho más eficiente."
   ]
  },
  {
   "cell_type": "code",
   "execution_count": null,
   "metadata": {},
   "outputs": [],
   "source": [
    "#values_origen = pd.DataFrame()\n",
    "#for row in df[:].iterrows():    \n",
    "        #values_origen = values_origen.append(df_geo[df_geo['nro_est'] == row[1]['bici_estacion_origen']])"
   ]
  },
  {
   "cell_type": "code",
   "execution_count": null,
   "metadata": {},
   "outputs": [],
   "source": [
    "#values_destino = pd.DataFrame()\n",
    "#for row in df[:].iterrows():    \n",
    "        #values_destino = values_destino.append(df_geo[df_geo['nro_est'] == row[1]['bici_estacion_destino']])"
   ]
  },
  {
   "cell_type": "code",
   "execution_count": null,
   "metadata": {},
   "outputs": [],
   "source": [
    "#values_origen[['lat','long']]"
   ]
  },
  {
   "cell_type": "code",
   "execution_count": null,
   "metadata": {},
   "outputs": [],
   "source": [
    "#values_destino[['lat','long']]"
   ]
  },
  {
   "cell_type": "code",
   "execution_count": null,
   "metadata": {},
   "outputs": [],
   "source": [
    "#for index, row in df.iterrows():\n",
    "    #df['distances'] = df.apply(lambda x: geo_dist(point, [x['latitude'], x['longitude']]).km, axis = 1)"
   ]
  },
  {
   "cell_type": "code",
   "execution_count": null,
   "metadata": {},
   "outputs": [],
   "source": [
    "#df['distancia_recorrida'] = df['bici_estacion_origen'] - df['bici_estacion_destino']"
   ]
  }
 ],
 "metadata": {
  "kernelspec": {
   "display_name": "Python 3",
   "language": "python",
   "name": "python3"
  },
  "language_info": {
   "codemirror_mode": {
    "name": "ipython",
    "version": 3
   },
   "file_extension": ".py",
   "mimetype": "text/x-python",
   "name": "python",
   "nbconvert_exporter": "python",
   "pygments_lexer": "ipython3",
   "version": "3.7.1"
  }
 },
 "nbformat": 4,
 "nbformat_minor": 2
}
