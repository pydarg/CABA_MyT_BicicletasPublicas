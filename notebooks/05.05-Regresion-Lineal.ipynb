{
 "cells": [
  {
   "cell_type": "markdown",
   "metadata": {},
   "source": [
    "<p style=\"font-family: Arial; font-size:3.75em;color:purple; font-style:bold\"><br>\n",
    "REGRESION LINEAL</p><br>"
   ]
  },
  {
   "cell_type": "markdown",
   "metadata": {},
   "source": [
    "Objetivo:\n",
    "- Predecir la frecuencia de uso semanal de **UNA ESTACIÓN** , usando como referencia los datos del  **AÑO 2018**."
   ]
  },
  {
   "cell_type": "code",
   "execution_count": 1,
   "metadata": {},
   "outputs": [],
   "source": [
    "#funciones y clases particulares al caso de estudio\n",
    "from localpacks.data import get_data\n",
    "\n",
    "#datasets\n",
    "import numpy as np\n",
    "import pandas as pd\n",
    "\n",
    "#graficos\n",
    "import matplotlib.pyplot as plt\n",
    "import seaborn as sns"
   ]
  },
  {
   "cell_type": "markdown",
   "metadata": {},
   "source": [
    "## Importamos nuestro df"
   ]
  },
  {
   "cell_type": "code",
   "execution_count": 44,
   "metadata": {},
   "outputs": [],
   "source": [
    "df_get = get_data(year=2018, apply_format=True) #obtenemos nuestro df con el formato adecuado"
   ]
  },
  {
   "cell_type": "code",
   "execution_count": 245,
   "metadata": {},
   "outputs": [],
   "source": [
    "df = df_get.copy() #hacemos una copia, para hacer pruebas rapidas, luego esta línea puede ser borrada"
   ]
  },
  {
   "cell_type": "code",
   "execution_count": 246,
   "metadata": {},
   "outputs": [
    {
     "data": {
      "text/html": [
       "<div>\n",
       "<style scoped>\n",
       "    .dataframe tbody tr th:only-of-type {\n",
       "        vertical-align: middle;\n",
       "    }\n",
       "\n",
       "    .dataframe tbody tr th {\n",
       "        vertical-align: top;\n",
       "    }\n",
       "\n",
       "    .dataframe thead th {\n",
       "        text-align: right;\n",
       "    }\n",
       "</style>\n",
       "<table border=\"1\" class=\"dataframe\">\n",
       "  <thead>\n",
       "    <tr style=\"text-align: right;\">\n",
       "      <th></th>\n",
       "      <th>usuario_id</th>\n",
       "      <th>origen_nombre</th>\n",
       "      <th>origen_id</th>\n",
       "      <th>destino_nombre</th>\n",
       "      <th>destino_id</th>\n",
       "      <th>usuario_genero</th>\n",
       "      <th>usario_edad</th>\n",
       "      <th>tiempo_uso(s)</th>\n",
       "    </tr>\n",
       "    <tr>\n",
       "      <th>bici_fecha_hora_retiro</th>\n",
       "      <th></th>\n",
       "      <th></th>\n",
       "      <th></th>\n",
       "      <th></th>\n",
       "      <th></th>\n",
       "      <th></th>\n",
       "      <th></th>\n",
       "      <th></th>\n",
       "    </tr>\n",
       "  </thead>\n",
       "  <tbody>\n",
       "    <tr>\n",
       "      <th>2018-01-01 00:08:05</th>\n",
       "      <td>5453</td>\n",
       "      <td>Uruguay</td>\n",
       "      <td>45</td>\n",
       "      <td>Virrey Cevallos</td>\n",
       "      <td>183</td>\n",
       "      <td>M</td>\n",
       "      <td>45</td>\n",
       "      <td>1193</td>\n",
       "    </tr>\n",
       "    <tr>\n",
       "      <th>2018-01-01 00:18:05</th>\n",
       "      <td>673</td>\n",
       "      <td>Posadas</td>\n",
       "      <td>189</td>\n",
       "      <td>Guardia Vieja</td>\n",
       "      <td>110</td>\n",
       "      <td>M</td>\n",
       "      <td>61</td>\n",
       "      <td>1579</td>\n",
       "    </tr>\n",
       "    <tr>\n",
       "      <th>2018-01-01 00:20:14</th>\n",
       "      <td>179119</td>\n",
       "      <td>Hospital Rivadavia</td>\n",
       "      <td>50</td>\n",
       "      <td>Padilla</td>\n",
       "      <td>31</td>\n",
       "      <td>F</td>\n",
       "      <td>52</td>\n",
       "      <td>1659</td>\n",
       "    </tr>\n",
       "  </tbody>\n",
       "</table>\n",
       "</div>"
      ],
      "text/plain": [
       "                        usuario_id       origen_nombre  origen_id  \\\n",
       "bici_fecha_hora_retiro                                              \n",
       "2018-01-01 00:08:05           5453             Uruguay         45   \n",
       "2018-01-01 00:18:05            673             Posadas        189   \n",
       "2018-01-01 00:20:14         179119  Hospital Rivadavia         50   \n",
       "\n",
       "                         destino_nombre  destino_id usuario_genero  \\\n",
       "bici_fecha_hora_retiro                                               \n",
       "2018-01-01 00:08:05     Virrey Cevallos         183              M   \n",
       "2018-01-01 00:18:05       Guardia Vieja         110              M   \n",
       "2018-01-01 00:20:14             Padilla          31              F   \n",
       "\n",
       "                        usario_edad  tiempo_uso(s)  \n",
       "bici_fecha_hora_retiro                              \n",
       "2018-01-01 00:08:05              45           1193  \n",
       "2018-01-01 00:18:05              61           1579  \n",
       "2018-01-01 00:20:14              52           1659  "
      ]
     },
     "execution_count": 246,
     "metadata": {},
     "output_type": "execute_result"
    }
   ],
   "source": [
    "df.head(3)"
   ]
  },
  {
   "cell_type": "markdown",
   "metadata": {},
   "source": [
    "#### 1. Escogemos una estación"
   ]
  },
  {
   "cell_type": "code",
   "execution_count": 247,
   "metadata": {},
   "outputs": [
    {
     "data": {
      "image/png": "[encoded data removed]",
      "text/plain": [
       "<Figure size 720x360 with 1 Axes>"
      ]
     },
     "metadata": {
      "needs_background": "light"
     },
     "output_type": "display_data"
    }
   ],
   "source": [
    "#df['origen_id'].value_counts().sort_values(ascending=False).plot() chequear, ¿porqué el gráfico se vpe distinto?\n",
    "\n",
    "df['origen_nombre'].value_counts().plot(figsize=(10,5))\n",
    "\n",
    "plt.title('Estaciones - año 2018')\n",
    "plt.xlabel('Estaciones')\n",
    "plt.ylabel('Frecuencia de Uso');"
   ]
  },
  {
   "cell_type": "code",
   "execution_count": 248,
   "metadata": {},
   "outputs": [
    {
     "data": {
      "text/plain": [
       "Facultad de Medicina    33776\n",
       "Pacífico                32244\n",
       "Parque Las Heras        32151\n",
       "Name: origen_nombre, dtype: int64"
      ]
     },
     "execution_count": 248,
     "metadata": {},
     "output_type": "execute_result"
    }
   ],
   "source": [
    "df['origen_nombre'].value_counts()[:3] #filtramos las 3 primeras"
   ]
  },
  {
   "cell_type": "markdown",
   "metadata": {},
   "source": [
    "Podemos observar que `Facultad de Medicina` es la que tiene la **mayor frecuencia de uso**, es la que usaremos como ejemplo."
   ]
  },
  {
   "cell_type": "code",
   "execution_count": 249,
   "metadata": {},
   "outputs": [],
   "source": [
    "df = df[df['origen_nombre'] == 'Facultad de Medicina']"
   ]
  },
  {
   "cell_type": "code",
   "execution_count": 250,
   "metadata": {},
   "outputs": [
    {
     "data": {
      "text/plain": [
       "(33776, 8)"
      ]
     },
     "execution_count": 250,
     "metadata": {},
     "output_type": "execute_result"
    }
   ],
   "source": [
    "df.shape #verificamos"
   ]
  },
  {
   "cell_type": "markdown",
   "metadata": {},
   "source": [
    "#### 2. Escogemos un mes"
   ]
  },
  {
   "cell_type": "code",
   "execution_count": 251,
   "metadata": {},
   "outputs": [
    {
     "data": {
      "image/png": "[encoded data removed]",
      "text/plain": [
       "<Figure size 720x360 with 1 Axes>"
      ]
     },
     "metadata": {
      "needs_background": "light"
     },
     "output_type": "display_data"
    }
   ],
   "source": [
    "df.groupby(df.index.month)['origen_nombre'].count().plot(figsize=(10,5));\n",
    "plt.title('Estación - Facultad de Medicina')\n",
    "plt.ylabel('Frecuencia de uso')\n",
    "plt.xlabel('Meses');"
   ]
  },
  {
   "cell_type": "code",
   "execution_count": 252,
   "metadata": {},
   "outputs": [
    {
     "data": {
      "text/plain": [
       "bici_fecha_hora_retiro\n",
       "9     6116\n",
       "10    4751\n",
       "8     4583\n",
       "Name: origen_nombre, dtype: int64"
      ]
     },
     "execution_count": 252,
     "metadata": {},
     "output_type": "execute_result"
    }
   ],
   "source": [
    "df.groupby(df.index.month)['origen_nombre'].count().sort_values(ascending=False)[:3]  "
   ]
  },
  {
   "cell_type": "markdown",
   "metadata": {},
   "source": [
    "Acorde a nuestro gráfico, el mes de **Septiembre(9)** es el que presenta mayor actividad en la estacion `Facultad de Medicina`."
   ]
  },
  {
   "cell_type": "code",
   "execution_count": 253,
   "metadata": {},
   "outputs": [],
   "source": [
    "df = df[df.index.month == 9] #filtramos por mes"
   ]
  },
  {
   "cell_type": "code",
   "execution_count": 254,
   "metadata": {},
   "outputs": [
    {
     "data": {
      "text/plain": [
       "(6116, 8)"
      ]
     },
     "execution_count": 254,
     "metadata": {},
     "output_type": "execute_result"
    }
   ],
   "source": [
    "df.shape #verificamos"
   ]
  },
  {
   "cell_type": "markdown",
   "metadata": {},
   "source": [
    "#### 3. Derivamos la frecuencia de uso diaria para la estación seleccionada"
   ]
  },
  {
   "cell_type": "code",
   "execution_count": 255,
   "metadata": {},
   "outputs": [],
   "source": [
    "df = df['origen_nombre'] #dado a que haremos un conteo, solo basta con quedarnos con una columna"
   ]
  },
  {
   "cell_type": "code",
   "execution_count": 256,
   "metadata": {},
   "outputs": [],
   "source": [
    "group = df.groupby([df.index.month,df.index.day]).count() #contamos los valores, por mes y día"
   ]
  },
  {
   "cell_type": "code",
   "execution_count": 257,
   "metadata": {},
   "outputs": [
    {
     "data": {
      "text/plain": [
       "bici_fecha_hora_retiro\n",
       "1    106\n",
       "2     77\n",
       "3    240\n",
       "dtype: int64"
      ]
     },
     "execution_count": 257,
     "metadata": {},
     "output_type": "execute_result"
    }
   ],
   "source": [
    "group.unstack(fill_value=0).sum()[:3] #primeros 10 dias "
   ]
  },
  {
   "cell_type": "code",
   "execution_count": 258,
   "metadata": {},
   "outputs": [],
   "source": [
    "group = group.unstack(fill_value=0).sum()"
   ]
  },
  {
   "cell_type": "code",
   "execution_count": 262,
   "metadata": {},
   "outputs": [
    {
     "data": {
      "image/png": "[encoded data removed]",
      "text/plain": [
       "<Figure size 720x360 with 1 Axes>"
      ]
     },
     "metadata": {
      "needs_background": "light"
     },
     "output_type": "display_data"
    }
   ],
   "source": [
    "plt.figure(figsize=(10, 5))\n",
    "\n",
    "#xticks =  pd.period_range(start='2018-09-01', end='2018-09-30', freq='D')\n",
    "#plt.xticks(xticks, xticks.strftime(\"%a %m-%d\"), rotation=90, ha=\"left\")\n",
    "plt.plot(group, linewidth=1)\n",
    "\n",
    "plt.title('Frecuencia de uso diaria - Falcultad de Medicina')\n",
    "plt.xlabel(\"Dias\")\n",
    "plt.ylabel(\"Frecuencia de Uso\");"
   ]
  },
  {
   "cell_type": "markdown",
   "metadata": {},
   "source": [
    "## Experimental con Pivot"
   ]
  },
  {
   "cell_type": "code",
   "execution_count": null,
   "metadata": {},
   "outputs": [],
   "source": [
    "pivot = df.pivot_table('origen_nombre', index=df.index.month, columns=df.index.hour, aggfunc='count', fill_value=0)"
   ]
  },
  {
   "cell_type": "code",
   "execution_count": null,
   "metadata": {},
   "outputs": [],
   "source": [
    "pivot = df.pivot_table('origen_nombre', columns=df.index.day, index=df.index.hour, aggfunc='count', fill_value=0)"
   ]
  },
  {
   "cell_type": "code",
   "execution_count": null,
   "metadata": {},
   "outputs": [],
   "source": [
    "pivot.head()"
   ]
  },
  {
   "cell_type": "code",
   "execution_count": null,
   "metadata": {},
   "outputs": [],
   "source": [
    "df.groupby([df.index.month, df.index.day, df.index.hour]).count().unstack()[:1]"
   ]
  },
  {
   "cell_type": "markdown",
   "metadata": {},
   "source": [
    "### Agregamos el tiempo de uso"
   ]
  },
  {
   "cell_type": "code",
   "execution_count": 10,
   "metadata": {},
   "outputs": [],
   "source": [
    "df = df[['origen_nombre','tiempo_uso(s)']]"
   ]
  }
 ],
 "metadata": {
  "kernelspec": {
   "display_name": "Python 3",
   "language": "python",
   "name": "python3"
  },
  "language_info": {
   "codemirror_mode": {
    "name": "ipython",
    "version": 3
   },
   "file_extension": ".py",
   "mimetype": "text/x-python",
   "name": "python",
   "nbconvert_exporter": "python",
   "pygments_lexer": "ipython3",
   "version": "3.7.1"
  }
 },
 "nbformat": 4,
 "nbformat_minor": 2
}
