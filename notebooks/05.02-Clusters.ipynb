{
 "cells": [
  {
   "cell_type": "markdown",
   "metadata": {},
   "source": [
    "<p style=\"font-family: Arial; font-size:3.75em;color:purple; font-style:bold\"><br>\n",
    "CLUSTERS</p><br>"
   ]
  },
  {
   "cell_type": "markdown",
   "metadata": {},
   "source": [
    "Para iniciar este apartado, nos preguntaremos si, para cada `usuario_id` es posible contestar:\n",
    "\n",
    "- ¿Usa el sistema para trabajar?\n",
    "- ¿Usa el sistema para estudiar?\n",
    "- ¿Usa el sistema para pasear?"
   ]
  },
  {
   "cell_type": "code",
   "execution_count": 1,
   "metadata": {},
   "outputs": [],
   "source": [
    "#funciones y clases particulares al caso de estudio\n",
    "from localpacks.data import get_data, get_data_others, format_data, clean_garbage\n",
    "\n",
    "#datasets\n",
    "import numpy as np\n",
    "import pandas as pd\n",
    "\n",
    "#graficos\n",
    "import matplotlib.pyplot as plt\n",
    "import seaborn as sns\n",
    "\n",
    "#modelos\n",
    "from sklearn.decomposition import PCA\n",
    "from sklearn import preprocessing\n",
    "from sklearn.mixture import GaussianMixture as GMM"
   ]
  },
  {
   "cell_type": "markdown",
   "metadata": {},
   "source": [
    "## Importamos nuestro df"
   ]
  },
  {
   "cell_type": "code",
   "execution_count": 2,
   "metadata": {},
   "outputs": [],
   "source": [
    "#funcion que transforma el tiempo de uso, en un time_delta\n",
    "def convert_time(s):\n",
    "    h, m, s = map(int, s.split(':'))\n",
    "    return pd.Timedelta(hours=h, minutes=m, seconds=s)"
   ]
  },
  {
   "cell_type": "code",
   "execution_count": 3,
   "metadata": {},
   "outputs": [],
   "source": [
    "df = pd.read_csv('./data/recorridos-realizados-2018.csv', converters={'bici_tiempo_uso':convert_time})"
   ]
  },
  {
   "cell_type": "code",
   "execution_count": 4,
   "metadata": {},
   "outputs": [],
   "source": [
    "df['bici_tiempo_uso_seg'] = df['bici_tiempo_uso'].astype('int64') / 1E9 #para graficar facilmente con seaborn convertimos el timedelta a segundos"
   ]
  },
  {
   "cell_type": "code",
   "execution_count": 5,
   "metadata": {},
   "outputs": [],
   "source": [
    "df.index = pd.to_datetime(df['bici_fecha_hora_retiro'], format='%Y-%m-%d %H:%M:%S') #1.Damos formato e indexamos\n",
    "del df['bici_fecha_hora_retiro'] #Eliminamos la columna 'bici_fecha_hora_retiro'"
   ]
  },
  {
   "cell_type": "code",
   "execution_count": 6,
   "metadata": {},
   "outputs": [
    {
     "data": {
      "text/html": [
       "<div>\n",
       "<style scoped>\n",
       "    .dataframe tbody tr th:only-of-type {\n",
       "        vertical-align: middle;\n",
       "    }\n",
       "\n",
       "    .dataframe tbody tr th {\n",
       "        vertical-align: top;\n",
       "    }\n",
       "\n",
       "    .dataframe thead th {\n",
       "        text-align: right;\n",
       "    }\n",
       "</style>\n",
       "<table border=\"1\" class=\"dataframe\">\n",
       "  <thead>\n",
       "    <tr style=\"text-align: right;\">\n",
       "      <th></th>\n",
       "      <th>id_usuario</th>\n",
       "      <th>bici_tiempo_uso</th>\n",
       "      <th>bici_nombre_estacion_origen</th>\n",
       "      <th>bici_estacion_origen</th>\n",
       "      <th>bici_nombre_estacion_destino</th>\n",
       "      <th>bici_estacion_destino</th>\n",
       "      <th>bici_sexo</th>\n",
       "      <th>bici_edad</th>\n",
       "      <th>bici_tiempo_uso_seg</th>\n",
       "    </tr>\n",
       "    <tr>\n",
       "      <th>bici_fecha_hora_retiro</th>\n",
       "      <th></th>\n",
       "      <th></th>\n",
       "      <th></th>\n",
       "      <th></th>\n",
       "      <th></th>\n",
       "      <th></th>\n",
       "      <th></th>\n",
       "      <th></th>\n",
       "      <th></th>\n",
       "    </tr>\n",
       "  </thead>\n",
       "  <tbody>\n",
       "    <tr>\n",
       "      <th>2018-01-01 00:08:05</th>\n",
       "      <td>5453</td>\n",
       "      <td>00:19:53</td>\n",
       "      <td>Uruguay</td>\n",
       "      <td>45</td>\n",
       "      <td>Virrey Cevallos</td>\n",
       "      <td>183</td>\n",
       "      <td>M</td>\n",
       "      <td>45</td>\n",
       "      <td>1193.0</td>\n",
       "    </tr>\n",
       "    <tr>\n",
       "      <th>2018-01-01 00:18:05</th>\n",
       "      <td>673</td>\n",
       "      <td>00:26:19</td>\n",
       "      <td>Posadas</td>\n",
       "      <td>189</td>\n",
       "      <td>Guardia Vieja</td>\n",
       "      <td>110</td>\n",
       "      <td>M</td>\n",
       "      <td>61</td>\n",
       "      <td>1579.0</td>\n",
       "    </tr>\n",
       "    <tr>\n",
       "      <th>2018-01-01 00:20:14</th>\n",
       "      <td>179119</td>\n",
       "      <td>00:27:39</td>\n",
       "      <td>Hospital Rivadavia</td>\n",
       "      <td>50</td>\n",
       "      <td>Padilla</td>\n",
       "      <td>31</td>\n",
       "      <td>F</td>\n",
       "      <td>52</td>\n",
       "      <td>1659.0</td>\n",
       "    </tr>\n",
       "    <tr>\n",
       "      <th>2018-01-01 00:20:22</th>\n",
       "      <td>400147</td>\n",
       "      <td>00:48:51</td>\n",
       "      <td>Macacha Güemes</td>\n",
       "      <td>111</td>\n",
       "      <td>Acuña de Figueroa</td>\n",
       "      <td>54</td>\n",
       "      <td>M</td>\n",
       "      <td>27</td>\n",
       "      <td>2931.0</td>\n",
       "    </tr>\n",
       "    <tr>\n",
       "      <th>2018-01-01 00:20:31</th>\n",
       "      <td>400156</td>\n",
       "      <td>00:49:27</td>\n",
       "      <td>Macacha Güemes</td>\n",
       "      <td>111</td>\n",
       "      <td>Acuña de Figueroa</td>\n",
       "      <td>54</td>\n",
       "      <td>F</td>\n",
       "      <td>27</td>\n",
       "      <td>2967.0</td>\n",
       "    </tr>\n",
       "  </tbody>\n",
       "</table>\n",
       "</div>"
      ],
      "text/plain": [
       "                        id_usuario bici_tiempo_uso  \\\n",
       "bici_fecha_hora_retiro                               \n",
       "2018-01-01 00:08:05           5453        00:19:53   \n",
       "2018-01-01 00:18:05            673        00:26:19   \n",
       "2018-01-01 00:20:14         179119        00:27:39   \n",
       "2018-01-01 00:20:22         400147        00:48:51   \n",
       "2018-01-01 00:20:31         400156        00:49:27   \n",
       "\n",
       "                       bici_nombre_estacion_origen  bici_estacion_origen  \\\n",
       "bici_fecha_hora_retiro                                                     \n",
       "2018-01-01 00:08:05                        Uruguay                    45   \n",
       "2018-01-01 00:18:05                        Posadas                   189   \n",
       "2018-01-01 00:20:14             Hospital Rivadavia                    50   \n",
       "2018-01-01 00:20:22                 Macacha Güemes                   111   \n",
       "2018-01-01 00:20:31                 Macacha Güemes                   111   \n",
       "\n",
       "                       bici_nombre_estacion_destino  bici_estacion_destino  \\\n",
       "bici_fecha_hora_retiro                                                       \n",
       "2018-01-01 00:08:05                 Virrey Cevallos                    183   \n",
       "2018-01-01 00:18:05                   Guardia Vieja                    110   \n",
       "2018-01-01 00:20:14                         Padilla                     31   \n",
       "2018-01-01 00:20:22               Acuña de Figueroa                     54   \n",
       "2018-01-01 00:20:31               Acuña de Figueroa                     54   \n",
       "\n",
       "                       bici_sexo  bici_edad  bici_tiempo_uso_seg  \n",
       "bici_fecha_hora_retiro                                            \n",
       "2018-01-01 00:08:05            M         45               1193.0  \n",
       "2018-01-01 00:18:05            M         61               1579.0  \n",
       "2018-01-01 00:20:14            F         52               1659.0  \n",
       "2018-01-01 00:20:22            M         27               2931.0  \n",
       "2018-01-01 00:20:31            F         27               2967.0  "
      ]
     },
     "execution_count": 6,
     "metadata": {},
     "output_type": "execute_result"
    }
   ],
   "source": [
    "df.head(5)"
   ]
  },
  {
   "cell_type": "markdown",
   "metadata": {},
   "source": [
    "# Analisis PCA"
   ]
  },
  {
   "cell_type": "markdown",
   "metadata": {},
   "source": [
    "En este apartado reduciremos la dimencionalidad para poder ver graficamente los clusters"
   ]
  },
  {
   "cell_type": "markdown",
   "metadata": {},
   "source": [
    "# Transformamos nuestro df para usarlo en sklearn"
   ]
  },
  {
   "cell_type": "code",
   "execution_count": 7,
   "metadata": {},
   "outputs": [],
   "source": [
    "df['time_uso_sklearn'] = df.bici_tiempo_uso_seg.transform(lambda x: int(x)) # transformamos el timedelta en un integer"
   ]
  },
  {
   "cell_type": "code",
   "execution_count": 8,
   "metadata": {},
   "outputs": [
    {
     "data": {
      "text/plain": [
       "array(['F', 'M', 'N'], dtype=object)"
      ]
     },
     "execution_count": 8,
     "metadata": {},
     "output_type": "execute_result"
    }
   ],
   "source": [
    "le = preprocessing.LabelEncoder() #convertimos la variable en 0 y 1\n",
    "le.fit(df['bici_sexo'])\n",
    "le.classes_"
   ]
  },
  {
   "cell_type": "code",
   "execution_count": 9,
   "metadata": {},
   "outputs": [],
   "source": [
    "df['bici_sexo-sklearn'] = le.transform(df['bici_sexo']) #aplicamos la transformacion"
   ]
  },
  {
   "cell_type": "code",
   "execution_count": 10,
   "metadata": {},
   "outputs": [],
   "source": [
    "subset = ['id_usuario', 'time_uso_sklearn', 'bici_sexo-sklearn', 'bici_edad' ]"
   ]
  },
  {
   "cell_type": "code",
   "execution_count": 11,
   "metadata": {},
   "outputs": [
    {
     "data": {
      "text/html": [
       "<div>\n",
       "<style scoped>\n",
       "    .dataframe tbody tr th:only-of-type {\n",
       "        vertical-align: middle;\n",
       "    }\n",
       "\n",
       "    .dataframe tbody tr th {\n",
       "        vertical-align: top;\n",
       "    }\n",
       "\n",
       "    .dataframe thead th {\n",
       "        text-align: right;\n",
       "    }\n",
       "</style>\n",
       "<table border=\"1\" class=\"dataframe\">\n",
       "  <thead>\n",
       "    <tr style=\"text-align: right;\">\n",
       "      <th></th>\n",
       "      <th>id_usuario</th>\n",
       "      <th>time_uso_sklearn</th>\n",
       "      <th>bici_sexo-sklearn</th>\n",
       "      <th>bici_edad</th>\n",
       "    </tr>\n",
       "    <tr>\n",
       "      <th>bici_fecha_hora_retiro</th>\n",
       "      <th></th>\n",
       "      <th></th>\n",
       "      <th></th>\n",
       "      <th></th>\n",
       "    </tr>\n",
       "  </thead>\n",
       "  <tbody>\n",
       "    <tr>\n",
       "      <th>2018-01-01 00:08:05</th>\n",
       "      <td>5453</td>\n",
       "      <td>1193</td>\n",
       "      <td>1</td>\n",
       "      <td>45</td>\n",
       "    </tr>\n",
       "    <tr>\n",
       "      <th>2018-01-01 00:18:05</th>\n",
       "      <td>673</td>\n",
       "      <td>1579</td>\n",
       "      <td>1</td>\n",
       "      <td>61</td>\n",
       "    </tr>\n",
       "    <tr>\n",
       "      <th>2018-01-01 00:20:14</th>\n",
       "      <td>179119</td>\n",
       "      <td>1659</td>\n",
       "      <td>0</td>\n",
       "      <td>52</td>\n",
       "    </tr>\n",
       "  </tbody>\n",
       "</table>\n",
       "</div>"
      ],
      "text/plain": [
       "                        id_usuario  time_uso_sklearn  bici_sexo-sklearn  \\\n",
       "bici_fecha_hora_retiro                                                    \n",
       "2018-01-01 00:08:05           5453              1193                  1   \n",
       "2018-01-01 00:18:05            673              1579                  1   \n",
       "2018-01-01 00:20:14         179119              1659                  0   \n",
       "\n",
       "                        bici_edad  \n",
       "bici_fecha_hora_retiro             \n",
       "2018-01-01 00:08:05            45  \n",
       "2018-01-01 00:18:05            61  \n",
       "2018-01-01 00:20:14            52  "
      ]
     },
     "execution_count": 11,
     "metadata": {},
     "output_type": "execute_result"
    }
   ],
   "source": [
    "df[subset].head(3) #escogemos un subset de atributos"
   ]
  },
  {
   "cell_type": "code",
   "execution_count": 12,
   "metadata": {},
   "outputs": [
    {
     "name": "stderr",
     "output_type": "stream",
     "text": [
      "C:\\Users\\USUARIO\\Anaconda3\\lib\\site-packages\\sklearn\\preprocessing\\data.py:625: DataConversionWarning: Data with input dtype int32, int64 were all converted to float64 by StandardScaler.\n",
      "  return self.partial_fit(X, y)\n"
     ]
    },
    {
     "data": {
      "text/plain": [
       "StandardScaler(copy=True, with_mean=True, with_std=True)"
      ]
     },
     "execution_count": 12,
     "metadata": {},
     "output_type": "execute_result"
    }
   ],
   "source": [
    "scaler = preprocessing.StandardScaler().fit(df[subset]) #llevamos nuestros datos a la misma escala\n",
    "scaler"
   ]
  },
  {
   "cell_type": "code",
   "execution_count": 13,
   "metadata": {},
   "outputs": [
    {
     "name": "stderr",
     "output_type": "stream",
     "text": [
      "C:\\Users\\USUARIO\\Anaconda3\\lib\\site-packages\\ipykernel_launcher.py:1: DataConversionWarning: Data with input dtype int32, int64 were all converted to float64 by StandardScaler.\n",
      "  \"\"\"Entry point for launching an IPython kernel.\n"
     ]
    }
   ],
   "source": [
    "df_scaled = scaler.transform(df[subset])"
   ]
  },
  {
   "cell_type": "markdown",
   "metadata": {},
   "source": [
    "# Pruebas"
   ]
  },
  {
   "cell_type": "code",
   "execution_count": 14,
   "metadata": {},
   "outputs": [],
   "source": [
    "model = PCA(n_components=2) #definimos nuestro modelo"
   ]
  },
  {
   "cell_type": "code",
   "execution_count": 15,
   "metadata": {},
   "outputs": [
    {
     "name": "stdout",
     "output_type": "stream",
     "text": [
      "Wall time: 2.56 s\n"
     ]
    },
    {
     "data": {
      "text/plain": [
       "PCA(copy=True, iterated_power='auto', n_components=2, random_state=None,\n",
       "  svd_solver='auto', tol=0.0, whiten=False)"
      ]
     },
     "execution_count": 15,
     "metadata": {},
     "output_type": "execute_result"
    }
   ],
   "source": [
    "%time model.fit(df[subset]) #entrenamos nuestro modelo"
   ]
  },
  {
   "cell_type": "code",
   "execution_count": 16,
   "metadata": {},
   "outputs": [
    {
     "name": "stdout",
     "output_type": "stream",
     "text": [
      "Wall time: 91.8 ms\n"
     ]
    }
   ],
   "source": [
    "%time bici_2D = model.transform(df_scaled)"
   ]
  },
  {
   "cell_type": "code",
   "execution_count": 17,
   "metadata": {},
   "outputs": [],
   "source": [
    "from dask.distributed import Client\n",
    "from sklearn.externals.joblib import parallel_backend"
   ]
  },
  {
   "cell_type": "code",
   "execution_count": 18,
   "metadata": {},
   "outputs": [],
   "source": [
    "client = Client()  # Connect to a Dask Cluster"
   ]
  },
  {
   "cell_type": "code",
   "execution_count": 19,
   "metadata": {},
   "outputs": [
    {
     "name": "stdout",
     "output_type": "stream",
     "text": [
      "Wall time: 2.46 s\n"
     ]
    }
   ],
   "source": [
    "with parallel_backend('dask'):\n",
    "    %time model.fit(df[subset])"
   ]
  },
  {
   "cell_type": "code",
   "execution_count": 20,
   "metadata": {},
   "outputs": [
    {
     "name": "stdout",
     "output_type": "stream",
     "text": [
      "Wall time: 97.7 ms\n"
     ]
    }
   ],
   "source": [
    "with parallel_backend('dask'):\n",
    "    %time bici_2D = model.transform(df_scaled)"
   ]
  },
  {
   "cell_type": "code",
   "execution_count": 32,
   "metadata": {},
   "outputs": [
    {
     "name": "stdout",
     "output_type": "stream",
     "text": [
      "Wall time: 22.8 s\n"
     ]
    },
    {
     "data": {
      "text/plain": [
       "<seaborn.axisgrid.FacetGrid at 0x1dd99b46a90>"
      ]
     },
     "execution_count": 32,
     "metadata": {},
     "output_type": "execute_result"
    },
    {
     "data": {
      "image/png": "[encoded data removed]",
      "text/plain": [
       "<Figure size 413.75x360 with 1 Axes>"
      ]
     },
     "metadata": {
      "needs_background": "light"
     },
     "output_type": "display_data"
    }
   ],
   "source": [
    "df['PCA1'] = bici_2D[:, 0]\n",
    "df['PCA2'] = bici_2D[:, 1]\n",
    "%time sns.lmplot(\"PCA1\", \"PCA2\", hue='bici_sexo', data=df, fit_reg=False);"
   ]
  },
  {
   "cell_type": "code",
   "execution_count": 33,
   "metadata": {},
   "outputs": [
    {
     "name": "stdout",
     "output_type": "stream",
     "text": [
      "Wall time: 28.2 s\n"
     ]
    },
    {
     "data": {
      "image/png": "[encoded data removed]",
      "text/plain": [
       "<Figure size 413.75x360 with 1 Axes>"
      ]
     },
     "metadata": {
      "needs_background": "light"
     },
     "output_type": "display_data"
    }
   ],
   "source": [
    "with parallel_backend('dask'):\n",
    "    df['PCA1'] = bici_2D[:, 0]\n",
    "    df['PCA2'] = bici_2D[:, 1]\n",
    "    %time sns.lmplot(\"PCA1\", \"PCA2\", hue='bici_sexo', data=df, fit_reg=False);"
   ]
  },
  {
   "cell_type": "markdown",
   "metadata": {},
   "source": [
    " # Gaussian mixture "
   ]
  },
  {
   "cell_type": "markdown",
   "metadata": {},
   "source": [
    "### Clusters = 3; Atendiendo a usuarios que trabajan, estudian, ocacionales."
   ]
  },
  {
   "cell_type": "code",
   "execution_count": null,
   "metadata": {},
   "outputs": [],
   "source": [
    "#modelos\n",
    "from sklearn.decomposition import PCA\n",
    "from sklearn import preprocessing\n",
    "from sklearn.mixture import GaussianMixture as GMM"
   ]
  },
  {
   "cell_type": "code",
   "execution_count": null,
   "metadata": {},
   "outputs": [],
   "source": [
    "from dask_ml"
   ]
  },
  {
   "cell_type": "code",
   "execution_count": 22,
   "metadata": {},
   "outputs": [],
   "source": [
    "#seleccionamos nuestro modelo para los generar los clusters\n",
    "model = GMM(n_components=3, covariance_type='full') "
   ]
  },
  {
   "cell_type": "code",
   "execution_count": 24,
   "metadata": {},
   "outputs": [
    {
     "name": "stdout",
     "output_type": "stream",
     "text": [
      "Wall time: 1min 1s\n"
     ]
    },
    {
     "data": {
      "text/plain": [
       "GaussianMixture(covariance_type='full', init_params='kmeans', max_iter=100,\n",
       "        means_init=None, n_components=3, n_init=1, precisions_init=None,\n",
       "        random_state=None, reg_covar=1e-06, tol=0.001, verbose=0,\n",
       "        verbose_interval=10, warm_start=False, weights_init=None)"
      ]
     },
     "execution_count": 24,
     "metadata": {},
     "output_type": "execute_result"
    }
   ],
   "source": [
    "%time model.fit(df[subset]) "
   ]
  },
  {
   "cell_type": "code",
   "execution_count": 25,
   "metadata": {},
   "outputs": [
    {
     "name": "stdout",
     "output_type": "stream",
     "text": [
      "Wall time: 1.15 s\n"
     ]
    }
   ],
   "source": [
    "%time y_gmm = model.predict(df[subset])"
   ]
  },
  {
   "cell_type": "code",
   "execution_count": 26,
   "metadata": {},
   "outputs": [
    {
     "name": "stdout",
     "output_type": "stream",
     "text": [
      "Wall time: 1min 2s\n"
     ]
    }
   ],
   "source": [
    "with parallel_backend('dask'):\n",
    "    %time model.fit(df[subset]) "
   ]
  },
  {
   "cell_type": "code",
   "execution_count": 27,
   "metadata": {},
   "outputs": [
    {
     "name": "stdout",
     "output_type": "stream",
     "text": [
      "Wall time: 1.34 s\n"
     ]
    }
   ],
   "source": [
    "with parallel_backend('dask'):\n",
    "    %time y_gmm = model.predict(df[subset])"
   ]
  },
  {
   "cell_type": "code",
   "execution_count": 24,
   "metadata": {},
   "outputs": [
    {
     "data": {
      "image/png": "[encoded data removed]",
      "text/plain": [
       "<Figure size 1133.75x360 with 3 Axes>"
      ]
     },
     "metadata": {
      "needs_background": "light"
     },
     "output_type": "display_data"
    }
   ],
   "source": [
    "df['cluster_3'] = y_gmm\n",
    "sns.lmplot(\"PCA1\", \"PCA2\", data=df, hue='bici_sexo', col='cluster_3', fit_reg=False);"
   ]
  },
  {
   "cell_type": "markdown",
   "metadata": {},
   "source": [
    "Los cluster inicialmente planteados, al menos para el **bici_sexo** no presentan una diferencia clara."
   ]
  },
  {
   "cell_type": "markdown",
   "metadata": {},
   "source": [
    "### Clusters = 7; Atendiendo a las semanas"
   ]
  },
  {
   "cell_type": "code",
   "execution_count": 25,
   "metadata": {},
   "outputs": [],
   "source": [
    "#seleccionamos nuestro modelo para los generar los clusters\n",
    "model = GMM(n_components=7, covariance_type='full') \n",
    "\n",
    "df_aux =  df[subset][:100000]\n",
    "model.fit(df_aux) \n",
    "y_gmm = model.predict(df_aux)"
   ]
  },
  {
   "cell_type": "code",
   "execution_count": 26,
   "metadata": {},
   "outputs": [],
   "source": [
    "df_aux =  df[:100000]"
   ]
  },
  {
   "cell_type": "code",
   "execution_count": 27,
   "metadata": {},
   "outputs": [
    {
     "name": "stderr",
     "output_type": "stream",
     "text": [
      "C:\\Users\\USUARIO\\Anaconda3\\lib\\site-packages\\ipykernel_launcher.py:1: SettingWithCopyWarning: \n",
      "A value is trying to be set on a copy of a slice from a DataFrame.\n",
      "Try using .loc[row_indexer,col_indexer] = value instead\n",
      "\n",
      "See the caveats in the documentation: http://pandas.pydata.org/pandas-docs/stable/indexing.html#indexing-view-versus-copy\n",
      "  \"\"\"Entry point for launching an IPython kernel.\n"
     ]
    },
    {
     "data": {
      "image/png": "[encoded data removed]",
      "text/plain": [
       "<Figure size 2520x720 with 14 Axes>"
      ]
     },
     "metadata": {
      "needs_background": "light"
     },
     "output_type": "display_data"
    }
   ],
   "source": [
    "df_aux['cluster_7'] = y_gmm\n",
    "sns.lmplot(\"PCA1\", \"PCA2\", data=df_aux, hue='bici_sexo', row= 'bici_sexo', col='cluster_7', fit_reg=False);"
   ]
  },
  {
   "cell_type": "code",
   "execution_count": 28,
   "metadata": {},
   "outputs": [
    {
     "data": {
      "text/html": [
       "<div>\n",
       "<style scoped>\n",
       "    .dataframe tbody tr th:only-of-type {\n",
       "        vertical-align: middle;\n",
       "    }\n",
       "\n",
       "    .dataframe tbody tr th {\n",
       "        vertical-align: top;\n",
       "    }\n",
       "\n",
       "    .dataframe thead th {\n",
       "        text-align: right;\n",
       "    }\n",
       "</style>\n",
       "<table border=\"1\" class=\"dataframe\">\n",
       "  <thead>\n",
       "    <tr style=\"text-align: right;\">\n",
       "      <th></th>\n",
       "      <th>id_usuario</th>\n",
       "      <th>bici_tiempo_uso</th>\n",
       "      <th>bici_nombre_estacion_origen</th>\n",
       "      <th>bici_estacion_origen</th>\n",
       "      <th>bici_nombre_estacion_destino</th>\n",
       "      <th>bici_estacion_destino</th>\n",
       "      <th>bici_sexo</th>\n",
       "      <th>bici_edad</th>\n",
       "      <th>bici_tiempo_uso_seg</th>\n",
       "      <th>time_uso_sklearn</th>\n",
       "      <th>bici_sexo-sklearn</th>\n",
       "      <th>PCA1</th>\n",
       "      <th>PCA2</th>\n",
       "      <th>cluster_3</th>\n",
       "      <th>cluster_7</th>\n",
       "    </tr>\n",
       "    <tr>\n",
       "      <th>bici_fecha_hora_retiro</th>\n",
       "      <th></th>\n",
       "      <th></th>\n",
       "      <th></th>\n",
       "      <th></th>\n",
       "      <th></th>\n",
       "      <th></th>\n",
       "      <th></th>\n",
       "      <th></th>\n",
       "      <th></th>\n",
       "      <th></th>\n",
       "      <th></th>\n",
       "      <th></th>\n",
       "      <th></th>\n",
       "      <th></th>\n",
       "      <th></th>\n",
       "    </tr>\n",
       "  </thead>\n",
       "  <tbody>\n",
       "    <tr>\n",
       "      <th>2018-01-01 00:08:05</th>\n",
       "      <td>5453</td>\n",
       "      <td>00:19:53</td>\n",
       "      <td>Uruguay</td>\n",
       "      <td>45</td>\n",
       "      <td>Virrey Cevallos</td>\n",
       "      <td>183</td>\n",
       "      <td>M</td>\n",
       "      <td>45</td>\n",
       "      <td>1193.0</td>\n",
       "      <td>1193</td>\n",
       "      <td>1</td>\n",
       "      <td>323490.427925</td>\n",
       "      <td>-1519.728785</td>\n",
       "      <td>2</td>\n",
       "      <td>1</td>\n",
       "    </tr>\n",
       "    <tr>\n",
       "      <th>2018-01-01 00:18:05</th>\n",
       "      <td>673</td>\n",
       "      <td>00:26:19</td>\n",
       "      <td>Posadas</td>\n",
       "      <td>189</td>\n",
       "      <td>Guardia Vieja</td>\n",
       "      <td>110</td>\n",
       "      <td>M</td>\n",
       "      <td>61</td>\n",
       "      <td>1579.0</td>\n",
       "      <td>1579</td>\n",
       "      <td>1</td>\n",
       "      <td>323490.453899</td>\n",
       "      <td>-1519.455907</td>\n",
       "      <td>2</td>\n",
       "      <td>3</td>\n",
       "    </tr>\n",
       "    <tr>\n",
       "      <th>2018-01-01 00:20:14</th>\n",
       "      <td>179119</td>\n",
       "      <td>00:27:39</td>\n",
       "      <td>Hospital Rivadavia</td>\n",
       "      <td>50</td>\n",
       "      <td>Padilla</td>\n",
       "      <td>31</td>\n",
       "      <td>F</td>\n",
       "      <td>52</td>\n",
       "      <td>1659.0</td>\n",
       "      <td>1659</td>\n",
       "      <td>0</td>\n",
       "      <td>323489.482888</td>\n",
       "      <td>-1519.399765</td>\n",
       "      <td>0</td>\n",
       "      <td>0</td>\n",
       "    </tr>\n",
       "    <tr>\n",
       "      <th>2018-01-01 00:20:22</th>\n",
       "      <td>400147</td>\n",
       "      <td>00:48:51</td>\n",
       "      <td>Macacha Güemes</td>\n",
       "      <td>111</td>\n",
       "      <td>Acuña de Figueroa</td>\n",
       "      <td>54</td>\n",
       "      <td>M</td>\n",
       "      <td>27</td>\n",
       "      <td>2931.0</td>\n",
       "      <td>2931</td>\n",
       "      <td>1</td>\n",
       "      <td>323488.279979</td>\n",
       "      <td>-1518.502410</td>\n",
       "      <td>0</td>\n",
       "      <td>3</td>\n",
       "    </tr>\n",
       "    <tr>\n",
       "      <th>2018-01-01 00:20:31</th>\n",
       "      <td>400156</td>\n",
       "      <td>00:49:27</td>\n",
       "      <td>Macacha Güemes</td>\n",
       "      <td>111</td>\n",
       "      <td>Acuña de Figueroa</td>\n",
       "      <td>54</td>\n",
       "      <td>F</td>\n",
       "      <td>27</td>\n",
       "      <td>2967.0</td>\n",
       "      <td>2967</td>\n",
       "      <td>0</td>\n",
       "      <td>323488.279925</td>\n",
       "      <td>-1518.476955</td>\n",
       "      <td>0</td>\n",
       "      <td>2</td>\n",
       "    </tr>\n",
       "    <tr>\n",
       "      <th>2018-01-01 00:21:01</th>\n",
       "      <td>476733</td>\n",
       "      <td>00:36:10</td>\n",
       "      <td>Yatay</td>\n",
       "      <td>121</td>\n",
       "      <td>Billinghurst y Valentin Gomez</td>\n",
       "      <td>143</td>\n",
       "      <td>F</td>\n",
       "      <td>31</td>\n",
       "      <td>2170.0</td>\n",
       "      <td>2170</td>\n",
       "      <td>0</td>\n",
       "      <td>323487.863364</td>\n",
       "      <td>-1519.039713</td>\n",
       "      <td>0</td>\n",
       "      <td>6</td>\n",
       "    </tr>\n",
       "    <tr>\n",
       "      <th>2018-01-01 00:21:30</th>\n",
       "      <td>326932</td>\n",
       "      <td>00:35:31</td>\n",
       "      <td>Yatay</td>\n",
       "      <td>121</td>\n",
       "      <td>Billinghurst y Valentin Gomez</td>\n",
       "      <td>143</td>\n",
       "      <td>F</td>\n",
       "      <td>28</td>\n",
       "      <td>2131.0</td>\n",
       "      <td>2131</td>\n",
       "      <td>0</td>\n",
       "      <td>323488.678486</td>\n",
       "      <td>-1519.067142</td>\n",
       "      <td>0</td>\n",
       "      <td>2</td>\n",
       "    </tr>\n",
       "    <tr>\n",
       "      <th>2018-01-01 00:22:48</th>\n",
       "      <td>347609</td>\n",
       "      <td>00:31:07</td>\n",
       "      <td>Pque. Jose Evaristo Uriburu</td>\n",
       "      <td>155</td>\n",
       "      <td>Cerrito</td>\n",
       "      <td>71</td>\n",
       "      <td>M</td>\n",
       "      <td>26</td>\n",
       "      <td>1867.0</td>\n",
       "      <td>1867</td>\n",
       "      <td>1</td>\n",
       "      <td>323488.566011</td>\n",
       "      <td>-1519.253650</td>\n",
       "      <td>1</td>\n",
       "      <td>1</td>\n",
       "    </tr>\n",
       "    <tr>\n",
       "      <th>2018-01-01 00:23:46</th>\n",
       "      <td>392077</td>\n",
       "      <td>00:34:28</td>\n",
       "      <td>Obelisco</td>\n",
       "      <td>7</td>\n",
       "      <td>Azucena Villaflor</td>\n",
       "      <td>79</td>\n",
       "      <td>F</td>\n",
       "      <td>29</td>\n",
       "      <td>2068.0</td>\n",
       "      <td>2068</td>\n",
       "      <td>0</td>\n",
       "      <td>323488.324020</td>\n",
       "      <td>-1519.111679</td>\n",
       "      <td>0</td>\n",
       "      <td>2</td>\n",
       "    </tr>\n",
       "    <tr>\n",
       "      <th>2018-01-01 00:24:19</th>\n",
       "      <td>457895</td>\n",
       "      <td>00:17:08</td>\n",
       "      <td>Obelisco</td>\n",
       "      <td>7</td>\n",
       "      <td>Colegio Nacional Buenos Aires</td>\n",
       "      <td>47</td>\n",
       "      <td>F</td>\n",
       "      <td>26</td>\n",
       "      <td>1028.0</td>\n",
       "      <td>1028</td>\n",
       "      <td>0</td>\n",
       "      <td>323487.966029</td>\n",
       "      <td>-1519.846146</td>\n",
       "      <td>1</td>\n",
       "      <td>6</td>\n",
       "    </tr>\n",
       "  </tbody>\n",
       "</table>\n",
       "</div>"
      ],
      "text/plain": [
       "                        id_usuario bici_tiempo_uso  \\\n",
       "bici_fecha_hora_retiro                               \n",
       "2018-01-01 00:08:05           5453        00:19:53   \n",
       "2018-01-01 00:18:05            673        00:26:19   \n",
       "2018-01-01 00:20:14         179119        00:27:39   \n",
       "2018-01-01 00:20:22         400147        00:48:51   \n",
       "2018-01-01 00:20:31         400156        00:49:27   \n",
       "2018-01-01 00:21:01         476733        00:36:10   \n",
       "2018-01-01 00:21:30         326932        00:35:31   \n",
       "2018-01-01 00:22:48         347609        00:31:07   \n",
       "2018-01-01 00:23:46         392077        00:34:28   \n",
       "2018-01-01 00:24:19         457895        00:17:08   \n",
       "\n",
       "                        bici_nombre_estacion_origen  bici_estacion_origen  \\\n",
       "bici_fecha_hora_retiro                                                      \n",
       "2018-01-01 00:08:05                         Uruguay                    45   \n",
       "2018-01-01 00:18:05                         Posadas                   189   \n",
       "2018-01-01 00:20:14              Hospital Rivadavia                    50   \n",
       "2018-01-01 00:20:22                  Macacha Güemes                   111   \n",
       "2018-01-01 00:20:31                  Macacha Güemes                   111   \n",
       "2018-01-01 00:21:01                           Yatay                   121   \n",
       "2018-01-01 00:21:30                           Yatay                   121   \n",
       "2018-01-01 00:22:48     Pque. Jose Evaristo Uriburu                   155   \n",
       "2018-01-01 00:23:46                        Obelisco                     7   \n",
       "2018-01-01 00:24:19                        Obelisco                     7   \n",
       "\n",
       "                         bici_nombre_estacion_destino  bici_estacion_destino  \\\n",
       "bici_fecha_hora_retiro                                                         \n",
       "2018-01-01 00:08:05                   Virrey Cevallos                    183   \n",
       "2018-01-01 00:18:05                     Guardia Vieja                    110   \n",
       "2018-01-01 00:20:14                           Padilla                     31   \n",
       "2018-01-01 00:20:22                 Acuña de Figueroa                     54   \n",
       "2018-01-01 00:20:31                 Acuña de Figueroa                     54   \n",
       "2018-01-01 00:21:01     Billinghurst y Valentin Gomez                    143   \n",
       "2018-01-01 00:21:30     Billinghurst y Valentin Gomez                    143   \n",
       "2018-01-01 00:22:48                           Cerrito                     71   \n",
       "2018-01-01 00:23:46                 Azucena Villaflor                     79   \n",
       "2018-01-01 00:24:19     Colegio Nacional Buenos Aires                     47   \n",
       "\n",
       "                       bici_sexo  bici_edad  bici_tiempo_uso_seg  \\\n",
       "bici_fecha_hora_retiro                                             \n",
       "2018-01-01 00:08:05            M         45               1193.0   \n",
       "2018-01-01 00:18:05            M         61               1579.0   \n",
       "2018-01-01 00:20:14            F         52               1659.0   \n",
       "2018-01-01 00:20:22            M         27               2931.0   \n",
       "2018-01-01 00:20:31            F         27               2967.0   \n",
       "2018-01-01 00:21:01            F         31               2170.0   \n",
       "2018-01-01 00:21:30            F         28               2131.0   \n",
       "2018-01-01 00:22:48            M         26               1867.0   \n",
       "2018-01-01 00:23:46            F         29               2068.0   \n",
       "2018-01-01 00:24:19            F         26               1028.0   \n",
       "\n",
       "                        time_uso_sklearn  bici_sexo-sklearn           PCA1  \\\n",
       "bici_fecha_hora_retiro                                                       \n",
       "2018-01-01 00:08:05                 1193                  1  323490.427925   \n",
       "2018-01-01 00:18:05                 1579                  1  323490.453899   \n",
       "2018-01-01 00:20:14                 1659                  0  323489.482888   \n",
       "2018-01-01 00:20:22                 2931                  1  323488.279979   \n",
       "2018-01-01 00:20:31                 2967                  0  323488.279925   \n",
       "2018-01-01 00:21:01                 2170                  0  323487.863364   \n",
       "2018-01-01 00:21:30                 2131                  0  323488.678486   \n",
       "2018-01-01 00:22:48                 1867                  1  323488.566011   \n",
       "2018-01-01 00:23:46                 2068                  0  323488.324020   \n",
       "2018-01-01 00:24:19                 1028                  0  323487.966029   \n",
       "\n",
       "                               PCA2  cluster_3  cluster_7  \n",
       "bici_fecha_hora_retiro                                     \n",
       "2018-01-01 00:08:05    -1519.728785          2          1  \n",
       "2018-01-01 00:18:05    -1519.455907          2          3  \n",
       "2018-01-01 00:20:14    -1519.399765          0          0  \n",
       "2018-01-01 00:20:22    -1518.502410          0          3  \n",
       "2018-01-01 00:20:31    -1518.476955          0          2  \n",
       "2018-01-01 00:21:01    -1519.039713          0          6  \n",
       "2018-01-01 00:21:30    -1519.067142          0          2  \n",
       "2018-01-01 00:22:48    -1519.253650          1          1  \n",
       "2018-01-01 00:23:46    -1519.111679          0          2  \n",
       "2018-01-01 00:24:19    -1519.846146          1          6  "
      ]
     },
     "execution_count": 28,
     "metadata": {},
     "output_type": "execute_result"
    }
   ],
   "source": [
    "df_aux.head(10)"
   ]
  }
 ],
 "metadata": {
  "kernelspec": {
   "display_name": "Python 3",
   "language": "python",
   "name": "python3"
  },
  "language_info": {
   "codemirror_mode": {
    "name": "ipython",
    "version": 3
   },
   "file_extension": ".py",
   "mimetype": "text/x-python",
   "name": "python",
   "nbconvert_exporter": "python",
   "pygments_lexer": "ipython3",
   "version": "3.7.1"
  },
  "toc": {
   "base_numbering": 1,
   "nav_menu": {},
   "number_sections": true,
   "sideBar": true,
   "skip_h1_title": false,
   "title_cell": "Table of Contents",
   "title_sidebar": "Contents",
   "toc_cell": false,
   "toc_position": {},
   "toc_section_display": true,
   "toc_window_display": true
  }
 },
 "nbformat": 4,
 "nbformat_minor": 2
}
